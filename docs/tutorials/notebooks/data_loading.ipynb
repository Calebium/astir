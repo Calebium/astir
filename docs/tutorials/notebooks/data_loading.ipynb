{
 "cells": [
  {
   "cell_type": "markdown",
   "metadata": {},
   "source": [
    "# Loading data into astir"
   ]
  },
  {
   "cell_type": "markdown",
   "metadata": {},
   "source": [
    "## 0. Loading necessary libraries"
   ]
  },
  {
   "cell_type": "code",
   "execution_count": 21,
   "metadata": {},
   "outputs": [
    {
     "name": "stdout",
     "output_type": "stream",
     "text": [
      "The autoreload extension is already loaded. To reload it, use:\n",
      "  %reload_ext autoreload\n"
     ]
    }
   ],
   "source": [
    "# !pip install -e ../../..\n",
    "%load_ext autoreload\n",
    "%autoreload 2\n",
    "import yaml\n",
    "import pandas as pd\n",
    "import astir as ast\n",
    "import numpy as np"
   ]
  },
  {
   "cell_type": "markdown",
   "metadata": {},
   "source": [
    "## 1. Starting Astir within python"
   ]
  },
  {
   "cell_type": "markdown",
   "metadata": {},
   "source": [
    "The input dataset should represent a collection of protein expression in single cells. The rows should represent the amount of various proteins expressed in one cell and the column represent the expression of one protein in different cells. A marker which maps the features (proteins) to cell type/state may also be required. A design matrix is optional. If provided, it should be either `np.array` or `pd.DataFrame`.\n",
    "\n",
    "The initialization of `Astir` requires input dataset `input_expr` as one of `pd.DataFrame`, `Tuple[np.array, List[str], List[str]]` and `Tuple[SCDataset, SCDataset]`. \n",
    "- When the input is `pd.DataFrame`, its row and column should respectively represent the cells and the features (proteins). \n",
    "- When the input is `Tuple[np.array, List[str], List[str]]`, the first element `np.array` is the input dataset, the second element `List[str]` is the title of the columns (the names of proteins) and the third element `List[str]` is the title of the rows (the name　of the cells). The length of the second and third list should be equal to the number of columns and rows of the first array. \n",
    "- When the input is `Tuple[SCDataset, SCDataset]`, the first `SCDataset` should be the cell type dataset and the second `SCDataset` should be the cell state dataset.\n",
    "\n",
    "The marker `marker_dict` is not required when `input_expr` is `Tuple[SCDataset, SCDataset]`. Otherwise, it is required to be `Dict[str, Dict[str, str]]`. The outer dictionary may have two keys: `cell_type` and `cell_state`. The two keys maps to the corresponding dictionary which maps the name of cell type/state to protein features. If the user is only intended to classify one of cell type and cell state, only the intended marker dictionary should be provided. So that marker_dict is one of `{\"cell_state\": {...}}`, `{\"cell_type\": {...}}` and `{\"cell_type\": {...}, \"cell_state\": {...}}`."
   ]
  },
  {
   "cell_type": "markdown",
   "metadata": {},
   "source": [
    "Here is some example:"
   ]
  },
  {
   "cell_type": "code",
   "execution_count": 19,
   "metadata": {},
   "outputs": [],
   "source": [
    "expression_mat_path = \"../../../astir/tests/test-data/test_data.csv\"\n",
    "yaml_marker_path = \"../../../astir/tests/test-data/jackson-2020-markers.yml\"\n",
    "design_mat_path = \"../../../astir/tests/test-data/design.csv\""
   ]
  },
  {
   "cell_type": "markdown",
   "metadata": {},
   "source": [
    "First, a marker dict should be read from yaml file:"
   ]
  },
  {
   "cell_type": "code",
   "execution_count": 8,
   "metadata": {},
   "outputs": [],
   "source": [
    "with open(yaml_marker_path, \"r\") as stream:\n",
    "    marker_dict = yaml.safe_load(stream)"
   ]
  },
  {
   "cell_type": "markdown",
   "metadata": {},
   "source": [
    "Second, the design matrix should be read from csv file:"
   ]
  },
  {
   "cell_type": "code",
   "execution_count": 17,
   "metadata": {},
   "outputs": [],
   "source": [
    "design_df = pd.read_csv(design_mat_path, index_col=0)"
   ]
  },
  {
   "cell_type": "markdown",
   "metadata": {},
   "source": [
    "Then if the user want to load the dataset as `pd.DataFrame`:"
   ]
  },
  {
   "cell_type": "code",
   "execution_count": 20,
   "metadata": {},
   "outputs": [],
   "source": [
    "df_expr = pd.read_csv(expression_mat_path, index_col=0)\n",
    "a = ast.Astir(input_expr=df_expr, marker_dict=marker_dict, design=design_df)"
   ]
  },
  {
   "cell_type": "markdown",
   "metadata": {},
   "source": [
    "Or if the user want to load the dataset as `np.array`:"
   ]
  },
  {
   "cell_type": "code",
   "execution_count": 24,
   "metadata": {},
   "outputs": [],
   "source": [
    "np_expr = df_expr.to_numpy()\n",
    "features = list(df_expr.columns)\n",
    "cores = list(df_expr.index)\n",
    "a = ast.Astir(input_expr=(np_expr, features, cores), marker_dict=marker_dict, design=design_df)"
   ]
  },
  {
   "cell_type": "markdown",
   "metadata": {},
   "source": [
    "Or if the user want to load the dataset as `SCDataset`:"
   ]
  },
  {
   "cell_type": "code",
   "execution_count": null,
   "metadata": {},
   "outputs": [],
   "source": [
    "scd = ast.SCDataset(expr_input=df_expr, marker_dict=marker_dict, design=design_df)"
   ]
  },
  {
   "cell_type": "markdown",
   "metadata": {},
   "source": [
    "## 2. Loading from csv and yaml files"
   ]
  },
  {
   "cell_type": "code",
   "execution_count": 1,
   "metadata": {},
   "outputs": [],
   "source": []
  },
  {
   "cell_type": "code",
   "execution_count": 1,
   "metadata": {},
   "outputs": [],
   "source": []
  },
  {
   "cell_type": "code",
   "execution_count": 1,
   "metadata": {},
   "outputs": [],
   "source": []
  },
  {
   "cell_type": "markdown",
   "metadata": {},
   "source": [
    "## 3. Loading from a directory of csvs and yaml"
   ]
  },
  {
   "cell_type": "code",
   "execution_count": 1,
   "metadata": {},
   "outputs": [],
   "source": []
  },
  {
   "cell_type": "code",
   "execution_count": 1,
   "metadata": {},
   "outputs": [],
   "source": []
  },
  {
   "cell_type": "code",
   "execution_count": 1,
   "metadata": {},
   "outputs": [],
   "source": []
  },
  {
   "cell_type": "markdown",
   "metadata": {},
   "source": [
    "## 4. Loading from loom"
   ]
  },
  {
   "cell_type": "code",
   "execution_count": 1,
   "metadata": {},
   "outputs": [],
   "source": []
  },
  {
   "cell_type": "code",
   "execution_count": 1,
   "metadata": {},
   "outputs": [],
   "source": []
  },
  {
   "cell_type": "code",
   "execution_count": 1,
   "metadata": {},
   "outputs": [],
   "source": []
  },
  {
   "cell_type": "markdown",
   "metadata": {},
   "source": [
    "## 5. Loading from anndata"
   ]
  },
  {
   "cell_type": "markdown",
   "metadata": {},
   "source": [
    "We can read in data from the [AnnData](https://anndata.readthedocs.io/en/stable/anndata.AnnData.html) format, along with a `yaml` file containing marker information using the `from_anndata_yaml` function:"
   ]
  },
  {
   "cell_type": "code",
   "execution_count": 2,
   "metadata": {},
   "outputs": [
    {
     "name": "stdout",
     "output_type": "stream",
     "text": [
      "Astir object with 6 cell types, 4 cell states, and 10 cells.\n"
     ]
    }
   ],
   "source": [
    "import os\n",
    "import sys\n",
    "module_path = os.path.abspath(os.path.join('../../..'))\n",
    "if module_path not in sys.path:\n",
    "    sys.path.append(module_path)\n",
    "\n",
    "from astir.data import from_anndata_yaml\n",
    "ast = from_anndata_yaml(anndata_file=\"../../../astir/tests/test-data/adata_small.h5ad\", \n",
    "                        marker_yaml=\"../../../astir/tests/test-data/jackson-2020-markers.yml\",\n",
    "                        protein_name=\"protein\",\n",
    "                        cell_name=\"cell_name\",\n",
    "                        batch_name=\"batch\")\n",
    "print(ast)"
   ]
  },
  {
   "cell_type": "markdown",
   "metadata": {},
   "source": [
    "Some notes:\n",
    "\n",
    "1. The protein and cell names are taken from `adata.var[protein_name]` and `adata.obs[cell_name]` respectively if specified, and `adata.var_names` and `adata.obs_names` otherwise.\n",
    "\n",
    "2. If `batch_name` is sepecified, the corresponding column of `adata.var` will be assumed as the batch variable and turned into a design matrix."
   ]
  },
  {
   "cell_type": "code",
   "execution_count": 3,
   "metadata": {},
   "outputs": [
    {
     "data": {
      "text/plain": [
       "torch.Tensor"
      ]
     },
     "execution_count": 3,
     "metadata": {},
     "output_type": "execute_result"
    }
   ],
   "source": [
    "type(ast.get_type_dataset().get_exprs())"
   ]
  },
  {
   "cell_type": "code",
   "execution_count": 4,
   "metadata": {},
   "outputs": [
    {
     "data": {
      "text/html": [
       "<div>\n",
       "<style scoped>\n",
       "    .dataframe tbody tr th:only-of-type {\n",
       "        vertical-align: middle;\n",
       "    }\n",
       "\n",
       "    .dataframe tbody tr th {\n",
       "        vertical-align: top;\n",
       "    }\n",
       "\n",
       "    .dataframe thead th {\n",
       "        text-align: right;\n",
       "    }\n",
       "</style>\n",
       "<table border=\"1\" class=\"dataframe\">\n",
       "  <thead>\n",
       "    <tr style=\"text-align: right;\">\n",
       "      <th></th>\n",
       "      <th>CD20</th>\n",
       "      <th>CD3</th>\n",
       "      <th>CD45</th>\n",
       "      <th>CD68</th>\n",
       "      <th>Cytokeratin 14</th>\n",
       "      <th>Cytokeratin 19</th>\n",
       "      <th>Cytokeratin 5</th>\n",
       "      <th>Cytokeratin 7</th>\n",
       "      <th>Cytokeratin 8/18</th>\n",
       "      <th>E-Cadherin</th>\n",
       "      <th>Fibronectin</th>\n",
       "      <th>Her2</th>\n",
       "      <th>Vimentin</th>\n",
       "      <th>pan Cytokeratin</th>\n",
       "    </tr>\n",
       "  </thead>\n",
       "  <tbody>\n",
       "    <tr>\n",
       "      <th>ZTMA208_slide_11_By5x8_1</th>\n",
       "      <td>0.168521</td>\n",
       "      <td>0.090277</td>\n",
       "      <td>0.271871</td>\n",
       "      <td>0.412439</td>\n",
       "      <td>0.087354</td>\n",
       "      <td>0.155710</td>\n",
       "      <td>0.100308</td>\n",
       "      <td>0.000000</td>\n",
       "      <td>0.096674</td>\n",
       "      <td>0.974271</td>\n",
       "      <td>2.867470</td>\n",
       "      <td>0.552905</td>\n",
       "      <td>2.335253</td>\n",
       "      <td>1.361075</td>\n",
       "    </tr>\n",
       "    <tr>\n",
       "      <th>ZTMA208_slide_11_By5x8_2</th>\n",
       "      <td>0.366301</td>\n",
       "      <td>0.352614</td>\n",
       "      <td>0.284034</td>\n",
       "      <td>0.312862</td>\n",
       "      <td>0.152354</td>\n",
       "      <td>0.508728</td>\n",
       "      <td>0.028651</td>\n",
       "      <td>0.029904</td>\n",
       "      <td>0.749755</td>\n",
       "      <td>2.787740</td>\n",
       "      <td>2.174494</td>\n",
       "      <td>1.046198</td>\n",
       "      <td>0.285699</td>\n",
       "      <td>2.454543</td>\n",
       "    </tr>\n",
       "    <tr>\n",
       "      <th>ZTMA208_slide_11_By5x8_3</th>\n",
       "      <td>0.177006</td>\n",
       "      <td>0.103808</td>\n",
       "      <td>0.150791</td>\n",
       "      <td>0.122472</td>\n",
       "      <td>0.292241</td>\n",
       "      <td>0.634366</td>\n",
       "      <td>0.090457</td>\n",
       "      <td>0.056627</td>\n",
       "      <td>0.446911</td>\n",
       "      <td>1.927940</td>\n",
       "      <td>2.997043</td>\n",
       "      <td>1.020517</td>\n",
       "      <td>2.887193</td>\n",
       "      <td>2.590460</td>\n",
       "    </tr>\n",
       "    <tr>\n",
       "      <th>ZTMA208_slide_11_By5x8_4</th>\n",
       "      <td>0.304068</td>\n",
       "      <td>0.222802</td>\n",
       "      <td>0.219736</td>\n",
       "      <td>0.277622</td>\n",
       "      <td>0.373870</td>\n",
       "      <td>2.212514</td>\n",
       "      <td>0.304824</td>\n",
       "      <td>0.000000</td>\n",
       "      <td>1.904837</td>\n",
       "      <td>3.175959</td>\n",
       "      <td>1.598163</td>\n",
       "      <td>2.269974</td>\n",
       "      <td>0.877098</td>\n",
       "      <td>4.250308</td>\n",
       "    </tr>\n",
       "    <tr>\n",
       "      <th>ZTMA208_slide_11_By5x8_5</th>\n",
       "      <td>0.137789</td>\n",
       "      <td>0.130010</td>\n",
       "      <td>0.105604</td>\n",
       "      <td>1.035280</td>\n",
       "      <td>0.212105</td>\n",
       "      <td>0.144144</td>\n",
       "      <td>0.074692</td>\n",
       "      <td>0.000000</td>\n",
       "      <td>0.000000</td>\n",
       "      <td>1.900182</td>\n",
       "      <td>2.326346</td>\n",
       "      <td>0.610897</td>\n",
       "      <td>2.882146</td>\n",
       "      <td>0.275225</td>\n",
       "    </tr>\n",
       "    <tr>\n",
       "      <th>ZTMA208_slide_11_By5x8_6</th>\n",
       "      <td>0.182926</td>\n",
       "      <td>0.169596</td>\n",
       "      <td>0.270698</td>\n",
       "      <td>0.257178</td>\n",
       "      <td>0.224863</td>\n",
       "      <td>1.143546</td>\n",
       "      <td>0.189600</td>\n",
       "      <td>0.001542</td>\n",
       "      <td>0.650384</td>\n",
       "      <td>2.580153</td>\n",
       "      <td>1.891692</td>\n",
       "      <td>1.724237</td>\n",
       "      <td>1.931947</td>\n",
       "      <td>2.994441</td>\n",
       "    </tr>\n",
       "    <tr>\n",
       "      <th>ZTMA208_slide_11_By5x8_7</th>\n",
       "      <td>0.239257</td>\n",
       "      <td>0.149007</td>\n",
       "      <td>0.351788</td>\n",
       "      <td>0.138080</td>\n",
       "      <td>0.142505</td>\n",
       "      <td>1.415104</td>\n",
       "      <td>0.124484</td>\n",
       "      <td>0.001245</td>\n",
       "      <td>1.091975</td>\n",
       "      <td>2.696699</td>\n",
       "      <td>1.994174</td>\n",
       "      <td>1.796137</td>\n",
       "      <td>0.127125</td>\n",
       "      <td>3.523499</td>\n",
       "    </tr>\n",
       "    <tr>\n",
       "      <th>ZTMA208_slide_11_By5x8_8</th>\n",
       "      <td>0.175299</td>\n",
       "      <td>0.153332</td>\n",
       "      <td>0.215698</td>\n",
       "      <td>0.104709</td>\n",
       "      <td>0.237387</td>\n",
       "      <td>2.190369</td>\n",
       "      <td>0.264600</td>\n",
       "      <td>0.000000</td>\n",
       "      <td>1.457901</td>\n",
       "      <td>2.788996</td>\n",
       "      <td>1.859896</td>\n",
       "      <td>1.726696</td>\n",
       "      <td>0.106661</td>\n",
       "      <td>4.245234</td>\n",
       "    </tr>\n",
       "    <tr>\n",
       "      <th>ZTMA208_slide_11_By5x8_9</th>\n",
       "      <td>0.210541</td>\n",
       "      <td>0.118273</td>\n",
       "      <td>0.146135</td>\n",
       "      <td>0.148164</td>\n",
       "      <td>0.362226</td>\n",
       "      <td>1.267224</td>\n",
       "      <td>0.173477</td>\n",
       "      <td>0.000000</td>\n",
       "      <td>0.842407</td>\n",
       "      <td>2.950440</td>\n",
       "      <td>1.852758</td>\n",
       "      <td>2.183716</td>\n",
       "      <td>0.957369</td>\n",
       "      <td>3.098247</td>\n",
       "    </tr>\n",
       "    <tr>\n",
       "      <th>ZTMA208_slide_11_By5x8_10</th>\n",
       "      <td>0.308899</td>\n",
       "      <td>0.326121</td>\n",
       "      <td>0.224866</td>\n",
       "      <td>0.276182</td>\n",
       "      <td>0.140240</td>\n",
       "      <td>2.032473</td>\n",
       "      <td>0.334358</td>\n",
       "      <td>0.000000</td>\n",
       "      <td>1.503531</td>\n",
       "      <td>2.938590</td>\n",
       "      <td>2.192502</td>\n",
       "      <td>2.312838</td>\n",
       "      <td>1.337983</td>\n",
       "      <td>4.199266</td>\n",
       "    </tr>\n",
       "  </tbody>\n",
       "</table>\n",
       "</div>"
      ],
      "text/plain": [
       "                               CD20       CD3      CD45      CD68  \\\n",
       "ZTMA208_slide_11_By5x8_1   0.168521  0.090277  0.271871  0.412439   \n",
       "ZTMA208_slide_11_By5x8_2   0.366301  0.352614  0.284034  0.312862   \n",
       "ZTMA208_slide_11_By5x8_3   0.177006  0.103808  0.150791  0.122472   \n",
       "ZTMA208_slide_11_By5x8_4   0.304068  0.222802  0.219736  0.277622   \n",
       "ZTMA208_slide_11_By5x8_5   0.137789  0.130010  0.105604  1.035280   \n",
       "ZTMA208_slide_11_By5x8_6   0.182926  0.169596  0.270698  0.257178   \n",
       "ZTMA208_slide_11_By5x8_7   0.239257  0.149007  0.351788  0.138080   \n",
       "ZTMA208_slide_11_By5x8_8   0.175299  0.153332  0.215698  0.104709   \n",
       "ZTMA208_slide_11_By5x8_9   0.210541  0.118273  0.146135  0.148164   \n",
       "ZTMA208_slide_11_By5x8_10  0.308899  0.326121  0.224866  0.276182   \n",
       "\n",
       "                           Cytokeratin 14  Cytokeratin 19  Cytokeratin 5  \\\n",
       "ZTMA208_slide_11_By5x8_1         0.087354        0.155710       0.100308   \n",
       "ZTMA208_slide_11_By5x8_2         0.152354        0.508728       0.028651   \n",
       "ZTMA208_slide_11_By5x8_3         0.292241        0.634366       0.090457   \n",
       "ZTMA208_slide_11_By5x8_4         0.373870        2.212514       0.304824   \n",
       "ZTMA208_slide_11_By5x8_5         0.212105        0.144144       0.074692   \n",
       "ZTMA208_slide_11_By5x8_6         0.224863        1.143546       0.189600   \n",
       "ZTMA208_slide_11_By5x8_7         0.142505        1.415104       0.124484   \n",
       "ZTMA208_slide_11_By5x8_8         0.237387        2.190369       0.264600   \n",
       "ZTMA208_slide_11_By5x8_9         0.362226        1.267224       0.173477   \n",
       "ZTMA208_slide_11_By5x8_10        0.140240        2.032473       0.334358   \n",
       "\n",
       "                           Cytokeratin 7  Cytokeratin 8/18  E-Cadherin  \\\n",
       "ZTMA208_slide_11_By5x8_1        0.000000          0.096674    0.974271   \n",
       "ZTMA208_slide_11_By5x8_2        0.029904          0.749755    2.787740   \n",
       "ZTMA208_slide_11_By5x8_3        0.056627          0.446911    1.927940   \n",
       "ZTMA208_slide_11_By5x8_4        0.000000          1.904837    3.175959   \n",
       "ZTMA208_slide_11_By5x8_5        0.000000          0.000000    1.900182   \n",
       "ZTMA208_slide_11_By5x8_6        0.001542          0.650384    2.580153   \n",
       "ZTMA208_slide_11_By5x8_7        0.001245          1.091975    2.696699   \n",
       "ZTMA208_slide_11_By5x8_8        0.000000          1.457901    2.788996   \n",
       "ZTMA208_slide_11_By5x8_9        0.000000          0.842407    2.950440   \n",
       "ZTMA208_slide_11_By5x8_10       0.000000          1.503531    2.938590   \n",
       "\n",
       "                           Fibronectin      Her2  Vimentin  pan Cytokeratin  \n",
       "ZTMA208_slide_11_By5x8_1      2.867470  0.552905  2.335253         1.361075  \n",
       "ZTMA208_slide_11_By5x8_2      2.174494  1.046198  0.285699         2.454543  \n",
       "ZTMA208_slide_11_By5x8_3      2.997043  1.020517  2.887193         2.590460  \n",
       "ZTMA208_slide_11_By5x8_4      1.598163  2.269974  0.877098         4.250308  \n",
       "ZTMA208_slide_11_By5x8_5      2.326346  0.610897  2.882146         0.275225  \n",
       "ZTMA208_slide_11_By5x8_6      1.891692  1.724237  1.931947         2.994441  \n",
       "ZTMA208_slide_11_By5x8_7      1.994174  1.796137  0.127125         3.523499  \n",
       "ZTMA208_slide_11_By5x8_8      1.859896  1.726696  0.106661         4.245234  \n",
       "ZTMA208_slide_11_By5x8_9      1.852758  2.183716  0.957369         3.098247  \n",
       "ZTMA208_slide_11_By5x8_10     2.192502  2.312838  1.337983         4.199266  "
      ]
     },
     "execution_count": 4,
     "metadata": {},
     "output_type": "execute_result"
    }
   ],
   "source": [
    "ast.get_type_dataset().get_exprs_df()"
   ]
  },
  {
   "cell_type": "code",
   "execution_count": 4,
   "metadata": {},
   "outputs": [],
   "source": []
  }
 ],
 "metadata": {
  "kernelspec": {
   "display_name": "Python 3",
   "language": "python",
   "name": "python3"
  },
  "language_info": {
   "codemirror_mode": {
    "name": "ipython",
    "version": 3
   },
   "file_extension": ".py",
   "mimetype": "text/x-python",
   "name": "python",
   "nbconvert_exporter": "python",
   "pygments_lexer": "ipython3",
   "version": "3.7.6"
  }
 },
 "nbformat": 4,
 "nbformat_minor": 4
}

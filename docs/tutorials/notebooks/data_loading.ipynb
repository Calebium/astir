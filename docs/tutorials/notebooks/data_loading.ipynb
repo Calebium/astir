{
 "cells": [
  {
   "cell_type": "markdown",
   "metadata": {},
   "source": [
    "# Loading data into astir"
   ]
  },
  {
   "cell_type": "markdown",
   "metadata": {},
   "source": [
    "## Table of Contents:\n",
    "* [0 Loading necessary libraries](#zero)\n",
    "* [1 Starting Astir within python](#one)\n",
    "    * [1.0 Loading marker dictionary and design matrix](#one0)\n",
    "    * [1.1 Loading data as pd.DataFrame](#one1)\n",
    "    * [1.2 Loading data as np.array](#one2)\n",
    "    * [1.3 Loading data as SCDataset](#one3)\n",
    "* [2 Loading from csv and yaml files](#two)\n",
    "* [3 Loading from a directory of csvs and yaml](#three)\n",
    "* [4 Loading from loom](#four)\n",
    "* [5 Loading from anndata](#five)"
   ]
  },
  {
   "cell_type": "markdown",
   "metadata": {},
   "source": [
    "## 0. Loading necessary libraries and define paths <a class=\"anchor\" id=\"zero\"></a>"
   ]
  },
  {
   "cell_type": "code",
   "execution_count": 43,
   "metadata": {},
   "outputs": [
    {
     "name": "stdout",
     "output_type": "stream",
     "text": [
      "Obtaining file:///Users/sunyunlee/Desktop/astir\r\n",
      "Requirement already satisfied: torch in /Users/sunyunlee/anaconda3/lib/python3.7/site-packages (from astir==0.0.1) (1.5.1)\r\n",
      "Requirement already satisfied: pandas in /Users/sunyunlee/anaconda3/lib/python3.7/site-packages (from astir==0.0.1) (1.0.1)\r\n",
      "Requirement already satisfied: numpy in /Users/sunyunlee/anaconda3/lib/python3.7/site-packages (from astir==0.0.1) (1.18.1)\r\n",
      "Requirement already satisfied: nbformat in /Users/sunyunlee/anaconda3/lib/python3.7/site-packages (from astir==0.0.1) (5.0.4)\r\n",
      "Requirement already satisfied: pyyaml in /Users/sunyunlee/anaconda3/lib/python3.7/site-packages (from astir==0.0.1) (5.3)\r\n",
      "Requirement already satisfied: sklearn in /Users/sunyunlee/anaconda3/lib/python3.7/site-packages (from astir==0.0.1) (0.0)\r\n",
      "Requirement already satisfied: argparse in /Users/sunyunlee/anaconda3/lib/python3.7/site-packages (from astir==0.0.1) (1.4.0)\r\n",
      "Requirement already satisfied: matplotlib in /Users/sunyunlee/anaconda3/lib/python3.7/site-packages (from astir==0.0.1) (3.1.3)\r\n",
      "Collecting loompy==2.0.17\r\n",
      "  Downloading loompy-2.0.17.tar.gz (32 kB)\r\n",
      "Requirement already satisfied: tqdm in /Users/sunyunlee/anaconda3/lib/python3.7/site-packages (from astir==0.0.1) (4.42.1)\r\n",
      "Requirement already satisfied: anndata in /Users/sunyunlee/anaconda3/lib/python3.7/site-packages (from astir==0.0.1) (0.7.3)\r\n",
      "Requirement already satisfied: rootpath in /Users/sunyunlee/anaconda3/lib/python3.7/site-packages (from astir==0.0.1) (0.1.1)\r\n",
      "Requirement already satisfied: nbconvert in /Users/sunyunlee/anaconda3/lib/python3.7/site-packages (from astir==0.0.1) (5.6.1)\r\n",
      "Requirement already satisfied: seaborn in /Users/sunyunlee/anaconda3/lib/python3.7/site-packages (from astir==0.0.1) (0.10.0)\r\n",
      "Requirement already satisfied: jupyter_client in /Users/sunyunlee/anaconda3/lib/python3.7/site-packages (from astir==0.0.1) (5.3.4)\r\n",
      "Requirement already satisfied: ipykernel in /Users/sunyunlee/anaconda3/lib/python3.7/site-packages (from astir==0.0.1) (5.1.4)\r\n",
      "Requirement already satisfied: ipython in /Users/sunyunlee/anaconda3/lib/python3.7/site-packages (from astir==0.0.1) (7.12.0)\r\n",
      "Requirement already satisfied: h5py in /Users/sunyunlee/anaconda3/lib/python3.7/site-packages (from astir==0.0.1) (2.10.0)\r\n",
      "Requirement already satisfied: FlowCytometryTools in /Users/sunyunlee/anaconda3/lib/python3.7/site-packages (from astir==0.0.1) (0.5.0)\r\n",
      "Requirement already satisfied: fastcluster in /Users/sunyunlee/anaconda3/lib/python3.7/site-packages (from astir==0.0.1) (1.1.26)\r\n",
      "Requirement already satisfied: future in /Users/sunyunlee/anaconda3/lib/python3.7/site-packages (from torch->astir==0.0.1) (0.18.2)\r\n",
      "Requirement already satisfied: pytz>=2017.2 in /Users/sunyunlee/anaconda3/lib/python3.7/site-packages (from pandas->astir==0.0.1) (2019.3)\r\n",
      "Requirement already satisfied: python-dateutil>=2.6.1 in /Users/sunyunlee/anaconda3/lib/python3.7/site-packages (from pandas->astir==0.0.1) (2.8.1)\r\n",
      "Requirement already satisfied: ipython-genutils in /Users/sunyunlee/anaconda3/lib/python3.7/site-packages (from nbformat->astir==0.0.1) (0.2.0)\r\n",
      "Requirement already satisfied: jupyter-core in /Users/sunyunlee/anaconda3/lib/python3.7/site-packages (from nbformat->astir==0.0.1) (4.6.1)\r\n",
      "Requirement already satisfied: traitlets>=4.1 in /Users/sunyunlee/anaconda3/lib/python3.7/site-packages (from nbformat->astir==0.0.1) (4.3.3)\r\n",
      "Requirement already satisfied: jsonschema!=2.5.0,>=2.4 in /Users/sunyunlee/anaconda3/lib/python3.7/site-packages (from nbformat->astir==0.0.1) (3.2.0)\r\n",
      "Requirement already satisfied: scikit-learn in /Users/sunyunlee/anaconda3/lib/python3.7/site-packages (from sklearn->astir==0.0.1) (0.22.1)\r\n",
      "Requirement already satisfied: cycler>=0.10 in /Users/sunyunlee/anaconda3/lib/python3.7/site-packages (from matplotlib->astir==0.0.1) (0.10.0)\r\n",
      "Requirement already satisfied: pyparsing!=2.0.4,!=2.1.2,!=2.1.6,>=2.0.1 in /Users/sunyunlee/anaconda3/lib/python3.7/site-packages (from matplotlib->astir==0.0.1) (2.4.6)\r\n",
      "Requirement already satisfied: kiwisolver>=1.0.1 in /Users/sunyunlee/anaconda3/lib/python3.7/site-packages (from matplotlib->astir==0.0.1) (1.1.0)\r\n",
      "Requirement already satisfied: scipy in /Users/sunyunlee/anaconda3/lib/python3.7/site-packages (from loompy==2.0.17->astir==0.0.1) (1.4.1)\r\n",
      "Requirement already satisfied: setuptools in /Users/sunyunlee/anaconda3/lib/python3.7/site-packages (from loompy==2.0.17->astir==0.0.1) (46.0.0.post20200309)\r\n",
      "Requirement already satisfied: natsort in /Users/sunyunlee/anaconda3/lib/python3.7/site-packages (from anndata->astir==0.0.1) (7.0.1)\r\n",
      "Requirement already satisfied: packaging in /Users/sunyunlee/anaconda3/lib/python3.7/site-packages (from anndata->astir==0.0.1) (20.1)\r\n",
      "Requirement already satisfied: importlib-metadata>=0.7; python_version < \"3.8\" in /Users/sunyunlee/anaconda3/lib/python3.7/site-packages (from anndata->astir==0.0.1) (1.5.0)\r\n",
      "Requirement already satisfied: codecov>=2.0.15 in /Users/sunyunlee/anaconda3/lib/python3.7/site-packages (from rootpath->astir==0.0.1) (2.1.7)\r\n",
      "Requirement already satisfied: coverage>=4.5.2 in /Users/sunyunlee/anaconda3/lib/python3.7/site-packages (from rootpath->astir==0.0.1) (5.1)\r\n",
      "Requirement already satisfied: termcolor>=1.1.0 in /Users/sunyunlee/anaconda3/lib/python3.7/site-packages (from rootpath->astir==0.0.1) (1.1.0)\r\n",
      "Requirement already satisfied: six>=1.11.0 in /Users/sunyunlee/anaconda3/lib/python3.7/site-packages (from rootpath->astir==0.0.1) (1.14.0)\r\n",
      "Requirement already satisfied: colour-runner>=0.0.5 in /Users/sunyunlee/anaconda3/lib/python3.7/site-packages (from rootpath->astir==0.0.1) (0.1.1)\r\n",
      "Requirement already satisfied: pygments>=2.2.0 in /Users/sunyunlee/anaconda3/lib/python3.7/site-packages (from rootpath->astir==0.0.1) (2.5.2)\r\n",
      "Requirement already satisfied: tox>=3.0.0 in /Users/sunyunlee/anaconda3/lib/python3.7/site-packages (from rootpath->astir==0.0.1) (3.16.1)\r\n",
      "Requirement already satisfied: deepdiff>=3.3.0 in /Users/sunyunlee/anaconda3/lib/python3.7/site-packages (from rootpath->astir==0.0.1) (5.0.1)\r\n",
      "Requirement already satisfied: coloredlogs>=10.0 in /Users/sunyunlee/anaconda3/lib/python3.7/site-packages (from rootpath->astir==0.0.1) (14.0)\r\n",
      "Requirement already satisfied: mistune<2,>=0.8.1 in /Users/sunyunlee/anaconda3/lib/python3.7/site-packages (from nbconvert->astir==0.0.1) (0.8.4)\r\n",
      "Requirement already satisfied: pandocfilters>=1.4.1 in /Users/sunyunlee/anaconda3/lib/python3.7/site-packages (from nbconvert->astir==0.0.1) (1.4.2)\r\n",
      "Requirement already satisfied: entrypoints>=0.2.2 in /Users/sunyunlee/anaconda3/lib/python3.7/site-packages (from nbconvert->astir==0.0.1) (0.3)\r\n",
      "Requirement already satisfied: defusedxml in /Users/sunyunlee/anaconda3/lib/python3.7/site-packages (from nbconvert->astir==0.0.1) (0.6.0)\r\n",
      "Requirement already satisfied: bleach in /Users/sunyunlee/anaconda3/lib/python3.7/site-packages (from nbconvert->astir==0.0.1) (3.1.0)\r\n",
      "Requirement already satisfied: testpath in /Users/sunyunlee/anaconda3/lib/python3.7/site-packages (from nbconvert->astir==0.0.1) (0.4.4)\r\n",
      "Requirement already satisfied: jinja2>=2.4 in /Users/sunyunlee/anaconda3/lib/python3.7/site-packages (from nbconvert->astir==0.0.1) (2.11.1)\r\n",
      "Requirement already satisfied: tornado>=4.1 in /Users/sunyunlee/anaconda3/lib/python3.7/site-packages (from jupyter_client->astir==0.0.1) (6.0.3)\r\n",
      "Requirement already satisfied: pyzmq>=13 in /Users/sunyunlee/anaconda3/lib/python3.7/site-packages (from jupyter_client->astir==0.0.1) (18.1.1)\r\n",
      "Requirement already satisfied: appnope; platform_system == \"Darwin\" in /Users/sunyunlee/anaconda3/lib/python3.7/site-packages (from ipykernel->astir==0.0.1) (0.1.0)\r\n",
      "Requirement already satisfied: jedi>=0.10 in /Users/sunyunlee/anaconda3/lib/python3.7/site-packages (from ipython->astir==0.0.1) (0.14.1)\r\n",
      "Requirement already satisfied: decorator in /Users/sunyunlee/anaconda3/lib/python3.7/site-packages (from ipython->astir==0.0.1) (4.4.1)\r\n",
      "Requirement already satisfied: backcall in /Users/sunyunlee/anaconda3/lib/python3.7/site-packages (from ipython->astir==0.0.1) (0.1.0)\r\n",
      "Requirement already satisfied: pickleshare in /Users/sunyunlee/anaconda3/lib/python3.7/site-packages (from ipython->astir==0.0.1) (0.7.5)\r\n",
      "Requirement already satisfied: prompt-toolkit!=3.0.0,!=3.0.1,<3.1.0,>=2.0.0 in /Users/sunyunlee/anaconda3/lib/python3.7/site-packages (from ipython->astir==0.0.1) (3.0.3)\r\n",
      "Requirement already satisfied: pexpect; sys_platform != \"win32\" in /Users/sunyunlee/anaconda3/lib/python3.7/site-packages (from ipython->astir==0.0.1) (4.8.0)\r\n",
      "Requirement already satisfied: fcsparser>=0.1.1 in /Users/sunyunlee/anaconda3/lib/python3.7/site-packages (from FlowCytometryTools->astir==0.0.1) (0.2.1)\r\n",
      "Requirement already satisfied: attrs>=17.4.0 in /Users/sunyunlee/anaconda3/lib/python3.7/site-packages (from jsonschema!=2.5.0,>=2.4->nbformat->astir==0.0.1) (19.3.0)\r\n",
      "Requirement already satisfied: pyrsistent>=0.14.0 in /Users/sunyunlee/anaconda3/lib/python3.7/site-packages (from jsonschema!=2.5.0,>=2.4->nbformat->astir==0.0.1) (0.15.7)\r\n",
      "Requirement already satisfied: joblib>=0.11 in /Users/sunyunlee/anaconda3/lib/python3.7/site-packages (from scikit-learn->sklearn->astir==0.0.1) (0.14.1)\r\n",
      "Requirement already satisfied: zipp>=0.5 in /Users/sunyunlee/anaconda3/lib/python3.7/site-packages (from importlib-metadata>=0.7; python_version < \"3.8\"->anndata->astir==0.0.1) (2.2.0)\r\n",
      "Requirement already satisfied: requests>=2.7.9 in /Users/sunyunlee/anaconda3/lib/python3.7/site-packages (from codecov>=2.0.15->rootpath->astir==0.0.1) (2.22.0)\r\n",
      "Requirement already satisfied: blessings in /Users/sunyunlee/anaconda3/lib/python3.7/site-packages (from colour-runner>=0.0.5->rootpath->astir==0.0.1) (1.7)\r\n",
      "Requirement already satisfied: filelock>=3.0.0 in /Users/sunyunlee/anaconda3/lib/python3.7/site-packages (from tox>=3.0.0->rootpath->astir==0.0.1) (3.0.12)\r\n",
      "Requirement already satisfied: toml>=0.9.4 in /Users/sunyunlee/anaconda3/lib/python3.7/site-packages (from tox>=3.0.0->rootpath->astir==0.0.1) (0.10.1)\r\n",
      "Requirement already satisfied: py>=1.4.17 in /Users/sunyunlee/anaconda3/lib/python3.7/site-packages (from tox>=3.0.0->rootpath->astir==0.0.1) (1.8.1)\r\n",
      "Requirement already satisfied: pluggy>=0.12.0 in /Users/sunyunlee/anaconda3/lib/python3.7/site-packages (from tox>=3.0.0->rootpath->astir==0.0.1) (0.13.1)\r\n",
      "Requirement already satisfied: virtualenv!=20.0.0,!=20.0.1,!=20.0.2,!=20.0.3,!=20.0.4,!=20.0.5,!=20.0.6,!=20.0.7,>=16.0.0 in /Users/sunyunlee/anaconda3/lib/python3.7/site-packages (from tox>=3.0.0->rootpath->astir==0.0.1) (20.0.25)\r\n",
      "Requirement already satisfied: ordered-set>=4.0.1 in /Users/sunyunlee/anaconda3/lib/python3.7/site-packages (from deepdiff>=3.3.0->rootpath->astir==0.0.1) (4.0.2)\r\n",
      "Requirement already satisfied: humanfriendly>=7.1 in /Users/sunyunlee/anaconda3/lib/python3.7/site-packages (from coloredlogs>=10.0->rootpath->astir==0.0.1) (8.2)\r\n",
      "Requirement already satisfied: webencodings in /Users/sunyunlee/anaconda3/lib/python3.7/site-packages (from bleach->nbconvert->astir==0.0.1) (0.5.1)\r\n",
      "Requirement already satisfied: MarkupSafe>=0.23 in /Users/sunyunlee/anaconda3/lib/python3.7/site-packages (from jinja2>=2.4->nbconvert->astir==0.0.1) (1.1.1)\r\n",
      "Requirement already satisfied: parso>=0.5.0 in /Users/sunyunlee/anaconda3/lib/python3.7/site-packages (from jedi>=0.10->ipython->astir==0.0.1) (0.5.2)\r\n",
      "Requirement already satisfied: wcwidth in /Users/sunyunlee/anaconda3/lib/python3.7/site-packages (from prompt-toolkit!=3.0.0,!=3.0.1,<3.1.0,>=2.0.0->ipython->astir==0.0.1) (0.1.8)\r\n",
      "Requirement already satisfied: ptyprocess>=0.5 in /Users/sunyunlee/anaconda3/lib/python3.7/site-packages (from pexpect; sys_platform != \"win32\"->ipython->astir==0.0.1) (0.6.0)\r\n",
      "Requirement already satisfied: certifi>=2017.4.17 in /Users/sunyunlee/anaconda3/lib/python3.7/site-packages (from requests>=2.7.9->codecov>=2.0.15->rootpath->astir==0.0.1) (2019.11.28)\r\n",
      "Requirement already satisfied: urllib3!=1.25.0,!=1.25.1,<1.26,>=1.21.1 in /Users/sunyunlee/anaconda3/lib/python3.7/site-packages (from requests>=2.7.9->codecov>=2.0.15->rootpath->astir==0.0.1) (1.25.8)\r\n",
      "Requirement already satisfied: chardet<3.1.0,>=3.0.2 in /Users/sunyunlee/anaconda3/lib/python3.7/site-packages (from requests>=2.7.9->codecov>=2.0.15->rootpath->astir==0.0.1) (3.0.4)\r\n",
      "Requirement already satisfied: idna<2.9,>=2.5 in /Users/sunyunlee/anaconda3/lib/python3.7/site-packages (from requests>=2.7.9->codecov>=2.0.15->rootpath->astir==0.0.1) (2.8)\r\n",
      "Requirement already satisfied: appdirs<2,>=1.4.3 in /Users/sunyunlee/anaconda3/lib/python3.7/site-packages (from virtualenv!=20.0.0,!=20.0.1,!=20.0.2,!=20.0.3,!=20.0.4,!=20.0.5,!=20.0.6,!=20.0.7,>=16.0.0->tox>=3.0.0->rootpath->astir==0.0.1) (1.4.4)\r\n",
      "Requirement already satisfied: distlib<1,>=0.3.0 in /Users/sunyunlee/anaconda3/lib/python3.7/site-packages (from virtualenv!=20.0.0,!=20.0.1,!=20.0.2,!=20.0.3,!=20.0.4,!=20.0.5,!=20.0.6,!=20.0.7,>=16.0.0->tox>=3.0.0->rootpath->astir==0.0.1) (0.3.1)\r\n",
      "Building wheels for collected packages: loompy\r\n",
      "  Building wheel for loompy (setup.py) ... \u001B[?25l-\b \b\\\b \bdone\r\n",
      "\u001B[?25h  Created wheel for loompy: filename=loompy-2.0.17-py3-none-any.whl size=38394 sha256=598e52c23d4221afc898759a6a3dec148d8753acca008fa8aa015c5e7a6d1f56\r\n",
      "  Stored in directory: /Users/sunyunlee/Library/Caches/pip/wheels/66/75/69/d1f0a5a1517d75a8b4e9e76b47e4a42394c23baf8e2753307c\r\n",
      "Successfully built loompy\r\n",
      "Installing collected packages: loompy, astir\r\n",
      "  Attempting uninstall: loompy\r\n",
      "    Found existing installation: loompy 3.0.6\r\n",
      "    Uninstalling loompy-3.0.6:\r\n",
      "      Successfully uninstalled loompy-3.0.6\r\n",
      "  Attempting uninstall: astir\r\n",
      "    Found existing installation: astir 0.0.1\r\n",
      "    Uninstalling astir-0.0.1:\r\n",
      "      Successfully uninstalled astir-0.0.1\r\n",
      "  Running setup.py develop for astir\r\n",
      "Successfully installed astir loompy-2.0.17\r\n",
      "The autoreload extension is already loaded. To reload it, use:\n",
      "  %reload_ext autoreload\n"
     ]
    }
   ],
   "source": [
    "# !pip install -e ../../..\n",
    "import os\n",
    "import sys\n",
    "\n",
    "module_path = os.path.abspath(os.path.join('../../..'))\n",
    "if module_path not in sys.path:\n",
    "    sys.path.append(module_path)\n",
    "module_path = os.path.abspath(os.path.join('../../../astir'))\n",
    "if module_path not in sys.path:\n",
    "    sys.path.append(module_path)\n",
    "    \n",
    "%load_ext autoreload\n",
    "%autoreload 2"
   ]
  },
  {
   "cell_type": "code",
<<<<<<< HEAD
   "execution_count": 44,
=======
   "execution_count": 12,
>>>>>>> jinelle
   "metadata": {},
   "outputs": [
    {
     "name": "stderr",
     "output_type": "stream",
     "text": [
      "[autoreload of loompy.layer_manager failed: Traceback (most recent call last):\n",
      "  File \"/Users/sunyunlee/anaconda3/lib/python3.7/site-packages/IPython/extensions/autoreload.py\", line 245, in check\n",
      "    superreload(m, reload, self.old_objects)\n",
      "  File \"/Users/sunyunlee/anaconda3/lib/python3.7/site-packages/IPython/extensions/autoreload.py\", line 410, in superreload\n",
      "    update_generic(old_obj, new_obj)\n",
      "  File \"/Users/sunyunlee/anaconda3/lib/python3.7/site-packages/IPython/extensions/autoreload.py\", line 347, in update_generic\n",
      "    update(a, b)\n",
      "  File \"/Users/sunyunlee/anaconda3/lib/python3.7/site-packages/IPython/extensions/autoreload.py\", line 317, in update_class\n",
      "    update_instances(old, new)\n",
      "  File \"/Users/sunyunlee/anaconda3/lib/python3.7/site-packages/IPython/extensions/autoreload.py\", line 280, in update_instances\n",
      "    ref.__class__ = new\n",
      "  File \"/Users/sunyunlee/anaconda3/lib/python3.7/site-packages/loompy/layer_manager.py\", line 108, in __setattr__\n",
      "    dtype = matrix.dtype\n",
      "AttributeError: type object 'LayerManager' has no attribute 'dtype'\n",
      "]\n"
     ]
    }
   ],
   "source": [
    "import yaml\n",
    "import pandas as pd\n",
    "import astir as ast\n",
    "import numpy as np\n",
    "import torch"
   ]
  },
  {
   "cell_type": "code",
   "execution_count": 45,
   "metadata": {},
   "outputs": [],
   "source": [
    "yaml_marker_path = \"../../../astir/tests/test-data/jackson-2020-markers.yml\"\n",
    "design_mat_path = \"../../../astir/tests/test-data/design.csv\"\n",
    "expression_mat_path = \"../../../astir/tests/test-data/test_data.csv\"\n",
    "expression_dir_path = \"../../../astir/tests/test-data/test-dir-read\"\n",
    "expression_loom_path = \"../../../astir/tests/test-data/basel_100.loom\"\n",
    "expression_anndata_path=\"../../../astir/tests/test-data/adata_small.h5ad\""
   ]
  },
  {
   "cell_type": "markdown",
   "metadata": {},
   "source": [
    "## 1. Starting Astir within python  <a class=\"anchor\" id=\"one\"></a>"
   ]
  },
  {
   "cell_type": "markdown",
   "metadata": {},
   "source": [
    "The input dataset should represent protein expression in single cells. The rows should represent each cell (one row per cell) and the columns should represent each protein (one column per protein). A marker which maps the features (proteins) to cell type/state may is required. A design matrix is optional. If provided, it should be either `np.array` or `pd.DataFrame`.\n",
    "\n",
    "The initialization of `Astir` requires input dataset `input_expr` as one of `pd.DataFrame`, `Tuple[np.array, List[str], List[str]]` and `Tuple[SCDataset, SCDataset]`. \n",
    "\n",
    "Note: `dtype` and `random_seed` are always customizable. `dtype` is default to `torch.float64` and `random_seed` is default to `1234`."
   ]
  },
  {
   "cell_type": "markdown",
   "metadata": {},
   "source": [
    "### 1.0 Loading marker dictionary and design matrix <a class=\"anchor\" id=\"one0\"></a>"
   ]
  },
  {
   "cell_type": "markdown",
   "metadata": {},
   "source": [
    "#### Marker Dictionary <a class=\"anchor\" id=\"mk\"></a>"
   ]
  },
  {
   "cell_type": "code",
   "execution_count": 46,
   "metadata": {},
   "outputs": [
    {
     "name": "stdout",
     "output_type": "stream",
     "text": [
      "{'cell_states': {'RTK_signalling': ['Her2', 'EGFR'], 'proliferation': ['Ki-67', 'phospho Histone'], 'mTOR_signalling': ['phospho mTOR', 'phospho S6'], 'apoptosis': ['cleaved PARP', 'Cleaved Caspase3']}, 'cell_types': {'stromal': ['Vimentin', 'Fibronectin'], 'B cells': ['CD45', 'CD20'], 'T cells': ['CD45', 'CD3'], 'macrophage': ['CD45', 'CD68'], 'epithelial(basal)': ['E-Cadherin', 'pan Cytokeratin', 'Cytokeratin 5', 'Cytokeratin 14', 'Her2'], 'epithelial(luminal)': ['E-Cadherin', 'pan Cytokeratin', 'Cytokeratin 7', 'Cytokeratin 8/18', 'Cytokeratin 19', 'Cytokeratin 5', 'Her2']}, 'hierarchy': {'immune': ['B cells', 'T cells', 'macrophage'], 'epithelial': ['epithelial(basal)', 'epithelial(luminal)']}}\n"
     ]
    }
   ],
   "source": [
    "with open(yaml_marker_path, \"r\") as stream:\n",
    "    marker_dict = yaml.safe_load(stream)\n",
    "print(marker_dict)"
   ]
  },
  {
   "cell_type": "markdown",
   "metadata": {},
   "source": [
    "Some notes:\n",
    "\n",
    "1. The marker `marker_dict` is not required when `input_expr` is `Tuple[SCDataset, SCDataset]`. Otherwise, it is required to be `Dict[str, Dict[str, str]]`. \n",
    "\n",
    "2. The outer dictionary may have at most three keys: `cell_type`, `cell_state` and `hierarchy`. `cell_type` and `cell_state` maps to the corresponding dictionary which maps the name of cell type/state to protein features. `hierarchy` maps to the dictionary which indicates the cell type hierarchy.\n",
    "\n",
    "3. If the user is only intended to classify one of cell type and cell state, only the intended marker dictionary should be provided. So that marker_dict is one of `{\"cell_state\": {...}}`, `{\"cell_type\": {...}}` and `{\"cell_type\": {...}, \"cell_state\": {...}}`.\n",
    "\n",
    "4. The `hierarchy` dictionary should be included when the client tends to call `Astir.assign_celltype_hierarchy()`"
   ]
  },
  {
   "cell_type": "markdown",
   "metadata": {},
   "source": [
    "#### Design matrix:\n",
    "\n",
    "Note that the design matrix must have the same number of rows as there are number of cells."
   ]
  },
  {
   "cell_type": "code",
   "execution_count": 47,
   "metadata": {},
   "outputs": [
    {
     "name": "stdout",
     "output_type": "stream",
     "text": [
      "(49, 40)\n"
     ]
    }
   ],
   "source": [
    "design_df = pd.read_csv(design_mat_path, index_col=0)\n",
    "print(design_df.shape)"
   ]
  },
  {
   "cell_type": "markdown",
   "metadata": {},
   "source": [
    "Note: `design` is not necessary when `input_expr` is `Tuple[SCDataset, SCDataset]`. Otherwise it is optional."
   ]
  },
  {
   "cell_type": "markdown",
   "metadata": {},
   "source": [
    "### 1.1 Loading data as `pd.DataFrame`  <a class=\"anchor\" id=\"one1\"></a>"
   ]
  },
  {
   "cell_type": "markdown",
   "metadata": {},
   "source": [
    "When the input is `pd.DataFrame`, its row and column should respectively represent the cells and the features (proteins). "
   ]
  },
  {
   "cell_type": "code",
   "execution_count": 48,
   "metadata": {},
   "outputs": [
    {
     "data": {
      "text/plain": "                               EGFR  Ruthenium_1  Ruthenium_2  Ruthenium_3  \\\nBaselTMA_SP41_126_X14Y7_1  0.281753     1.319588     0.597380     1.782863   \nBaselTMA_SP41_126_X14Y7_2  0.303016     1.319588     0.597380     1.782863   \nBaselTMA_SP41_126_X14Y7_3  0.252374     1.319588     0.597380     1.782863   \nBaselTMA_SP41_126_X14Y7_4  0.397732     1.306852     0.534496     1.678217   \nBaselTMA_SP41_126_X14Y7_5  0.426352     1.173439     0.597380     1.589303   \n\n                           Ruthenium_4  Ruthenium_5  Ruthenium_6  Ruthenium_7  \\\nBaselTMA_SP41_126_X14Y7_1     1.757824     1.991857     2.580564     2.287167   \nBaselTMA_SP41_126_X14Y7_2     1.757824     1.991857     2.580564     2.287167   \nBaselTMA_SP41_126_X14Y7_3     1.757824     1.991857     2.580564     2.287167   \nBaselTMA_SP41_126_X14Y7_4     1.757824     1.961430     2.528551     2.183814   \nBaselTMA_SP41_126_X14Y7_5     1.389839     1.789887     2.343743     2.123334   \n\n                           E-Cadherin      DNA1  ...      CD45      CD68  \\\nBaselTMA_SP41_126_X14Y7_1    1.814309  2.261638  ...  0.044733  0.184805   \nBaselTMA_SP41_126_X14Y7_2    1.517685  1.613060  ...  0.046802  0.080406   \nBaselTMA_SP41_126_X14Y7_3    1.246433  2.138744  ...  0.028499  0.203248   \nBaselTMA_SP41_126_X14Y7_4    1.839785  1.816015  ...  0.069053  0.305200   \nBaselTMA_SP41_126_X14Y7_5    1.618347  1.355214  ...  0.233777  0.135084   \n\n                                CD3  Carbonic Anhydrase IX  Cytokeratin 8/18  \\\nBaselTMA_SP41_126_X14Y7_1  0.000000               0.928929          0.025526   \nBaselTMA_SP41_126_X14Y7_2  0.110806               0.752101          0.000000   \nBaselTMA_SP41_126_X14Y7_3  0.020617               0.740759          0.083311   \nBaselTMA_SP41_126_X14Y7_4  0.060264               1.095968          0.184603   \nBaselTMA_SP41_126_X14Y7_5  0.057195               1.427983          0.035371   \n\n                           Cytokeratin 7     Twist  phospho Histone  \\\nBaselTMA_SP41_126_X14Y7_1       0.043423  0.209742         0.137454   \nBaselTMA_SP41_126_X14Y7_2       0.032056  0.108013         0.048428   \nBaselTMA_SP41_126_X14Y7_3       0.081503  0.119058         0.063097   \nBaselTMA_SP41_126_X14Y7_4       0.131531  0.160778         0.090666   \nBaselTMA_SP41_126_X14Y7_5       0.038448  0.014434         0.127032   \n\n                           phospho mTOR  phospho S6  \nBaselTMA_SP41_126_X14Y7_1      0.572811    0.215508  \nBaselTMA_SP41_126_X14Y7_2      0.539647    0.655731  \nBaselTMA_SP41_126_X14Y7_3      0.409735    0.437845  \nBaselTMA_SP41_126_X14Y7_4      0.305718    0.132236  \nBaselTMA_SP41_126_X14Y7_5      0.261205    0.157786  \n\n[5 rows x 45 columns]",
      "text/html": "<div>\n<style scoped>\n    .dataframe tbody tr th:only-of-type {\n        vertical-align: middle;\n    }\n\n    .dataframe tbody tr th {\n        vertical-align: top;\n    }\n\n    .dataframe thead th {\n        text-align: right;\n    }\n</style>\n<table border=\"1\" class=\"dataframe\">\n  <thead>\n    <tr style=\"text-align: right;\">\n      <th></th>\n      <th>EGFR</th>\n      <th>Ruthenium_1</th>\n      <th>Ruthenium_2</th>\n      <th>Ruthenium_3</th>\n      <th>Ruthenium_4</th>\n      <th>Ruthenium_5</th>\n      <th>Ruthenium_6</th>\n      <th>Ruthenium_7</th>\n      <th>E-Cadherin</th>\n      <th>DNA1</th>\n      <th>...</th>\n      <th>CD45</th>\n      <th>CD68</th>\n      <th>CD3</th>\n      <th>Carbonic Anhydrase IX</th>\n      <th>Cytokeratin 8/18</th>\n      <th>Cytokeratin 7</th>\n      <th>Twist</th>\n      <th>phospho Histone</th>\n      <th>phospho mTOR</th>\n      <th>phospho S6</th>\n    </tr>\n  </thead>\n  <tbody>\n    <tr>\n      <th>BaselTMA_SP41_126_X14Y7_1</th>\n      <td>0.281753</td>\n      <td>1.319588</td>\n      <td>0.597380</td>\n      <td>1.782863</td>\n      <td>1.757824</td>\n      <td>1.991857</td>\n      <td>2.580564</td>\n      <td>2.287167</td>\n      <td>1.814309</td>\n      <td>2.261638</td>\n      <td>...</td>\n      <td>0.044733</td>\n      <td>0.184805</td>\n      <td>0.000000</td>\n      <td>0.928929</td>\n      <td>0.025526</td>\n      <td>0.043423</td>\n      <td>0.209742</td>\n      <td>0.137454</td>\n      <td>0.572811</td>\n      <td>0.215508</td>\n    </tr>\n    <tr>\n      <th>BaselTMA_SP41_126_X14Y7_2</th>\n      <td>0.303016</td>\n      <td>1.319588</td>\n      <td>0.597380</td>\n      <td>1.782863</td>\n      <td>1.757824</td>\n      <td>1.991857</td>\n      <td>2.580564</td>\n      <td>2.287167</td>\n      <td>1.517685</td>\n      <td>1.613060</td>\n      <td>...</td>\n      <td>0.046802</td>\n      <td>0.080406</td>\n      <td>0.110806</td>\n      <td>0.752101</td>\n      <td>0.000000</td>\n      <td>0.032056</td>\n      <td>0.108013</td>\n      <td>0.048428</td>\n      <td>0.539647</td>\n      <td>0.655731</td>\n    </tr>\n    <tr>\n      <th>BaselTMA_SP41_126_X14Y7_3</th>\n      <td>0.252374</td>\n      <td>1.319588</td>\n      <td>0.597380</td>\n      <td>1.782863</td>\n      <td>1.757824</td>\n      <td>1.991857</td>\n      <td>2.580564</td>\n      <td>2.287167</td>\n      <td>1.246433</td>\n      <td>2.138744</td>\n      <td>...</td>\n      <td>0.028499</td>\n      <td>0.203248</td>\n      <td>0.020617</td>\n      <td>0.740759</td>\n      <td>0.083311</td>\n      <td>0.081503</td>\n      <td>0.119058</td>\n      <td>0.063097</td>\n      <td>0.409735</td>\n      <td>0.437845</td>\n    </tr>\n    <tr>\n      <th>BaselTMA_SP41_126_X14Y7_4</th>\n      <td>0.397732</td>\n      <td>1.306852</td>\n      <td>0.534496</td>\n      <td>1.678217</td>\n      <td>1.757824</td>\n      <td>1.961430</td>\n      <td>2.528551</td>\n      <td>2.183814</td>\n      <td>1.839785</td>\n      <td>1.816015</td>\n      <td>...</td>\n      <td>0.069053</td>\n      <td>0.305200</td>\n      <td>0.060264</td>\n      <td>1.095968</td>\n      <td>0.184603</td>\n      <td>0.131531</td>\n      <td>0.160778</td>\n      <td>0.090666</td>\n      <td>0.305718</td>\n      <td>0.132236</td>\n    </tr>\n    <tr>\n      <th>BaselTMA_SP41_126_X14Y7_5</th>\n      <td>0.426352</td>\n      <td>1.173439</td>\n      <td>0.597380</td>\n      <td>1.589303</td>\n      <td>1.389839</td>\n      <td>1.789887</td>\n      <td>2.343743</td>\n      <td>2.123334</td>\n      <td>1.618347</td>\n      <td>1.355214</td>\n      <td>...</td>\n      <td>0.233777</td>\n      <td>0.135084</td>\n      <td>0.057195</td>\n      <td>1.427983</td>\n      <td>0.035371</td>\n      <td>0.038448</td>\n      <td>0.014434</td>\n      <td>0.127032</td>\n      <td>0.261205</td>\n      <td>0.157786</td>\n    </tr>\n  </tbody>\n</table>\n<p>5 rows × 45 columns</p>\n</div>"
     },
     "execution_count": 48,
     "metadata": {},
     "output_type": "execute_result"
    }
   ],
   "source": [
    "df_expr = pd.read_csv(expression_mat_path, index_col=0)\n",
    "df_expr.head()"
   ]
  },
  {
   "cell_type": "code",
   "execution_count": 49,
   "metadata": {},
   "outputs": [
    {
     "name": "stdout",
     "output_type": "stream",
     "text": [
      "Astir object with 6 cell types, 4 cell states, and 49 cells.\n"
     ]
    }
   ],
   "source": [
    "a_df = ast.Astir(input_expr=df_expr, marker_dict=marker_dict, design=design_df)\n",
    "print(a_df)"
   ]
  },
  {
   "cell_type": "markdown",
   "metadata": {},
   "source": [
    "### 1.2 Loading data as `np.array` or `torch.tensor` <a class=\"anchor\" id=\"one2\"></a>"
   ]
  },
  {
   "cell_type": "markdown",
   "metadata": {},
   "source": [
    "When the input is `Tuple[Union[np.array, torch.tensor]], List[str], List[str]]`, the first element `np.array` or `torch.tensor` is the input dataset, the second element `List[str]` is the title of the columns (the names of proteins) and the third element `List[str]` is the title of the rows (the name　of the cells). The length of the second and third list should be equal to the number of columns and rows of the first array. "
   ]
  },
  {
   "cell_type": "code",
<<<<<<< HEAD
   "execution_count": 50,
=======
   "execution_count": 9,
>>>>>>> jinelle
   "metadata": {},
   "outputs": [
    {
     "name": "stdout",
     "output_type": "stream",
     "text": [
      "Astir object with 6 cell types, 4 cell states, and 49 cells.\n"
     ]
    }
   ],
   "source": [
    "# Load as np.array\n",
    "np_expr = df_expr.values\n",
    "features = list(df_expr.columns)\n",
    "cores = list(df_expr.index)\n",
    "a_np = ast.Astir(input_expr=(np_expr, features, cores), marker_dict=marker_dict, design=design_df)\n",
    "print(a_np)"
   ]
  },
  {
   "cell_type": "code",
   "execution_count": 14,
   "metadata": {},
   "outputs": [
    {
     "name": "stdout",
     "output_type": "stream",
     "text": [
      "Astir object with 6 cell types, 4 cell states, and 49 cells.\n"
     ]
    }
   ],
   "source": [
    "# Load as torch.tensor\n",
    "t_expr = torch.from_numpy(np_expr)\n",
    "a_t = ast.Astir(input_expr=(t_expr, features, cores), marker_dict=marker_dict, design=design_df)\n",
    "print(a_t)"
   ]
  },
  {
   "cell_type": "markdown",
   "metadata": {},
   "source": [
    "### 1.3 Loading data as `SCDataset`  <a class=\"anchor\" id=\"one3\"></a>"
   ]
  },
  {
   "cell_type": "markdown",
   "metadata": {},
   "source": [
    "When the input is `Tuple[SCDataset, SCDataset]`, the first `SCDataset` should be the cell type dataset and the second `SCDataset` should be the cell state dataset."
   ]
  },
  {
   "cell_type": "code",
<<<<<<< HEAD
   "execution_count": 51,
=======
   "execution_count": 10,
>>>>>>> jinelle
   "metadata": {},
   "outputs": [
    {
     "name": "stdout",
     "output_type": "stream",
     "text": [
      "Astir object with 6 cell types, 4 cell states, and 49 cells.\n"
     ]
    }
   ],
   "source": [
    "type_scd = ast.SCDataset(expr_input=df_expr, marker_dict=marker_dict[\"cell_types\"], \n",
    "                         include_other_column=True, design=design_df)\n",
    "state_scd = ast.SCDataset(expr_input=df_expr, marker_dict=marker_dict[\"cell_states\"], \n",
    "                          include_other_column=False, design=design_df)\n",
    "a_scd = ast.Astir(input_expr=(type_scd, state_scd))\n",
    "print(a_scd)"
   ]
  },
  {
   "cell_type": "markdown",
   "metadata": {},
   "source": [
    "## 2. Loading from csv and yaml files  <a class=\"anchor\" id=\"two\"></a>"
   ]
  },
  {
   "cell_type": "markdown",
   "metadata": {},
   "source": [
    "A data reader `from_csv_yaml` for loading `csv` and `yaml` file is provided. \n",
    "\n",
    "The row of the `csv` file should represent the information of each single cells and the column of the `csv` file should represent the expression of each protein in different cells. "
   ]
  },
  {
   "cell_type": "code",
   "execution_count": 52,
   "metadata": {},
   "outputs": [
    {
     "name": "stdout",
     "output_type": "stream",
     "text": [
      "Astir object with 6 cell types, 4 cell states, and 49 cells.\n"
     ]
    }
   ],
   "source": [
    "a_csv = ast.from_csv_yaml(csv_input=expression_mat_path, marker_yaml=yaml_marker_path, design_csv=design_mat_path)\n",
    "print(a_csv)"
   ]
  },
  {
   "cell_type": "markdown",
   "metadata": {},
   "source": [
    "Some notes:\n",
    "\n",
    "1. The yaml file at `yaml_marker_path` contains the marker which maps protein features to cell type/state classes. The format should match the description of *[marker dictionary](#mk).\n",
    "\n",
    "2. `from_csv_yaml` returns an `Astir` object. \n",
    "\n",
    "3. `dtype` and `random_seed` are also customizable. `dtype` is default to `torch.float64` and `random_seed` is default to `1234`."
   ]
  },
  {
   "cell_type": "code",
   "execution_count": 53,
   "metadata": {},
   "outputs": [
    {
     "data": {
      "text/plain": "torch.Tensor"
     },
     "execution_count": 53,
     "metadata": {},
     "output_type": "execute_result"
    }
   ],
   "source": [
    "type(a_csv.get_type_dataset().get_exprs())"
   ]
  },
  {
   "cell_type": "code",
   "execution_count": 54,
   "metadata": {},
   "outputs": [
    {
     "data": {
      "text/plain": "                               CD20       CD3      CD45      CD68  \\\nBaselTMA_SP41_126_X14Y7_1  0.207884  0.000000  0.044733  0.184805   \nBaselTMA_SP41_126_X14Y7_2  0.021506  0.110806  0.046802  0.080406   \nBaselTMA_SP41_126_X14Y7_3  0.008878  0.020617  0.028499  0.203248   \nBaselTMA_SP41_126_X14Y7_4  0.053027  0.060264  0.069053  0.305200   \nBaselTMA_SP41_126_X14Y7_5  0.019127  0.057195  0.233777  0.135084   \n\n                           Cytokeratin 14  Cytokeratin 19  Cytokeratin 5  \\\nBaselTMA_SP41_126_X14Y7_1        0.134128        0.079956       0.178350   \nBaselTMA_SP41_126_X14Y7_2        0.026951        0.066922       0.081147   \nBaselTMA_SP41_126_X14Y7_3        0.023515        0.186294       0.076112   \nBaselTMA_SP41_126_X14Y7_4        0.114420        0.346273       0.164059   \nBaselTMA_SP41_126_X14Y7_5        0.055368        0.124407       0.095323   \n\n                           Cytokeratin 7  Cytokeratin 8/18  E-Cadherin  \\\nBaselTMA_SP41_126_X14Y7_1       0.043423          0.025526    1.814309   \nBaselTMA_SP41_126_X14Y7_2       0.032056          0.000000    1.517685   \nBaselTMA_SP41_126_X14Y7_3       0.081503          0.083311    1.246433   \nBaselTMA_SP41_126_X14Y7_4       0.131531          0.184603    1.839785   \nBaselTMA_SP41_126_X14Y7_5       0.038448          0.035371    1.618347   \n\n                           Fibronectin      Her2  Vimentin  pan Cytokeratin  \nBaselTMA_SP41_126_X14Y7_1     1.039734  0.483007  0.444140         1.187512  \nBaselTMA_SP41_126_X14Y7_2     1.147644  0.513386  0.270070         0.749379  \nBaselTMA_SP41_126_X14Y7_3     0.988906  0.633226  0.233909         1.216521  \nBaselTMA_SP41_126_X14Y7_4     0.842710  0.709272  0.542362         1.354303  \nBaselTMA_SP41_126_X14Y7_5     1.073357  0.482230  0.759944         0.629398  ",
      "text/html": "<div>\n<style scoped>\n    .dataframe tbody tr th:only-of-type {\n        vertical-align: middle;\n    }\n\n    .dataframe tbody tr th {\n        vertical-align: top;\n    }\n\n    .dataframe thead th {\n        text-align: right;\n    }\n</style>\n<table border=\"1\" class=\"dataframe\">\n  <thead>\n    <tr style=\"text-align: right;\">\n      <th></th>\n      <th>CD20</th>\n      <th>CD3</th>\n      <th>CD45</th>\n      <th>CD68</th>\n      <th>Cytokeratin 14</th>\n      <th>Cytokeratin 19</th>\n      <th>Cytokeratin 5</th>\n      <th>Cytokeratin 7</th>\n      <th>Cytokeratin 8/18</th>\n      <th>E-Cadherin</th>\n      <th>Fibronectin</th>\n      <th>Her2</th>\n      <th>Vimentin</th>\n      <th>pan Cytokeratin</th>\n    </tr>\n  </thead>\n  <tbody>\n    <tr>\n      <th>BaselTMA_SP41_126_X14Y7_1</th>\n      <td>0.207884</td>\n      <td>0.000000</td>\n      <td>0.044733</td>\n      <td>0.184805</td>\n      <td>0.134128</td>\n      <td>0.079956</td>\n      <td>0.178350</td>\n      <td>0.043423</td>\n      <td>0.025526</td>\n      <td>1.814309</td>\n      <td>1.039734</td>\n      <td>0.483007</td>\n      <td>0.444140</td>\n      <td>1.187512</td>\n    </tr>\n    <tr>\n      <th>BaselTMA_SP41_126_X14Y7_2</th>\n      <td>0.021506</td>\n      <td>0.110806</td>\n      <td>0.046802</td>\n      <td>0.080406</td>\n      <td>0.026951</td>\n      <td>0.066922</td>\n      <td>0.081147</td>\n      <td>0.032056</td>\n      <td>0.000000</td>\n      <td>1.517685</td>\n      <td>1.147644</td>\n      <td>0.513386</td>\n      <td>0.270070</td>\n      <td>0.749379</td>\n    </tr>\n    <tr>\n      <th>BaselTMA_SP41_126_X14Y7_3</th>\n      <td>0.008878</td>\n      <td>0.020617</td>\n      <td>0.028499</td>\n      <td>0.203248</td>\n      <td>0.023515</td>\n      <td>0.186294</td>\n      <td>0.076112</td>\n      <td>0.081503</td>\n      <td>0.083311</td>\n      <td>1.246433</td>\n      <td>0.988906</td>\n      <td>0.633226</td>\n      <td>0.233909</td>\n      <td>1.216521</td>\n    </tr>\n    <tr>\n      <th>BaselTMA_SP41_126_X14Y7_4</th>\n      <td>0.053027</td>\n      <td>0.060264</td>\n      <td>0.069053</td>\n      <td>0.305200</td>\n      <td>0.114420</td>\n      <td>0.346273</td>\n      <td>0.164059</td>\n      <td>0.131531</td>\n      <td>0.184603</td>\n      <td>1.839785</td>\n      <td>0.842710</td>\n      <td>0.709272</td>\n      <td>0.542362</td>\n      <td>1.354303</td>\n    </tr>\n    <tr>\n      <th>BaselTMA_SP41_126_X14Y7_5</th>\n      <td>0.019127</td>\n      <td>0.057195</td>\n      <td>0.233777</td>\n      <td>0.135084</td>\n      <td>0.055368</td>\n      <td>0.124407</td>\n      <td>0.095323</td>\n      <td>0.038448</td>\n      <td>0.035371</td>\n      <td>1.618347</td>\n      <td>1.073357</td>\n      <td>0.482230</td>\n      <td>0.759944</td>\n      <td>0.629398</td>\n    </tr>\n  </tbody>\n</table>\n</div>"
     },
     "execution_count": 54,
     "metadata": {},
     "output_type": "execute_result"
    }
   ],
   "source": [
    "a_csv.get_type_dataset().get_exprs_df().head()"
   ]
  },
  {
   "cell_type": "markdown",
   "metadata": {},
   "source": [
    "## 3. Loading from a directory of csvs and yaml  <a class=\"anchor\" id=\"three\"></a>"
   ]
  },
  {
   "cell_type": "markdown",
   "metadata": {},
   "source": [
    "The user can also load the data from a directory of `csv` files with `from_csv_dir_yaml`.\n",
    "\n",
    "In this case, every `csv` file should represent the expression data from different samples. A design matrix will be generated automatically. "
   ]
  },
  {
   "cell_type": "code",
   "execution_count": 55,
   "metadata": {},
   "outputs": [
    {
     "name": "stdout",
     "output_type": "stream",
     "text": [
      "Astir object with 6 cell types, 4 cell states, and 40 cells.\n"
     ]
    }
   ],
   "source": [
    "a_dir = ast.from_csv_dir_yaml(input_dir=expression_dir_path, marker_yaml=yaml_marker_path)\n",
    "print(a_dir)"
   ]
  },
  {
   "cell_type": "markdown",
   "metadata": {},
   "source": [
    "Some notes:\n",
    "\n",
    "1. The yaml file at `yaml_marker_path` contains the marker which maps protein features to cell type/state classes. The format should match the description of *[marker dictionary](#mk).\n",
    "\n",
    "2. `from_csv_dir_yaml` returns an Astir object.\n",
    "\n",
    "3. `dtype` and `random_seed` are also customizable. `dtype` is default to `torch.float64` and `random_seed` is default to `1234`."
   ]
  },
  {
   "cell_type": "code",
   "execution_count": 56,
   "metadata": {},
   "outputs": [
    {
     "data": {
      "text/plain": "torch.Tensor"
     },
     "execution_count": 56,
     "metadata": {},
     "output_type": "execute_result"
    }
   ],
   "source": [
    "type(a_dir.get_type_dataset().get_exprs())"
   ]
  },
  {
   "cell_type": "code",
   "execution_count": 57,
   "metadata": {},
   "outputs": [
    {
     "data": {
      "text/plain": "                               CD20       CD3      CD45      CD68  \\\nBaselTMA_SP41_126_X14Y7_1  0.207884  0.000000  0.044733  0.184805   \nBaselTMA_SP41_126_X14Y7_2  0.021506  0.110806  0.046802  0.080406   \nBaselTMA_SP41_126_X14Y7_3  0.008878  0.020617  0.028499  0.203248   \nBaselTMA_SP41_126_X14Y7_4  0.053027  0.060264  0.069053  0.305200   \nBaselTMA_SP41_126_X14Y7_5  0.019127  0.057195  0.233777  0.135084   \n\n                           Cytokeratin 14  Cytokeratin 19  Cytokeratin 5  \\\nBaselTMA_SP41_126_X14Y7_1        0.134128        0.079956       0.178350   \nBaselTMA_SP41_126_X14Y7_2        0.026951        0.066922       0.081147   \nBaselTMA_SP41_126_X14Y7_3        0.023515        0.186294       0.076112   \nBaselTMA_SP41_126_X14Y7_4        0.114420        0.346273       0.164059   \nBaselTMA_SP41_126_X14Y7_5        0.055368        0.124407       0.095323   \n\n                           Cytokeratin 7  Cytokeratin 8/18  E-Cadherin  \\\nBaselTMA_SP41_126_X14Y7_1       0.043423          0.025526    1.814309   \nBaselTMA_SP41_126_X14Y7_2       0.032056          0.000000    1.517685   \nBaselTMA_SP41_126_X14Y7_3       0.081503          0.083311    1.246433   \nBaselTMA_SP41_126_X14Y7_4       0.131531          0.184603    1.839785   \nBaselTMA_SP41_126_X14Y7_5       0.038448          0.035371    1.618347   \n\n                           Fibronectin      Her2  Vimentin  pan Cytokeratin  \nBaselTMA_SP41_126_X14Y7_1     1.039734  0.483007  0.444140         1.187512  \nBaselTMA_SP41_126_X14Y7_2     1.147644  0.513386  0.270070         0.749379  \nBaselTMA_SP41_126_X14Y7_3     0.988906  0.633226  0.233909         1.216521  \nBaselTMA_SP41_126_X14Y7_4     0.842710  0.709272  0.542362         1.354303  \nBaselTMA_SP41_126_X14Y7_5     1.073357  0.482230  0.759944         0.629398  ",
      "text/html": "<div>\n<style scoped>\n    .dataframe tbody tr th:only-of-type {\n        vertical-align: middle;\n    }\n\n    .dataframe tbody tr th {\n        vertical-align: top;\n    }\n\n    .dataframe thead th {\n        text-align: right;\n    }\n</style>\n<table border=\"1\" class=\"dataframe\">\n  <thead>\n    <tr style=\"text-align: right;\">\n      <th></th>\n      <th>CD20</th>\n      <th>CD3</th>\n      <th>CD45</th>\n      <th>CD68</th>\n      <th>Cytokeratin 14</th>\n      <th>Cytokeratin 19</th>\n      <th>Cytokeratin 5</th>\n      <th>Cytokeratin 7</th>\n      <th>Cytokeratin 8/18</th>\n      <th>E-Cadherin</th>\n      <th>Fibronectin</th>\n      <th>Her2</th>\n      <th>Vimentin</th>\n      <th>pan Cytokeratin</th>\n    </tr>\n  </thead>\n  <tbody>\n    <tr>\n      <th>BaselTMA_SP41_126_X14Y7_1</th>\n      <td>0.207884</td>\n      <td>0.000000</td>\n      <td>0.044733</td>\n      <td>0.184805</td>\n      <td>0.134128</td>\n      <td>0.079956</td>\n      <td>0.178350</td>\n      <td>0.043423</td>\n      <td>0.025526</td>\n      <td>1.814309</td>\n      <td>1.039734</td>\n      <td>0.483007</td>\n      <td>0.444140</td>\n      <td>1.187512</td>\n    </tr>\n    <tr>\n      <th>BaselTMA_SP41_126_X14Y7_2</th>\n      <td>0.021506</td>\n      <td>0.110806</td>\n      <td>0.046802</td>\n      <td>0.080406</td>\n      <td>0.026951</td>\n      <td>0.066922</td>\n      <td>0.081147</td>\n      <td>0.032056</td>\n      <td>0.000000</td>\n      <td>1.517685</td>\n      <td>1.147644</td>\n      <td>0.513386</td>\n      <td>0.270070</td>\n      <td>0.749379</td>\n    </tr>\n    <tr>\n      <th>BaselTMA_SP41_126_X14Y7_3</th>\n      <td>0.008878</td>\n      <td>0.020617</td>\n      <td>0.028499</td>\n      <td>0.203248</td>\n      <td>0.023515</td>\n      <td>0.186294</td>\n      <td>0.076112</td>\n      <td>0.081503</td>\n      <td>0.083311</td>\n      <td>1.246433</td>\n      <td>0.988906</td>\n      <td>0.633226</td>\n      <td>0.233909</td>\n      <td>1.216521</td>\n    </tr>\n    <tr>\n      <th>BaselTMA_SP41_126_X14Y7_4</th>\n      <td>0.053027</td>\n      <td>0.060264</td>\n      <td>0.069053</td>\n      <td>0.305200</td>\n      <td>0.114420</td>\n      <td>0.346273</td>\n      <td>0.164059</td>\n      <td>0.131531</td>\n      <td>0.184603</td>\n      <td>1.839785</td>\n      <td>0.842710</td>\n      <td>0.709272</td>\n      <td>0.542362</td>\n      <td>1.354303</td>\n    </tr>\n    <tr>\n      <th>BaselTMA_SP41_126_X14Y7_5</th>\n      <td>0.019127</td>\n      <td>0.057195</td>\n      <td>0.233777</td>\n      <td>0.135084</td>\n      <td>0.055368</td>\n      <td>0.124407</td>\n      <td>0.095323</td>\n      <td>0.038448</td>\n      <td>0.035371</td>\n      <td>1.618347</td>\n      <td>1.073357</td>\n      <td>0.482230</td>\n      <td>0.759944</td>\n      <td>0.629398</td>\n    </tr>\n  </tbody>\n</table>\n</div>"
     },
     "execution_count": 57,
     "metadata": {},
     "output_type": "execute_result"
    }
   ],
   "source": [
    "a_dir.get_type_dataset().get_exprs_df().head()"
   ]
  },
  {
   "cell_type": "markdown",
   "metadata": {},
   "source": [
    "## 4. Loading from loom  <a class=\"anchor\" id=\"four\"></a>"
   ]
  },
  {
   "cell_type": "markdown",
   "metadata": {},
   "source": [
    "It is also possible to load the data from a `loom` file with `from_loompy_yaml`. "
   ]
  },
  {
   "cell_type": "code",
   "execution_count": 58,
   "metadata": {},
   "outputs": [
    {
     "ename": "ValueError",
     "evalue": "This validator can only validate against Loom specs '2.0.1' or 'old'",
     "output_type": "error",
     "traceback": [
      "\u001B[0;31m---------------------------------------------------------------------------\u001B[0m",
      "\u001B[0;31mValueError\u001B[0m                                Traceback (most recent call last)",
      "\u001B[0;32m<ipython-input-58-619b231287ea>\u001B[0m in \u001B[0;36m<module>\u001B[0;34m\u001B[0m\n\u001B[1;32m      1\u001B[0m a_loom = ast.from_loompy_yaml(loom_file=expression_loom_path, marker_yaml=yaml_marker_path, \n\u001B[0;32m----> 2\u001B[0;31m                          protein_name_attr=\"protein\", cell_name_attr=\"cell_name\", batch_name_attr=\"batch\")\n\u001B[0m\u001B[1;32m      3\u001B[0m \u001B[0mprint\u001B[0m\u001B[0;34m(\u001B[0m\u001B[0ma_loom\u001B[0m\u001B[0;34m)\u001B[0m\u001B[0;34m\u001B[0m\u001B[0;34m\u001B[0m\u001B[0m\n\u001B[1;32m      4\u001B[0m \u001B[0;34m\u001B[0m\u001B[0m\n\u001B[1;32m      5\u001B[0m \u001B[0;34m\u001B[0m\u001B[0m\n",
      "\u001B[0;32m~/Desktop/astir/astir/data/data_readers.py\u001B[0m in \u001B[0;36mfrom_loompy_yaml\u001B[0;34m(loom_file, marker_yaml, protein_name_attr, cell_name_attr, batch_name_attr, random_seed, dtype)\u001B[0m\n\u001B[1;32m    113\u001B[0m     \u001B[0;31m# TODO: This function is memory inefficient and goes against the philosophy of loom files. Should be improved\u001B[0m\u001B[0;34m\u001B[0m\u001B[0;34m\u001B[0m\u001B[0;34m\u001B[0m\u001B[0m\n\u001B[1;32m    114\u001B[0m     \u001B[0mbatch_list\u001B[0m \u001B[0;34m=\u001B[0m \u001B[0;32mNone\u001B[0m\u001B[0;34m\u001B[0m\u001B[0;34m\u001B[0m\u001B[0m\n\u001B[0;32m--> 115\u001B[0;31m     \u001B[0;32mwith\u001B[0m \u001B[0mloompy\u001B[0m\u001B[0;34m.\u001B[0m\u001B[0mconnect\u001B[0m\u001B[0;34m(\u001B[0m\u001B[0mloom_file\u001B[0m\u001B[0;34m)\u001B[0m \u001B[0;32mas\u001B[0m \u001B[0mds\u001B[0m\u001B[0;34m:\u001B[0m\u001B[0;34m\u001B[0m\u001B[0;34m\u001B[0m\u001B[0m\n\u001B[0m\u001B[1;32m    116\u001B[0m         \u001B[0mdf_gex\u001B[0m \u001B[0;34m=\u001B[0m \u001B[0mpd\u001B[0m\u001B[0;34m.\u001B[0m\u001B[0mDataFrame\u001B[0m\u001B[0;34m(\u001B[0m\u001B[0mds\u001B[0m\u001B[0;34m[\u001B[0m\u001B[0;34m:\u001B[0m\u001B[0;34m,\u001B[0m \u001B[0;34m:\u001B[0m\u001B[0;34m]\u001B[0m\u001B[0;34m.\u001B[0m\u001B[0mT\u001B[0m\u001B[0;34m)\u001B[0m\u001B[0;34m\u001B[0m\u001B[0;34m\u001B[0m\u001B[0m\n\u001B[1;32m    117\u001B[0m         \u001B[0mdf_gex\u001B[0m\u001B[0;34m.\u001B[0m\u001B[0mcolumns\u001B[0m \u001B[0;34m=\u001B[0m \u001B[0mds\u001B[0m\u001B[0;34m.\u001B[0m\u001B[0mra\u001B[0m\u001B[0;34m[\u001B[0m\u001B[0mprotein_name_attr\u001B[0m\u001B[0;34m]\u001B[0m\u001B[0;34m\u001B[0m\u001B[0;34m\u001B[0m\u001B[0m\n",
      "\u001B[0;32m~/anaconda3/lib/python3.7/site-packages/loompy/loompy.py\u001B[0m in \u001B[0;36mconnect\u001B[0;34m(filename, mode, validate, spec_version)\u001B[0m\n\u001B[1;32m   1147\u001B[0m                 \u001B[0mNote\u001B[0m\u001B[0;34m:\u001B[0m \u001B[0;32mif\u001B[0m \u001B[0mvalidation\u001B[0m \u001B[0;32mis\u001B[0m \u001B[0mrequested\u001B[0m\u001B[0;34m,\u001B[0m \u001B[0man\u001B[0m \u001B[0mexception\u001B[0m \u001B[0;32mis\u001B[0m \u001B[0mraised\u001B[0m \u001B[0;32mif\u001B[0m \u001B[0mvalidation\u001B[0m \u001B[0mfails\u001B[0m\u001B[0;34m.\u001B[0m\u001B[0;34m\u001B[0m\u001B[0;34m\u001B[0m\u001B[0m\n\u001B[1;32m   1148\u001B[0m \t\"\"\"\n\u001B[0;32m-> 1149\u001B[0;31m         \u001B[0;32mreturn\u001B[0m \u001B[0mLoomConnection\u001B[0m\u001B[0;34m(\u001B[0m\u001B[0mfilename\u001B[0m\u001B[0;34m,\u001B[0m \u001B[0mmode\u001B[0m\u001B[0;34m,\u001B[0m \u001B[0mvalidate\u001B[0m\u001B[0;34m=\u001B[0m\u001B[0mvalidate\u001B[0m\u001B[0;34m,\u001B[0m \u001B[0mspec_version\u001B[0m\u001B[0;34m=\u001B[0m\u001B[0mspec_version\u001B[0m\u001B[0;34m)\u001B[0m\u001B[0;34m\u001B[0m\u001B[0;34m\u001B[0m\u001B[0m\n\u001B[0m",
      "\u001B[0;32m~/anaconda3/lib/python3.7/site-packages/loompy/loompy.py\u001B[0m in \u001B[0;36m__init__\u001B[0;34m(self, filename, mode, validate, spec_version)\u001B[0m\n\u001B[1;32m     81\u001B[0m                 \u001B[0;31m# Validate the file\u001B[0m\u001B[0;34m\u001B[0m\u001B[0;34m\u001B[0m\u001B[0;34m\u001B[0m\u001B[0m\n\u001B[1;32m     82\u001B[0m                 \u001B[0;32mif\u001B[0m \u001B[0mvalidate\u001B[0m\u001B[0;34m:\u001B[0m\u001B[0;34m\u001B[0m\u001B[0;34m\u001B[0m\u001B[0m\n\u001B[0;32m---> 83\u001B[0;31m                         \u001B[0mlv\u001B[0m \u001B[0;34m=\u001B[0m \u001B[0mloompy\u001B[0m\u001B[0;34m.\u001B[0m\u001B[0mLoomValidator\u001B[0m\u001B[0;34m(\u001B[0m\u001B[0mversion\u001B[0m\u001B[0;34m=\u001B[0m\u001B[0mspec_version\u001B[0m\u001B[0;34m)\u001B[0m\u001B[0;34m\u001B[0m\u001B[0;34m\u001B[0m\u001B[0m\n\u001B[0m\u001B[1;32m     84\u001B[0m                         \u001B[0;32mif\u001B[0m \u001B[0;32mnot\u001B[0m \u001B[0mlv\u001B[0m\u001B[0;34m.\u001B[0m\u001B[0mvalidate\u001B[0m\u001B[0;34m(\u001B[0m\u001B[0mfilename\u001B[0m\u001B[0;34m)\u001B[0m\u001B[0;34m:\u001B[0m\u001B[0;34m\u001B[0m\u001B[0;34m\u001B[0m\u001B[0m\n\u001B[1;32m     85\u001B[0m                                 \u001B[0;32mraise\u001B[0m \u001B[0mValueError\u001B[0m\u001B[0;34m(\u001B[0m\u001B[0;34m\"\\n\"\u001B[0m\u001B[0;34m.\u001B[0m\u001B[0mjoin\u001B[0m\u001B[0;34m(\u001B[0m\u001B[0mlv\u001B[0m\u001B[0;34m.\u001B[0m\u001B[0merrors\u001B[0m\u001B[0;34m)\u001B[0m \u001B[0;34m+\u001B[0m \u001B[0;34mf\"\\n{filename} does not appead to be a valid Loom file according to Loom spec version '{spec_version}'\"\u001B[0m\u001B[0;34m)\u001B[0m\u001B[0;34m\u001B[0m\u001B[0;34m\u001B[0m\u001B[0m\n",
      "\u001B[0;32m~/anaconda3/lib/python3.7/site-packages/loompy/loom_validator.py\u001B[0m in \u001B[0;36m__init__\u001B[0;34m(self, version)\u001B[0m\n\u001B[1;32m     17\u001B[0m                 \u001B[0mself\u001B[0m\u001B[0;34m.\u001B[0m\u001B[0mversion\u001B[0m \u001B[0;34m=\u001B[0m \u001B[0mversion\u001B[0m  \u001B[0;31m#: Version of the spec to validate against\u001B[0m\u001B[0;34m\u001B[0m\u001B[0;34m\u001B[0m\u001B[0m\n\u001B[1;32m     18\u001B[0m                 \u001B[0;32mif\u001B[0m \u001B[0mversion\u001B[0m \u001B[0;34m!=\u001B[0m \u001B[0;34m\"2.0.1\"\u001B[0m \u001B[0;32mand\u001B[0m \u001B[0mversion\u001B[0m \u001B[0;34m!=\u001B[0m \u001B[0;34m'old'\u001B[0m\u001B[0;34m:\u001B[0m\u001B[0;34m\u001B[0m\u001B[0;34m\u001B[0m\u001B[0m\n\u001B[0;32m---> 19\u001B[0;31m                         \u001B[0;32mraise\u001B[0m \u001B[0mValueError\u001B[0m\u001B[0;34m(\u001B[0m\u001B[0;34m\"This validator can only validate against Loom specs '2.0.1' or 'old'\"\u001B[0m\u001B[0;34m)\u001B[0m\u001B[0;34m\u001B[0m\u001B[0;34m\u001B[0m\u001B[0m\n\u001B[0m\u001B[1;32m     20\u001B[0m                 \u001B[0mself\u001B[0m\u001B[0;34m.\u001B[0m\u001B[0merrors\u001B[0m\u001B[0;34m:\u001B[0m \u001B[0mList\u001B[0m\u001B[0;34m[\u001B[0m\u001B[0mstr\u001B[0m\u001B[0;34m]\u001B[0m \u001B[0;34m=\u001B[0m \u001B[0;34m[\u001B[0m\u001B[0;34m]\u001B[0m  \u001B[0;31m#: Errors found during validation\u001B[0m\u001B[0;34m\u001B[0m\u001B[0;34m\u001B[0m\u001B[0m\n\u001B[1;32m     21\u001B[0m                 \u001B[0mself\u001B[0m\u001B[0;34m.\u001B[0m\u001B[0mwarnings\u001B[0m\u001B[0;34m:\u001B[0m \u001B[0mList\u001B[0m\u001B[0;34m[\u001B[0m\u001B[0mstr\u001B[0m\u001B[0;34m]\u001B[0m \u001B[0;34m=\u001B[0m \u001B[0;34m[\u001B[0m\u001B[0;34m]\u001B[0m  \u001B[0;31m#: Warnings triggered during validation\u001B[0m\u001B[0;34m\u001B[0m\u001B[0;34m\u001B[0m\u001B[0m\n",
      "\u001B[0;31mValueError\u001B[0m: This validator can only validate against Loom specs '2.0.1' or 'old'"
     ]
    }
   ],
   "source": [
    "a_loom = ast.from_loompy_yaml(loom_file=expression_loom_path, marker_yaml=yaml_marker_path, \n",
    "                         protein_name_attr=\"protein\", cell_name_attr=\"cell_name\", batch_name_attr=\"batch\")\n",
    "print(a_loom)"
   ]
  },
  {
   "cell_type": "markdown",
   "metadata": {},
   "source": [
    "Some notes:\n",
    "\n",
    "1. The protein and cell names are taken from `ds.ra[protein_name_attr]` and `ds.ca[cell_name_attr]` respectively if specified, and `ds.ra[\"protein\"]` and `ds.cs[\"cell_name\"]` otherwise.\n",
    "\n",
    "2. If `batch_name` is sepecified, the corresponding column of `ds.ca[batch_name_attr]` will be assumed as the batch variable and turned into a design matrix. Otherwise it is taken as `ds.ca[\"batch\"]`\n",
    "\n",
    "3. The yaml file at `yaml_marker_path` contains the marker which maps protein features to cell type/state classes. The format should match the description of *[marker dictionary](#mk).\n",
    "\n",
    "4. `from_loom_yaml` returns an Astir object.\n",
    "\n",
    "5. `dtype` and `random_seed` are also customizable. `dtype` is default to `torch.float64` and `random_seed` is default to `1234`."
   ]
  },
  {
   "cell_type": "code",
   "execution_count": null,
   "metadata": {},
   "outputs": [],
   "source": [
    "type(a_loom.get_type_dataset().get_exprs())"
   ]
  },
  {
   "cell_type": "code",
   "execution_count": null,
   "metadata": {},
   "outputs": [],
   "source": [
    "a_loom.get_type_dataset().get_exprs_df()"
   ]
  },
  {
   "cell_type": "markdown",
   "metadata": {},
   "source": [
    "## 5. Loading from anndata <a class=\"anchor\" id=\"five\"></a>"
   ]
  },
  {
   "cell_type": "markdown",
   "metadata": {},
   "source": [
    "We can read in data from the [AnnData](https://anndata.readthedocs.io/en/stable/anndata.AnnData.html) format, along with a `yaml` file containing marker information using the `from_anndata_yaml` function:"
   ]
  },
  {
   "cell_type": "code",
   "execution_count": null,
   "metadata": {},
   "outputs": [],
   "source": [
    "a_ann = ast.from_anndata_yaml(anndata_file=expression_anndata_path, marker_yaml=yaml_marker_path,\n",
    "                        protein_name=\"protein\",cell_name=\"cell_name\", batch_name=\"batch\")\n",
    "print(a_ann)"
   ]
  },
  {
   "cell_type": "markdown",
   "metadata": {},
   "source": [
    "Some notes:\n",
    "\n",
    "1. The protein and cell names are taken from `adata.var[protein_name]` and `adata.obs[cell_name]` respectively if specified, and `adata.var_names` and `adata.obs_names` otherwise.\n",
    "\n",
    "2. If `batch_name` is sepecified, the corresponding column of `adata.var` will be assumed as the batch variable and turned into a design matrix.\n",
    "\n",
    "3. The yaml file at `yaml_marker_path` contains the marker which maps protein features to cell type/state classes. The format should match the description of *[marker dictionary](#mk).\n",
    "\n",
    "4. `from_anndata_yaml` returns an Astir object.\n",
    "\n",
    "5. `dtype` and `random_seed` are also customizable. `dtype` is default to `torch.float64` and `random_seed` is default to `1234`."
   ]
  },
  {
   "cell_type": "code",
   "execution_count": null,
   "metadata": {},
   "outputs": [],
   "source": [
    "type(a_ann.get_type_dataset().get_exprs())"
   ]
  },
  {
   "cell_type": "code",
   "execution_count": null,
   "metadata": {},
   "outputs": [],
   "source": [
    "a_ann.get_type_dataset().get_exprs_df()"
   ]
  },
  {
   "cell_type": "code",
   "execution_count": null,
   "metadata": {},
   "outputs": [],
   "source": []
  },
  {
   "cell_type": "code",
   "execution_count": null,
   "metadata": {},
   "outputs": [],
   "source": []
  }
 ],
 "metadata": {
  "kernelspec": {
   "name": "conda-root-py",
   "language": "python",
   "display_name": "Python [conda env:root]"
  },
  "language_info": {
   "codemirror_mode": {
    "name": "ipython",
    "version": 3
   },
   "file_extension": ".py",
   "mimetype": "text/x-python",
   "name": "python",
   "nbconvert_exporter": "python",
   "pygments_lexer": "ipython3",
   "version": "3.7.6"
  }
 },
 "nbformat": 4,
 "nbformat_minor": 4
}
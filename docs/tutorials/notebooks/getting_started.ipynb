{
 "cells": [
  {
   "cell_type": "markdown",
   "metadata": {},
   "source": [
    "# Getting started with astir"
   ]
  },
  {
   "cell_type": "markdown",
   "metadata": {},
   "source": [
    "## 0. Load necessary libraries"
   ]
  },
  {
   "cell_type": "code",
   "execution_count": 13,
   "metadata": {},
   "outputs": [
    {
     "name": "stdout",
     "output_type": "stream",
     "text": [
      "Obtaining file:///Users/jinelles.h/Documents/Camlab/astir-top-level/astir\n",
      "Requirement already satisfied: torch in /Users/jinelles.h/opt/anaconda3/lib/python3.7/site-packages (from astir==0.0.1) (1.5.0)\n",
      "Requirement already satisfied: pandas in /Users/jinelles.h/opt/anaconda3/lib/python3.7/site-packages (from astir==0.0.1) (1.0.1)\n",
      "Requirement already satisfied: numpy in /Users/jinelles.h/opt/anaconda3/lib/python3.7/site-packages (from astir==0.0.1) (1.18.1)\n",
      "Requirement already satisfied: pyyaml in /Users/jinelles.h/opt/anaconda3/lib/python3.7/site-packages (from astir==0.0.1) (5.3)\n",
      "Requirement already satisfied: sklearn in /Users/jinelles.h/opt/anaconda3/lib/python3.7/site-packages (from astir==0.0.1) (0.0)\n",
      "Requirement already satisfied: argparse in /Users/jinelles.h/opt/anaconda3/lib/python3.7/site-packages (from astir==0.0.1) (1.4.0)\n",
      "Requirement already satisfied: matplotlib in /Users/jinelles.h/opt/anaconda3/lib/python3.7/site-packages (from astir==0.0.1) (3.1.3)\n",
      "Requirement already satisfied: loompy in /Users/jinelles.h/opt/anaconda3/lib/python3.7/site-packages (from astir==0.0.1) (3.0.6)\n",
      "Requirement already satisfied: tqdm in /Users/jinelles.h/opt/anaconda3/lib/python3.7/site-packages (from astir==0.0.1) (4.42.1)\n",
      "Requirement already satisfied: future in /Users/jinelles.h/opt/anaconda3/lib/python3.7/site-packages (from torch->astir==0.0.1) (0.18.2)\n",
      "Requirement already satisfied: python-dateutil>=2.6.1 in /Users/jinelles.h/.local/lib/python3.7/site-packages (from pandas->astir==0.0.1) (2.8.1)\n",
      "Requirement already satisfied: pytz>=2017.2 in /Users/jinelles.h/opt/anaconda3/lib/python3.7/site-packages (from pandas->astir==0.0.1) (2019.3)\n",
      "Requirement already satisfied: scikit-learn in /Users/jinelles.h/opt/anaconda3/lib/python3.7/site-packages (from sklearn->astir==0.0.1) (0.22.1)\n",
      "Requirement already satisfied: cycler>=0.10 in /Users/jinelles.h/opt/anaconda3/lib/python3.7/site-packages (from matplotlib->astir==0.0.1) (0.10.0)\n",
      "Requirement already satisfied: pyparsing!=2.0.4,!=2.1.2,!=2.1.6,>=2.0.1 in /Users/jinelles.h/opt/anaconda3/lib/python3.7/site-packages (from matplotlib->astir==0.0.1) (2.4.6)\n",
      "Requirement already satisfied: kiwisolver>=1.0.1 in /Users/jinelles.h/opt/anaconda3/lib/python3.7/site-packages (from matplotlib->astir==0.0.1) (1.1.0)\n",
      "Requirement already satisfied: scipy in /Users/jinelles.h/opt/anaconda3/lib/python3.7/site-packages (from loompy->astir==0.0.1) (1.4.1)\n",
      "Requirement already satisfied: numpy-groupies in /Users/jinelles.h/opt/anaconda3/lib/python3.7/site-packages (from loompy->astir==0.0.1) (0+unknown)\n",
      "Requirement already satisfied: numba in /Users/jinelles.h/opt/anaconda3/lib/python3.7/site-packages (from loompy->astir==0.0.1) (0.48.0)\n",
      "Requirement already satisfied: click in /Users/jinelles.h/.local/lib/python3.7/site-packages (from loompy->astir==0.0.1) (7.1.2)\n",
      "Requirement already satisfied: h5py in /Users/jinelles.h/opt/anaconda3/lib/python3.7/site-packages (from loompy->astir==0.0.1) (2.10.0)\n",
      "Requirement already satisfied: setuptools in /Users/jinelles.h/.local/lib/python3.7/site-packages (from loompy->astir==0.0.1) (46.1.3)\n",
      "Requirement already satisfied: six>=1.5 in /Users/jinelles.h/opt/anaconda3/lib/python3.7/site-packages (from python-dateutil>=2.6.1->pandas->astir==0.0.1) (1.14.0)\n",
      "Requirement already satisfied: joblib>=0.11 in /Users/jinelles.h/opt/anaconda3/lib/python3.7/site-packages (from scikit-learn->sklearn->astir==0.0.1) (0.14.1)\n",
      "Requirement already satisfied: llvmlite<0.32.0,>=0.31.0dev0 in /Users/jinelles.h/opt/anaconda3/lib/python3.7/site-packages (from numba->loompy->astir==0.0.1) (0.31.0)\n",
      "Installing collected packages: astir\n",
      "  Attempting uninstall: astir\n",
      "    Found existing installation: astir 0.0.1\n",
      "    Uninstalling astir-0.0.1:\n",
      "      Successfully uninstalled astir-0.0.1\n",
      "  Running setup.py develop for astir\n",
      "Successfully installed astir\n"
     ]
    }
   ],
   "source": [
    "!pip install -e ../../..\n",
    "from astir.data_readers import from_csv_yaml\n",
    "import pandas as pd"
   ]
  },
  {
   "cell_type": "markdown",
   "metadata": {},
   "source": [
    "## 1. Load data"
   ]
  },
  {
   "cell_type": "markdown",
   "metadata": {},
   "source": [
    "We start by reading expression data in the form of a csv file and marker gene information in the form of a yaml file:"
   ]
  },
  {
   "cell_type": "code",
   "execution_count": 14,
   "metadata": {},
   "outputs": [],
   "source": [
    "expression_mat_path = \"../../../astir/tests/test-data/sce.csv\"\n",
    "yaml_marker_path = \"../../../astir/tests/test-data/jackson-2020-markers.yml\""
   ]
  },
  {
   "cell_type": "markdown",
   "metadata": {},
   "source": [
    ".. note:: \n",
    "    Expression data should already be cleaned and normalized, through e.g. a log transformation and winsorization."
   ]
  },
  {
   "cell_type": "markdown",
   "metadata": {},
   "source": [
    "We can view both the expression data and marker data:"
   ]
  },
  {
   "cell_type": "code",
   "execution_count": 15,
   "metadata": {},
   "outputs": [
    {
     "name": "stdout",
     "output_type": "stream",
     "text": [
      "\r\n",
      "cell_states:\r\n",
      "  RTK_signalling:\r\n",
      "    - Her2\r\n",
      "    - EGFR\r\n",
      "  proliferation:\r\n",
      "    - Ki-67\r\n",
      "    - phospho Histone\r\n",
      "  mTOR_signalling:\r\n",
      "    - phospho mTOR\r\n",
      "    - phospho S6\r\n",
      "  apoptosis:\r\n",
      "    - cleaved PARP\r\n",
      "    - Cleaved Caspase3\r\n",
      "\r\n",
      "cell_types:\r\n",
      "  Stromal:\r\n",
      "    - Vimentin\r\n",
      "    - Fibronectin\r\n",
      "  B cells:\r\n"
     ]
    }
   ],
   "source": [
    "!head -n 20 ../../../astir/tests/test-data/jackson-2020-markers.yml"
   ]
  },
  {
   "cell_type": "code",
   "execution_count": 16,
   "metadata": {},
   "outputs": [
    {
     "data": {
      "text/html": [
       "<div>\n",
       "<style scoped>\n",
       "    .dataframe tbody tr th:only-of-type {\n",
       "        vertical-align: middle;\n",
       "    }\n",
       "\n",
       "    .dataframe tbody tr th {\n",
       "        vertical-align: top;\n",
       "    }\n",
       "\n",
       "    .dataframe thead th {\n",
       "        text-align: right;\n",
       "    }\n",
       "</style>\n",
       "<table border=\"1\" class=\"dataframe\">\n",
       "  <thead>\n",
       "    <tr style=\"text-align: right;\">\n",
       "      <th></th>\n",
       "      <th>EGFR</th>\n",
       "      <th>E-Cadherin</th>\n",
       "      <th>CD45</th>\n",
       "      <th>Cytokeratin 5</th>\n",
       "    </tr>\n",
       "  </thead>\n",
       "  <tbody>\n",
       "    <tr>\n",
       "      <th>BaselTMA_SP41_186_X5Y4_3679</th>\n",
       "      <td>0.346787</td>\n",
       "      <td>0.938354</td>\n",
       "      <td>0.227730</td>\n",
       "      <td>0.095283</td>\n",
       "    </tr>\n",
       "    <tr>\n",
       "      <th>BaselTMA_SP41_153_X7Y5_246</th>\n",
       "      <td>0.833752</td>\n",
       "      <td>1.364884</td>\n",
       "      <td>0.068526</td>\n",
       "      <td>0.124031</td>\n",
       "    </tr>\n",
       "    <tr>\n",
       "      <th>BaselTMA_SP41_20_X12Y5_197</th>\n",
       "      <td>0.110006</td>\n",
       "      <td>0.177361</td>\n",
       "      <td>0.301222</td>\n",
       "      <td>0.052750</td>\n",
       "    </tr>\n",
       "    <tr>\n",
       "      <th>BaselTMA_SP41_14_X1Y8_84</th>\n",
       "      <td>0.282666</td>\n",
       "      <td>1.122174</td>\n",
       "      <td>0.606941</td>\n",
       "      <td>0.093352</td>\n",
       "    </tr>\n",
       "    <tr>\n",
       "      <th>BaselTMA_SP41_166_X15Y4_266</th>\n",
       "      <td>0.209066</td>\n",
       "      <td>0.402554</td>\n",
       "      <td>0.588273</td>\n",
       "      <td>0.064545</td>\n",
       "    </tr>\n",
       "  </tbody>\n",
       "</table>\n",
       "</div>"
      ],
      "text/plain": [
       "                                 EGFR  E-Cadherin      CD45  Cytokeratin 5\n",
       "BaselTMA_SP41_186_X5Y4_3679  0.346787    0.938354  0.227730       0.095283\n",
       "BaselTMA_SP41_153_X7Y5_246   0.833752    1.364884  0.068526       0.124031\n",
       "BaselTMA_SP41_20_X12Y5_197   0.110006    0.177361  0.301222       0.052750\n",
       "BaselTMA_SP41_14_X1Y8_84     0.282666    1.122174  0.606941       0.093352\n",
       "BaselTMA_SP41_166_X15Y4_266  0.209066    0.402554  0.588273       0.064545"
      ]
     },
     "execution_count": 16,
     "metadata": {},
     "output_type": "execute_result"
    }
   ],
   "source": [
    "pd.read_csv(expression_mat_path, index_col=0)[['EGFR','E-Cadherin', 'CD45', 'Cytokeratin 5']].head()"
   ]
  },
  {
   "cell_type": "markdown",
   "metadata": {},
   "source": [
    "Then we can create an astir object using the `from_csv_yaml` function. For more data loading options, see the data loading tutorial."
   ]
  },
  {
   "cell_type": "code",
   "execution_count": 17,
   "metadata": {},
   "outputs": [
    {
     "name": "stdout",
     "output_type": "stream",
     "text": [
      "Astir object with 6 cell types, 4 cell states, and 100 cells.\n"
     ]
    }
   ],
   "source": [
    "ast = from_csv_yaml(expression_mat_path, marker_yaml=yaml_marker_path)\n",
    "print(ast)"
   ]
  },
  {
   "cell_type": "markdown",
   "metadata": {},
   "source": [
    "## 2. Fitting cell types"
   ]
  },
  {
   "cell_type": "markdown",
   "metadata": {},
   "source": [
    "To fit cell types, simply call"
   ]
  },
  {
   "cell_type": "code",
   "execution_count": 18,
   "metadata": {},
   "outputs": [
    {
     "name": "stderr",
     "output_type": "stream",
     "text": [
      "training astir: 100%|██████████| 10/10 [00:00<00:00, 52.58epochs/s]\n",
      "training astir:   0%|          | 0/10 [00:00<?, ?epochs/s]"
     ]
    },
    {
     "name": "stdout",
     "output_type": "stream",
     "text": [
      "---------- Astir Training 1/5 ----------\n",
      "Done!\n",
      "---------- Astir Training 2/5 ----------\n"
     ]
    },
    {
     "name": "stderr",
     "output_type": "stream",
     "text": [
      "training astir: 100%|██████████| 10/10 [00:00<00:00, 57.28epochs/s]\n",
      "training astir: 100%|██████████| 10/10 [00:00<00:00, 66.08epochs/s]\n",
      "training astir:   0%|          | 0/10 [00:00<?, ?epochs/s]"
     ]
    },
    {
     "name": "stdout",
     "output_type": "stream",
     "text": [
      "Done!\n",
      "---------- Astir Training 3/5 ----------\n",
      "Done!\n",
      "---------- Astir Training 4/5 ----------\n"
     ]
    },
    {
     "name": "stderr",
     "output_type": "stream",
     "text": [
      "training astir: 100%|██████████| 10/10 [00:00<00:00, 63.83epochs/s]\n",
      "training astir: 100%|██████████| 10/10 [00:00<00:00, 66.13epochs/s]"
     ]
    },
    {
     "name": "stdout",
     "output_type": "stream",
     "text": [
      "Done!\n",
      "---------- Astir Training 5/5 ----------\n",
      "Done!\n"
     ]
    },
    {
     "name": "stderr",
     "output_type": "stream",
     "text": [
      "\n",
      "/Users/jinelles.h/Documents/Camlab/astir-top-level/astir/astir/astir.py:164: UserWarning: Maximum epochs reached. More iteration may be needed to complete the training.\n",
      "  warnings.warn(msg)\n"
     ]
    }
   ],
   "source": [
    "ast.fit_type()"
   ]
  },
  {
   "cell_type": "code",
   "execution_count": 24,
   "metadata": {},
   "outputs": [
    {
     "name": "stderr",
     "output_type": "stream",
     "text": [
      "100%|██████████| 20/20 [00:02<00:00,  9.52it/s]\n"
     ]
    }
   ],
   "source": [
    "# import sys\n",
    "# from time import sleep\n",
    "# from tqdm import tqdm\n",
    "\n",
    "# for i in tqdm(range(20)):\n",
    "#     sleep(0.1)\n",
    "\n",
    "# values = range(20)\n",
    "# with tqdm(total=len(values), file=sys.stdout) as pbar:\n",
    "#     for i in values:\n",
    "#         pbar.set_description('processed: %d' % (1 + i))\n",
    "#         pbar.update(1)\n",
    "#         sleep(0.1)"
   ]
  },
  {
   "cell_type": "markdown",
   "metadata": {},
   "source": [
    ".. note:: \n",
    "    **Controlling inference**\n",
    "    There are many different options for controlling inference in the `fit_type` function, including\n",
    "    `max_epochs` (maximum number of epochs to train),\n",
    "    `learning_rate` (ADAM optimizer learning rate),\n",
    "    `batch_size` (minibatch size),\n",
    "    `delta_loss` (stops iteration once the change in loss falls below this value),\n",
    "    `n_inits` (number of restarts using random initializations).\n",
    "    For full details, see the function documentation."
   ]
  },
  {
   "cell_type": "markdown",
   "metadata": {},
   "source": [
    "We can then get cell type assignment probabilities by calling"
   ]
  },
  {
   "cell_type": "code",
   "execution_count": null,
   "metadata": {},
   "outputs": [],
   "source": [
    "assignments = ast.get_celltype_probabilities()\n",
    "assignments"
   ]
  },
  {
   "cell_type": "markdown",
   "metadata": {},
   "source": [
    "where each row corresponds to a cell, and each column to a cell type, with the entry being the probability of that cell belonging to a particular cell type.\n",
    "\n",
    "To fetch an array corresponding to the most likely cell type assignments, call"
   ]
  },
  {
   "cell_type": "code",
   "execution_count": null,
   "metadata": {},
   "outputs": [],
   "source": [
    "# TODO"
   ]
  },
  {
   "cell_type": "markdown",
   "metadata": {},
   "source": [
    "## 3. Fitting cell state"
   ]
  },
  {
   "cell_type": "markdown",
   "metadata": {},
   "source": [
    "Similarly as before, to fit cell state, call"
   ]
  },
  {
   "cell_type": "code",
   "execution_count": 25,
   "metadata": {},
   "outputs": [
    {
     "name": "stderr",
     "output_type": "stream",
     "text": [
      "training astir: 100%|██████████| 100/100 [00:00<00:00, 774.10epochs/s]\n",
      "training astir:   0%|          | 0/100 [00:00<?, ?epochs/s]"
     ]
    },
    {
     "name": "stdout",
     "output_type": "stream",
     "text": [
      "---------- Astir Training 1/5 ----------\n",
      "---------- Astir Training 2/5 ----------\n"
     ]
    },
    {
     "name": "stderr",
     "output_type": "stream",
     "text": [
      "training astir: 100%|██████████| 100/100 [00:00<00:00, 848.74epochs/s]\n",
      "training astir: 100%|██████████| 100/100 [00:00<00:00, 943.06epochs/s]\n",
      "training astir:   0%|          | 0/100 [00:00<?, ?epochs/s]"
     ]
    },
    {
     "name": "stdout",
     "output_type": "stream",
     "text": [
      "---------- Astir Training 3/5 ----------\n",
      "---------- Astir Training 4/5 ----------\n"
     ]
    },
    {
     "name": "stderr",
     "output_type": "stream",
     "text": [
      "training astir: 100%|██████████| 100/100 [00:00<00:00, 873.29epochs/s]\n",
      "training astir: 100%|██████████| 100/100 [00:00<00:00, 936.03epochs/s]\n",
      "/Users/jinelles.h/Documents/Camlab/astir-top-level/astir/astir/models/cellstate.py:134: UserWarning: Delta loss batch size is greater than the number of epochs\n",
      "  warnings.warn(\"Delta loss batch size is greater than the number of epochs\")\n",
      "training astir: 0epochs [00:00, ?epochs/s]"
     ]
    },
    {
     "name": "stdout",
     "output_type": "stream",
     "text": [
      "---------- Astir Training 5/5 ----------\n"
     ]
    },
    {
     "name": "stderr",
     "output_type": "stream",
     "text": [
      "\n",
      "/Users/jinelles.h/Documents/Camlab/astir-top-level/astir/astir/astir.py:250: UserWarning: Maximum epochs reached. More iteration may be needed to complete the training.\n",
      "  warnings.warn(msg)\n"
     ]
    }
   ],
   "source": [
    "ast.fit_state()"
   ]
  },
  {
   "cell_type": "markdown",
   "metadata": {},
   "source": [
    "and cell state assignments can be inferred via"
   ]
  },
  {
   "cell_type": "code",
   "execution_count": null,
   "metadata": {},
   "outputs": [],
   "source": [
    "states = ast.get_cellstates()\n",
    "states"
   ]
  },
  {
   "cell_type": "markdown",
   "metadata": {},
   "source": [
    "## 4. Saving results"
   ]
  },
  {
   "cell_type": "markdown",
   "metadata": {},
   "source": [
    "Both cell type and cell state information can easily be saved to disk via"
   ]
  },
  {
   "cell_type": "code",
   "execution_count": null,
   "metadata": {},
   "outputs": [],
   "source": [
    "ast.type_to_csv(\"cell-types.csv\")\n",
    "ast.state_to_csv(\"cell-states.csv\")"
   ]
  },
  {
   "cell_type": "code",
   "execution_count": null,
   "metadata": {},
   "outputs": [],
   "source": [
    "!head -n 3 cell-types.csv"
   ]
  },
  {
   "cell_type": "code",
   "execution_count": null,
   "metadata": {},
   "outputs": [],
   "source": [
    "!head -n 3 cell-states.csv"
   ]
  },
  {
   "cell_type": "markdown",
   "metadata": {},
   "source": [
    "where the first (unnamed) column always corresponds to the cell name/ID."
   ]
  },
  {
   "cell_type": "markdown",
   "metadata": {},
   "source": [
    "## 5. Accessing internal functions and data"
   ]
  },
  {
   "cell_type": "markdown",
   "metadata": {},
   "source": [
    "Data stored in `astir` objects is in the form of an `SCDataSet`. These can be retrieved via"
   ]
  },
  {
   "cell_type": "code",
   "execution_count": null,
   "metadata": {},
   "outputs": [],
   "source": [
    "celltype_data = ast.get_type_dataset()\n",
    "celltype_data"
   ]
  },
  {
   "cell_type": "markdown",
   "metadata": {},
   "source": [
    "and similarly for cell state via `ast.get_state_dataset()`.\n",
    "\n",
    "These have several helper functions to retrieve relevant information to the dataset:"
   ]
  },
  {
   "cell_type": "code",
   "execution_count": null,
   "metadata": {},
   "outputs": [],
   "source": [
    "celltype_data.get_cells()[0:4] # cell names"
   ]
  },
  {
   "cell_type": "code",
   "execution_count": null,
   "metadata": {},
   "outputs": [],
   "source": [
    "celltype_data.get_classes() # cell type names"
   ]
  },
  {
   "cell_type": "code",
   "execution_count": null,
   "metadata": {},
   "outputs": [],
   "source": [
    "print(celltype_data.get_n_classes()) # number of cell types\n",
    "print(celltype_data.get_n_features()) # number of features / proteins"
   ]
  },
  {
   "cell_type": "code",
   "execution_count": null,
   "metadata": {},
   "outputs": [],
   "source": [
    "celltype_data.get_exprs() # Return a torch tensor corresponding to the expression data used"
   ]
  },
  {
   "cell_type": "code",
   "execution_count": null,
   "metadata": {},
   "outputs": [],
   "source": []
  },
  {
   "cell_type": "code",
   "execution_count": null,
   "metadata": {},
   "outputs": [],
   "source": []
  },
  {
   "cell_type": "code",
   "execution_count": null,
   "metadata": {},
   "outputs": [],
   "source": []
  }
 ],
 "metadata": {
  "kernelspec": {
   "display_name": "Python 3",
   "language": "python",
   "name": "python3"
  },
  "language_info": {
   "codemirror_mode": {
    "name": "ipython",
    "version": 3
   },
   "file_extension": ".py",
   "mimetype": "text/x-python",
   "name": "python",
   "nbconvert_exporter": "python",
   "pygments_lexer": "ipython3",
   "version": "3.7.6"
  }
 },
 "nbformat": 4,
 "nbformat_minor": 4
}

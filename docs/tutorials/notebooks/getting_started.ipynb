{
 "cells": [
  {
   "cell_type": "markdown",
   "metadata": {},
   "source": [
    "# Getting started with astir"
   ]
  },
  {
   "cell_type": "markdown",
   "metadata": {},
   "source": [
    "## 0. Load necessary libraries"
   ]
  },
  {
   "cell_type": "code",
   "execution_count": 23,
   "metadata": {},
   "outputs": [
    {
     "name": "stdout",
     "output_type": "stream",
     "text": [
      "The autoreload extension is already loaded. To reload it, use:\n",
      "  %reload_ext autoreload\n"
     ]
    }
   ],
   "source": [
    "# !pip install -e ../../..\n",
    "from astir.data_readers import from_csv_yaml\n",
    "import pandas as pd\n",
    "%load_ext autoreload\n",
    "%autoreload 2"
   ]
  },
  {
   "cell_type": "markdown",
   "metadata": {},
   "source": [
    "## 1. Load data"
   ]
  },
  {
   "cell_type": "markdown",
   "metadata": {},
   "source": [
    "We start by reading expression data in the form of a csv file and marker gene information in the form of a yaml file:"
   ]
  },
  {
   "cell_type": "code",
   "execution_count": 24,
   "metadata": {},
   "outputs": [],
   "source": [
    "expression_mat_path = \"../../../astir/tests/test-data/sce.csv\"\n",
    "yaml_marker_path = \"../../../astir/tests/test-data/jackson-2020-markers.yml\""
   ]
  },
  {
   "cell_type": "markdown",
   "metadata": {},
   "source": [
    ".. note:: \n",
    "    Expression data should already be cleaned and normalized. In our workflow, we perform this by a log-transformation of the data with a pseudocount of 1 (i.e. `log(x+1)`), followed by winsorization at the (1%,99%) percentiles."
   ]
  },
  {
   "cell_type": "markdown",
   "metadata": {},
   "source": [
    "We can view both the expression data and marker data:"
   ]
  },
  {
   "cell_type": "code",
   "execution_count": 25,
   "metadata": {},
   "outputs": [
    {
     "name": "stdout",
     "output_type": "stream",
     "text": [
      "\r\n",
      "cell_states:\r\n",
      "  RTK_signalling:\r\n",
      "    - Her2\r\n",
      "    - EGFR\r\n",
      "  proliferation:\r\n",
      "    - Ki-67\r\n",
      "    - phospho Histone\r\n",
      "  mTOR_signalling:\r\n",
      "    - phospho mTOR\r\n",
      "    - phospho S6\r\n",
      "  apoptosis:\r\n",
      "    - cleaved PARP\r\n",
      "    - Cleaved Caspase3\r\n",
      "\r\n",
      "cell_types:\r\n",
      "  Stromal:\r\n",
      "    - Vimentin\r\n",
      "    - Fibronectin\r\n",
      "  B cells:\r\n"
     ]
    }
   ],
   "source": [
    "!head -n 20 ../../../astir/tests/test-data/jackson-2020-markers.yml"
   ]
  },
  {
   "cell_type": "code",
   "execution_count": 26,
   "metadata": {},
   "outputs": [
    {
     "data": {
      "text/html": [
       "<div>\n",
       "<style scoped>\n",
       "    .dataframe tbody tr th:only-of-type {\n",
       "        vertical-align: middle;\n",
       "    }\n",
       "\n",
       "    .dataframe tbody tr th {\n",
       "        vertical-align: top;\n",
       "    }\n",
       "\n",
       "    .dataframe thead th {\n",
       "        text-align: right;\n",
       "    }\n",
       "</style>\n",
       "<table border=\"1\" class=\"dataframe\">\n",
       "  <thead>\n",
       "    <tr style=\"text-align: right;\">\n",
       "      <th></th>\n",
       "      <th>EGFR</th>\n",
       "      <th>E-Cadherin</th>\n",
       "      <th>CD45</th>\n",
       "      <th>Cytokeratin 5</th>\n",
       "    </tr>\n",
       "  </thead>\n",
       "  <tbody>\n",
       "    <tr>\n",
       "      <th>BaselTMA_SP41_186_X5Y4_3679</th>\n",
       "      <td>0.346787</td>\n",
       "      <td>0.938354</td>\n",
       "      <td>0.227730</td>\n",
       "      <td>0.095283</td>\n",
       "    </tr>\n",
       "    <tr>\n",
       "      <th>BaselTMA_SP41_153_X7Y5_246</th>\n",
       "      <td>0.833752</td>\n",
       "      <td>1.364884</td>\n",
       "      <td>0.068526</td>\n",
       "      <td>0.124031</td>\n",
       "    </tr>\n",
       "    <tr>\n",
       "      <th>BaselTMA_SP41_20_X12Y5_197</th>\n",
       "      <td>0.110006</td>\n",
       "      <td>0.177361</td>\n",
       "      <td>0.301222</td>\n",
       "      <td>0.052750</td>\n",
       "    </tr>\n",
       "    <tr>\n",
       "      <th>BaselTMA_SP41_14_X1Y8_84</th>\n",
       "      <td>0.282666</td>\n",
       "      <td>1.122174</td>\n",
       "      <td>0.606941</td>\n",
       "      <td>0.093352</td>\n",
       "    </tr>\n",
       "    <tr>\n",
       "      <th>BaselTMA_SP41_166_X15Y4_266</th>\n",
       "      <td>0.209066</td>\n",
       "      <td>0.402554</td>\n",
       "      <td>0.588273</td>\n",
       "      <td>0.064545</td>\n",
       "    </tr>\n",
       "  </tbody>\n",
       "</table>\n",
       "</div>"
      ],
      "text/plain": [
       "                                 EGFR  E-Cadherin      CD45  Cytokeratin 5\n",
       "BaselTMA_SP41_186_X5Y4_3679  0.346787    0.938354  0.227730       0.095283\n",
       "BaselTMA_SP41_153_X7Y5_246   0.833752    1.364884  0.068526       0.124031\n",
       "BaselTMA_SP41_20_X12Y5_197   0.110006    0.177361  0.301222       0.052750\n",
       "BaselTMA_SP41_14_X1Y8_84     0.282666    1.122174  0.606941       0.093352\n",
       "BaselTMA_SP41_166_X15Y4_266  0.209066    0.402554  0.588273       0.064545"
      ]
     },
     "execution_count": 26,
     "metadata": {},
     "output_type": "execute_result"
    }
   ],
   "source": [
    "pd.read_csv(expression_mat_path, index_col=0)[['EGFR','E-Cadherin', 'CD45', 'Cytokeratin 5']].head()"
   ]
  },
  {
   "cell_type": "markdown",
   "metadata": {},
   "source": [
    "Then we can create an astir object using the `from_csv_yaml` function. For more data loading options, see the data loading tutorial."
   ]
  },
  {
   "cell_type": "code",
   "execution_count": 27,
   "metadata": {},
   "outputs": [
    {
     "name": "stdout",
     "output_type": "stream",
     "text": [
      "Astir object with 6 cell types, 4 cell states, and 100 cells.\n"
     ]
    }
   ],
   "source": [
    "ast = from_csv_yaml(expression_mat_path, marker_yaml=yaml_marker_path)\n",
    "print(ast)"
   ]
  },
  {
   "cell_type": "markdown",
   "metadata": {},
   "source": [
    "## 2. Fitting cell types"
   ]
  },
  {
   "cell_type": "markdown",
   "metadata": {},
   "source": [
    "To fit cell types, simply call"
   ]
  },
  {
   "cell_type": "code",
   "execution_count": 28,
   "metadata": {},
   "outputs": [
    {
     "name": "stderr",
     "output_type": "stream",
     "text": [
      "training astir:  50%|█████     | 5/10 [00:00<00:00, 48.78epochs/s]"
     ]
    },
    {
     "name": "stdout",
     "output_type": "stream",
     "text": [
      "---------- Astir Training 1/5 ----------\n"
     ]
    },
    {
     "name": "stderr",
     "output_type": "stream",
     "text": [
      "training astir: 100%|██████████| 10/10 [00:00<00:00, 50.27epochs/s]\n",
      "training astir: 100%|██████████| 10/10 [00:00<00:00, 54.29epochs/s]\n",
      "training astir:   0%|          | 0/10 [00:00<?, ?epochs/s]"
     ]
    },
    {
     "name": "stdout",
     "output_type": "stream",
     "text": [
      "Done!\n",
      "---------- Astir Training 2/5 ----------\n",
      "Done!\n",
      "---------- Astir Training 3/5 ----------\n"
     ]
    },
    {
     "name": "stderr",
     "output_type": "stream",
     "text": [
      "training astir: 100%|██████████| 10/10 [00:00<00:00, 54.11epochs/s]\n",
      "training astir: 100%|██████████| 10/10 [00:00<00:00, 56.06epochs/s]\n",
      "training astir:   0%|          | 0/10 [00:00<?, ?epochs/s]"
     ]
    },
    {
     "name": "stdout",
     "output_type": "stream",
     "text": [
      "Done!\n",
      "---------- Astir Training 4/5 ----------\n",
      "Done!\n",
      "---------- Astir Training 5/5 ----------\n"
     ]
    },
    {
     "name": "stderr",
     "output_type": "stream",
     "text": [
      "training astir: 100%|██████████| 10/10 [00:00<00:00, 53.92epochs/s]"
     ]
    },
    {
     "name": "stdout",
     "output_type": "stream",
     "text": [
      "Done!\n"
     ]
    },
    {
     "name": "stderr",
     "output_type": "stream",
     "text": [
      "\n",
      "/Users/kierancampbell/toronto/astir/astir/astir.py:164: UserWarning: Maximum epochs reached. More iteration may be needed to complete the training.\n",
      "  warnings.warn(msg)\n"
     ]
    }
   ],
   "source": [
    "ast.fit_type()"
   ]
  },
  {
   "cell_type": "markdown",
   "metadata": {},
   "source": [
    ".. note:: \n",
    "    **Controlling inference**\n",
    "    There are many different options for controlling inference in the `fit_type` function, including\n",
    "    `max_epochs` (maximum number of epochs to train),\n",
    "    `learning_rate` (ADAM optimizer learning rate),\n",
    "    `batch_size` (minibatch size),\n",
    "    `delta_loss` (stops iteration once the change in loss falls below this value),\n",
    "    `n_inits` (number of restarts using random initializations).\n",
    "    For full details, see the function documentation."
   ]
  },
  {
   "cell_type": "markdown",
   "metadata": {},
   "source": [
    "We can then get cell type assignment probabilities by calling"
   ]
  },
  {
   "cell_type": "code",
   "execution_count": 29,
   "metadata": {},
   "outputs": [
    {
     "data": {
      "text/html": [
       "<div>\n",
       "<style scoped>\n",
       "    .dataframe tbody tr th:only-of-type {\n",
       "        vertical-align: middle;\n",
       "    }\n",
       "\n",
       "    .dataframe tbody tr th {\n",
       "        vertical-align: top;\n",
       "    }\n",
       "\n",
       "    .dataframe thead th {\n",
       "        text-align: right;\n",
       "    }\n",
       "</style>\n",
       "<table border=\"1\" class=\"dataframe\">\n",
       "  <thead>\n",
       "    <tr style=\"text-align: right;\">\n",
       "      <th></th>\n",
       "      <th>Stromal</th>\n",
       "      <th>B cells</th>\n",
       "      <th>T cells</th>\n",
       "      <th>Macrophage</th>\n",
       "      <th>Epithelial (basal)</th>\n",
       "      <th>Epithelial (luminal)</th>\n",
       "      <th>Other</th>\n",
       "    </tr>\n",
       "  </thead>\n",
       "  <tbody>\n",
       "    <tr>\n",
       "      <th>BaselTMA_SP41_186_X5Y4_3679</th>\n",
       "      <td>0.221248</td>\n",
       "      <td>0.098653</td>\n",
       "      <td>0.229925</td>\n",
       "      <td>0.412613</td>\n",
       "      <td>0.003278</td>\n",
       "      <td>0.001213</td>\n",
       "      <td>0.033069</td>\n",
       "    </tr>\n",
       "    <tr>\n",
       "      <th>BaselTMA_SP41_153_X7Y5_246</th>\n",
       "      <td>0.000633</td>\n",
       "      <td>0.002620</td>\n",
       "      <td>0.002430</td>\n",
       "      <td>0.001141</td>\n",
       "      <td>0.085851</td>\n",
       "      <td>0.904860</td>\n",
       "      <td>0.002465</td>\n",
       "    </tr>\n",
       "    <tr>\n",
       "      <th>BaselTMA_SP41_20_X12Y5_197</th>\n",
       "      <td>0.342378</td>\n",
       "      <td>0.145090</td>\n",
       "      <td>0.171638</td>\n",
       "      <td>0.194915</td>\n",
       "      <td>0.003327</td>\n",
       "      <td>0.001646</td>\n",
       "      <td>0.141006</td>\n",
       "    </tr>\n",
       "    <tr>\n",
       "      <th>BaselTMA_SP41_14_X1Y8_84</th>\n",
       "      <td>0.017431</td>\n",
       "      <td>0.047667</td>\n",
       "      <td>0.143390</td>\n",
       "      <td>0.027049</td>\n",
       "      <td>0.097624</td>\n",
       "      <td>0.642212</td>\n",
       "      <td>0.024626</td>\n",
       "    </tr>\n",
       "    <tr>\n",
       "      <th>BaselTMA_SP41_166_X15Y4_266</th>\n",
       "      <td>0.248586</td>\n",
       "      <td>0.169628</td>\n",
       "      <td>0.212497</td>\n",
       "      <td>0.325423</td>\n",
       "      <td>0.003296</td>\n",
       "      <td>0.001028</td>\n",
       "      <td>0.039542</td>\n",
       "    </tr>\n",
       "    <tr>\n",
       "      <th>...</th>\n",
       "      <td>...</td>\n",
       "      <td>...</td>\n",
       "      <td>...</td>\n",
       "      <td>...</td>\n",
       "      <td>...</td>\n",
       "      <td>...</td>\n",
       "      <td>...</td>\n",
       "    </tr>\n",
       "    <tr>\n",
       "      <th>BaselTMA_SP41_114_X13Y4_1057</th>\n",
       "      <td>0.006040</td>\n",
       "      <td>0.027174</td>\n",
       "      <td>0.019759</td>\n",
       "      <td>0.010380</td>\n",
       "      <td>0.484074</td>\n",
       "      <td>0.433319</td>\n",
       "      <td>0.019253</td>\n",
       "    </tr>\n",
       "    <tr>\n",
       "      <th>BaselTMA_SP41_141_X11Y2_2596</th>\n",
       "      <td>0.008376</td>\n",
       "      <td>0.026720</td>\n",
       "      <td>0.019474</td>\n",
       "      <td>0.014057</td>\n",
       "      <td>0.276350</td>\n",
       "      <td>0.629712</td>\n",
       "      <td>0.025312</td>\n",
       "    </tr>\n",
       "    <tr>\n",
       "      <th>BaselTMA_SP41_100_X15Y5_170</th>\n",
       "      <td>0.165827</td>\n",
       "      <td>0.146199</td>\n",
       "      <td>0.155665</td>\n",
       "      <td>0.187260</td>\n",
       "      <td>0.059510</td>\n",
       "      <td>0.063353</td>\n",
       "      <td>0.222186</td>\n",
       "    </tr>\n",
       "    <tr>\n",
       "      <th>BaselTMA_SP41_14_X1Y8_2604</th>\n",
       "      <td>0.289735</td>\n",
       "      <td>0.095814</td>\n",
       "      <td>0.222850</td>\n",
       "      <td>0.355587</td>\n",
       "      <td>0.001338</td>\n",
       "      <td>0.000424</td>\n",
       "      <td>0.034252</td>\n",
       "    </tr>\n",
       "    <tr>\n",
       "      <th>BaselTMA_SP41_186_X5Y4_81</th>\n",
       "      <td>0.307877</td>\n",
       "      <td>0.126025</td>\n",
       "      <td>0.288519</td>\n",
       "      <td>0.190533</td>\n",
       "      <td>0.006927</td>\n",
       "      <td>0.002562</td>\n",
       "      <td>0.077557</td>\n",
       "    </tr>\n",
       "  </tbody>\n",
       "</table>\n",
       "<p>100 rows × 7 columns</p>\n",
       "</div>"
      ],
      "text/plain": [
       "                               Stromal   B cells   T cells  Macrophage  \\\n",
       "BaselTMA_SP41_186_X5Y4_3679   0.221248  0.098653  0.229925    0.412613   \n",
       "BaselTMA_SP41_153_X7Y5_246    0.000633  0.002620  0.002430    0.001141   \n",
       "BaselTMA_SP41_20_X12Y5_197    0.342378  0.145090  0.171638    0.194915   \n",
       "BaselTMA_SP41_14_X1Y8_84      0.017431  0.047667  0.143390    0.027049   \n",
       "BaselTMA_SP41_166_X15Y4_266   0.248586  0.169628  0.212497    0.325423   \n",
       "...                                ...       ...       ...         ...   \n",
       "BaselTMA_SP41_114_X13Y4_1057  0.006040  0.027174  0.019759    0.010380   \n",
       "BaselTMA_SP41_141_X11Y2_2596  0.008376  0.026720  0.019474    0.014057   \n",
       "BaselTMA_SP41_100_X15Y5_170   0.165827  0.146199  0.155665    0.187260   \n",
       "BaselTMA_SP41_14_X1Y8_2604    0.289735  0.095814  0.222850    0.355587   \n",
       "BaselTMA_SP41_186_X5Y4_81     0.307877  0.126025  0.288519    0.190533   \n",
       "\n",
       "                              Epithelial (basal)  Epithelial (luminal)  \\\n",
       "BaselTMA_SP41_186_X5Y4_3679             0.003278              0.001213   \n",
       "BaselTMA_SP41_153_X7Y5_246              0.085851              0.904860   \n",
       "BaselTMA_SP41_20_X12Y5_197              0.003327              0.001646   \n",
       "BaselTMA_SP41_14_X1Y8_84                0.097624              0.642212   \n",
       "BaselTMA_SP41_166_X15Y4_266             0.003296              0.001028   \n",
       "...                                          ...                   ...   \n",
       "BaselTMA_SP41_114_X13Y4_1057            0.484074              0.433319   \n",
       "BaselTMA_SP41_141_X11Y2_2596            0.276350              0.629712   \n",
       "BaselTMA_SP41_100_X15Y5_170             0.059510              0.063353   \n",
       "BaselTMA_SP41_14_X1Y8_2604              0.001338              0.000424   \n",
       "BaselTMA_SP41_186_X5Y4_81               0.006927              0.002562   \n",
       "\n",
       "                                 Other  \n",
       "BaselTMA_SP41_186_X5Y4_3679   0.033069  \n",
       "BaselTMA_SP41_153_X7Y5_246    0.002465  \n",
       "BaselTMA_SP41_20_X12Y5_197    0.141006  \n",
       "BaselTMA_SP41_14_X1Y8_84      0.024626  \n",
       "BaselTMA_SP41_166_X15Y4_266   0.039542  \n",
       "...                                ...  \n",
       "BaselTMA_SP41_114_X13Y4_1057  0.019253  \n",
       "BaselTMA_SP41_141_X11Y2_2596  0.025312  \n",
       "BaselTMA_SP41_100_X15Y5_170   0.222186  \n",
       "BaselTMA_SP41_14_X1Y8_2604    0.034252  \n",
       "BaselTMA_SP41_186_X5Y4_81     0.077557  \n",
       "\n",
       "[100 rows x 7 columns]"
      ]
     },
     "execution_count": 29,
     "metadata": {},
     "output_type": "execute_result"
    }
   ],
   "source": [
    "assignments = ast.get_celltype_probabilities()\n",
    "assignments"
   ]
  },
  {
   "cell_type": "markdown",
   "metadata": {},
   "source": [
    "where each row corresponds to a cell, and each column to a cell type, with the entry being the probability of that cell belonging to a particular cell type.\n",
    "\n",
    "To fetch an array corresponding to the most likely cell type assignments, call"
   ]
  },
  {
   "cell_type": "code",
   "execution_count": 30,
   "metadata": {},
   "outputs": [
    {
     "data": {
      "text/html": [
       "<div>\n",
       "<style scoped>\n",
       "    .dataframe tbody tr th:only-of-type {\n",
       "        vertical-align: middle;\n",
       "    }\n",
       "\n",
       "    .dataframe tbody tr th {\n",
       "        vertical-align: top;\n",
       "    }\n",
       "\n",
       "    .dataframe thead th {\n",
       "        text-align: right;\n",
       "    }\n",
       "</style>\n",
       "<table border=\"1\" class=\"dataframe\">\n",
       "  <thead>\n",
       "    <tr style=\"text-align: right;\">\n",
       "      <th></th>\n",
       "      <th>cell_type</th>\n",
       "    </tr>\n",
       "  </thead>\n",
       "  <tbody>\n",
       "    <tr>\n",
       "      <th>BaselTMA_SP41_186_X5Y4_3679</th>\n",
       "      <td>Unknown</td>\n",
       "    </tr>\n",
       "    <tr>\n",
       "      <th>BaselTMA_SP41_153_X7Y5_246</th>\n",
       "      <td>Epithelial (luminal)</td>\n",
       "    </tr>\n",
       "    <tr>\n",
       "      <th>BaselTMA_SP41_20_X12Y5_197</th>\n",
       "      <td>Unknown</td>\n",
       "    </tr>\n",
       "    <tr>\n",
       "      <th>BaselTMA_SP41_14_X1Y8_84</th>\n",
       "      <td>Unknown</td>\n",
       "    </tr>\n",
       "    <tr>\n",
       "      <th>BaselTMA_SP41_166_X15Y4_266</th>\n",
       "      <td>Unknown</td>\n",
       "    </tr>\n",
       "    <tr>\n",
       "      <th>...</th>\n",
       "      <td>...</td>\n",
       "    </tr>\n",
       "    <tr>\n",
       "      <th>BaselTMA_SP41_114_X13Y4_1057</th>\n",
       "      <td>Unknown</td>\n",
       "    </tr>\n",
       "    <tr>\n",
       "      <th>BaselTMA_SP41_141_X11Y2_2596</th>\n",
       "      <td>Unknown</td>\n",
       "    </tr>\n",
       "    <tr>\n",
       "      <th>BaselTMA_SP41_100_X15Y5_170</th>\n",
       "      <td>Unknown</td>\n",
       "    </tr>\n",
       "    <tr>\n",
       "      <th>BaselTMA_SP41_14_X1Y8_2604</th>\n",
       "      <td>Unknown</td>\n",
       "    </tr>\n",
       "    <tr>\n",
       "      <th>BaselTMA_SP41_186_X5Y4_81</th>\n",
       "      <td>Unknown</td>\n",
       "    </tr>\n",
       "  </tbody>\n",
       "</table>\n",
       "<p>100 rows × 1 columns</p>\n",
       "</div>"
      ],
      "text/plain": [
       "                                         cell_type\n",
       "BaselTMA_SP41_186_X5Y4_3679                Unknown\n",
       "BaselTMA_SP41_153_X7Y5_246    Epithelial (luminal)\n",
       "BaselTMA_SP41_20_X12Y5_197                 Unknown\n",
       "BaselTMA_SP41_14_X1Y8_84                   Unknown\n",
       "BaselTMA_SP41_166_X15Y4_266                Unknown\n",
       "...                                            ...\n",
       "BaselTMA_SP41_114_X13Y4_1057               Unknown\n",
       "BaselTMA_SP41_141_X11Y2_2596               Unknown\n",
       "BaselTMA_SP41_100_X15Y5_170                Unknown\n",
       "BaselTMA_SP41_14_X1Y8_2604                 Unknown\n",
       "BaselTMA_SP41_186_X5Y4_81                  Unknown\n",
       "\n",
       "[100 rows x 1 columns]"
      ]
     },
     "execution_count": 30,
     "metadata": {},
     "output_type": "execute_result"
    }
   ],
   "source": [
    "ast.get_celltypes()"
   ]
  },
  {
   "cell_type": "markdown",
   "metadata": {},
   "source": [
    "### Cell type diagnostics"
   ]
  },
  {
   "cell_type": "markdown",
   "metadata": {},
   "source": [
    "It is important to run diagnostics to ensure that cell types express their markers at higher levels than other cell types. To do this, run the `diagnostics_celltype()` function, which will alert to any issues if a cell type doesn't express its marker signficantly higher than an alternative cell type (for which that protein isn't a marker):"
   ]
  },
  {
   "cell_type": "code",
   "execution_count": 31,
   "metadata": {},
   "outputs": [
    {
     "data": {
      "text/html": [
       "<div>\n",
       "<style scoped>\n",
       "    .dataframe tbody tr th:only-of-type {\n",
       "        vertical-align: middle;\n",
       "    }\n",
       "\n",
       "    .dataframe tbody tr th {\n",
       "        vertical-align: top;\n",
       "    }\n",
       "\n",
       "    .dataframe thead th {\n",
       "        text-align: right;\n",
       "    }\n",
       "</style>\n",
       "<table border=\"1\" class=\"dataframe\">\n",
       "  <thead>\n",
       "    <tr style=\"text-align: right;\">\n",
       "      <th></th>\n",
       "      <th>feature</th>\n",
       "      <th>should be expressed higher in</th>\n",
       "      <th>than</th>\n",
       "      <th>mean cell type 1</th>\n",
       "      <th>mean cell type 2</th>\n",
       "      <th>p-value</th>\n",
       "      <th>note</th>\n",
       "    </tr>\n",
       "  </thead>\n",
       "  <tbody>\n",
       "    <tr>\n",
       "      <th>0</th>\n",
       "      <td>CD20</td>\n",
       "      <td>B cells</td>\n",
       "      <td>Epithelial (basal)</td>\n",
       "      <td>0.618366</td>\n",
       "      <td>0.049826</td>\n",
       "      <td>inf</td>\n",
       "      <td>Only 1 cell in a type: comparison not possible</td>\n",
       "    </tr>\n",
       "    <tr>\n",
       "      <th>1</th>\n",
       "      <td>CD20</td>\n",
       "      <td>B cells</td>\n",
       "      <td>Epithelial (luminal)</td>\n",
       "      <td>0.618366</td>\n",
       "      <td>0.077568</td>\n",
       "      <td>inf</td>\n",
       "      <td>Only 1 cell in a type: comparison not possible</td>\n",
       "    </tr>\n",
       "    <tr>\n",
       "      <th>2</th>\n",
       "      <td>CD45</td>\n",
       "      <td>B cells</td>\n",
       "      <td>Epithelial (basal)</td>\n",
       "      <td>0.437730</td>\n",
       "      <td>0.085557</td>\n",
       "      <td>inf</td>\n",
       "      <td>Only 1 cell in a type: comparison not possible</td>\n",
       "    </tr>\n",
       "    <tr>\n",
       "      <th>3</th>\n",
       "      <td>CD45</td>\n",
       "      <td>B cells</td>\n",
       "      <td>Epithelial (luminal)</td>\n",
       "      <td>0.437730</td>\n",
       "      <td>0.068204</td>\n",
       "      <td>inf</td>\n",
       "      <td>Only 1 cell in a type: comparison not possible</td>\n",
       "    </tr>\n",
       "    <tr>\n",
       "      <th>4</th>\n",
       "      <td>Cytokeratin 5</td>\n",
       "      <td>Epithelial (basal)</td>\n",
       "      <td>B cells</td>\n",
       "      <td>1.095466</td>\n",
       "      <td>0.166079</td>\n",
       "      <td>inf</td>\n",
       "      <td>Only 1 cell in a type: comparison not possible</td>\n",
       "    </tr>\n",
       "    <tr>\n",
       "      <th>5</th>\n",
       "      <td>pan Cytokeratin</td>\n",
       "      <td>Epithelial (basal)</td>\n",
       "      <td>B cells</td>\n",
       "      <td>2.139420</td>\n",
       "      <td>0.038145</td>\n",
       "      <td>inf</td>\n",
       "      <td>Only 1 cell in a type: comparison not possible</td>\n",
       "    </tr>\n",
       "    <tr>\n",
       "      <th>6</th>\n",
       "      <td>E-Cadherin</td>\n",
       "      <td>Epithelial (basal)</td>\n",
       "      <td>B cells</td>\n",
       "      <td>1.511148</td>\n",
       "      <td>0.095753</td>\n",
       "      <td>inf</td>\n",
       "      <td>Only 1 cell in a type: comparison not possible</td>\n",
       "    </tr>\n",
       "    <tr>\n",
       "      <th>7</th>\n",
       "      <td>Cytokeratin 14</td>\n",
       "      <td>Epithelial (basal)</td>\n",
       "      <td>B cells</td>\n",
       "      <td>1.332083</td>\n",
       "      <td>0.133421</td>\n",
       "      <td>inf</td>\n",
       "      <td>Only 1 cell in a type: comparison not possible</td>\n",
       "    </tr>\n",
       "    <tr>\n",
       "      <th>8</th>\n",
       "      <td>Her2</td>\n",
       "      <td>Epithelial (basal)</td>\n",
       "      <td>B cells</td>\n",
       "      <td>0.900730</td>\n",
       "      <td>0.144622</td>\n",
       "      <td>inf</td>\n",
       "      <td>Only 1 cell in a type: comparison not possible</td>\n",
       "    </tr>\n",
       "    <tr>\n",
       "      <th>9</th>\n",
       "      <td>Cytokeratin 5</td>\n",
       "      <td>Epithelial (luminal)</td>\n",
       "      <td>B cells</td>\n",
       "      <td>0.083562</td>\n",
       "      <td>0.166079</td>\n",
       "      <td>inf</td>\n",
       "      <td>Only 1 cell in a type: comparison not possible</td>\n",
       "    </tr>\n",
       "  </tbody>\n",
       "</table>\n",
       "</div>"
      ],
      "text/plain": [
       "           feature should be expressed higher in                  than  \\\n",
       "0             CD20                       B cells    Epithelial (basal)   \n",
       "1             CD20                       B cells  Epithelial (luminal)   \n",
       "2             CD45                       B cells    Epithelial (basal)   \n",
       "3             CD45                       B cells  Epithelial (luminal)   \n",
       "4    Cytokeratin 5            Epithelial (basal)               B cells   \n",
       "5  pan Cytokeratin            Epithelial (basal)               B cells   \n",
       "6       E-Cadherin            Epithelial (basal)               B cells   \n",
       "7   Cytokeratin 14            Epithelial (basal)               B cells   \n",
       "8             Her2            Epithelial (basal)               B cells   \n",
       "9    Cytokeratin 5          Epithelial (luminal)               B cells   \n",
       "\n",
       "   mean cell type 1  mean cell type 2  p-value  \\\n",
       "0          0.618366          0.049826      inf   \n",
       "1          0.618366          0.077568      inf   \n",
       "2          0.437730          0.085557      inf   \n",
       "3          0.437730          0.068204      inf   \n",
       "4          1.095466          0.166079      inf   \n",
       "5          2.139420          0.038145      inf   \n",
       "6          1.511148          0.095753      inf   \n",
       "7          1.332083          0.133421      inf   \n",
       "8          0.900730          0.144622      inf   \n",
       "9          0.083562          0.166079      inf   \n",
       "\n",
       "                                             note  \n",
       "0  Only 1 cell in a type: comparison not possible  \n",
       "1  Only 1 cell in a type: comparison not possible  \n",
       "2  Only 1 cell in a type: comparison not possible  \n",
       "3  Only 1 cell in a type: comparison not possible  \n",
       "4  Only 1 cell in a type: comparison not possible  \n",
       "5  Only 1 cell in a type: comparison not possible  \n",
       "6  Only 1 cell in a type: comparison not possible  \n",
       "7  Only 1 cell in a type: comparison not possible  \n",
       "8  Only 1 cell in a type: comparison not possible  \n",
       "9  Only 1 cell in a type: comparison not possible  "
      ]
     },
     "execution_count": 31,
     "metadata": {},
     "output_type": "execute_result"
    }
   ],
   "source": [
    "ast.diagnostics_celltype().head(n=10)"
   ]
  },
  {
   "cell_type": "markdown",
   "metadata": {},
   "source": [
    ".. note:: \n",
    "    In this tutorial, we end up with many \"Only 1 cell in a type: comparison not possible\" notes - this is simply because the small dataset size results in only a single cell assigned to many types, making statistical testing infeasible."
   ]
  },
  {
   "cell_type": "markdown",
   "metadata": {},
   "source": [
    "Calling `ast.diagnostics_celltype()` returns a `pd.DataFrame`, where each column corresponds to a particular protein and two cell types, with a warning if the protein is not expressed at higher levels in the cell type for which it is a marker than the cell type for which it is not. `None` is returned by the function if no issues are found."
   ]
  },
  {
   "cell_type": "markdown",
   "metadata": {},
   "source": [
    "The diagnostics:\n",
    "\n",
    "1. Iterates through every cell type and every marker for that cell type\n",
    "\n",
    "2. Given a cell type *c* and marker *g*, find the set of cell types *D* that don't have *g* as a marker\n",
    "\n",
    "3. For each cell type *d* in *D*, perform a t-test between the expression of marker *g* in *c* vs *d*\n",
    "\n",
    "4. If *g* is not expressed significantly higher (at significance *alpha*), output a diagnostic explaining this for further investigation."
   ]
  },
  {
   "cell_type": "markdown",
   "metadata": {},
   "source": [
    "If multiple issues are found, the markers and cell types may need refined."
   ]
  },
  {
   "cell_type": "markdown",
   "metadata": {},
   "source": [
    "## 3. Fitting cell state"
   ]
  },
  {
   "cell_type": "markdown",
   "metadata": {},
   "source": [
    "Similarly as before, to fit cell state, call"
   ]
  },
  {
   "cell_type": "code",
   "execution_count": 32,
   "metadata": {},
   "outputs": [
    {
     "name": "stdout",
     "output_type": "stream",
     "text": [
      "---------- Astir Training 1/5 ----------\n"
     ]
    },
    {
     "name": "stderr",
     "output_type": "stream",
     "text": [
      "training astir: 100%|██████████| 100/100 [00:00<00:00, 949.36epochs/s]\n",
      "training astir:   0%|          | 0/100 [00:00<?, ?epochs/s]"
     ]
    },
    {
     "name": "stdout",
     "output_type": "stream",
     "text": [
      "---------- Astir Training 2/5 ----------\n"
     ]
    },
    {
     "name": "stderr",
     "output_type": "stream",
     "text": [
      "training astir: 100%|██████████| 100/100 [00:00<00:00, 901.19epochs/s]\n",
      "training astir:   0%|          | 0/100 [00:00<?, ?epochs/s]"
     ]
    },
    {
     "name": "stdout",
     "output_type": "stream",
     "text": [
      "---------- Astir Training 3/5 ----------\n"
     ]
    },
    {
     "name": "stderr",
     "output_type": "stream",
     "text": [
      "training astir: 100%|██████████| 100/100 [00:00<00:00, 872.50epochs/s]\n",
      "training astir:   0%|          | 0/100 [00:00<?, ?epochs/s]"
     ]
    },
    {
     "name": "stdout",
     "output_type": "stream",
     "text": [
      "---------- Astir Training 4/5 ----------\n"
     ]
    },
    {
     "name": "stderr",
     "output_type": "stream",
     "text": [
      "training astir: 100%|██████████| 100/100 [00:00<00:00, 942.92epochs/s]\n",
      "training astir:   0%|          | 0/100 [00:00<?, ?epochs/s]"
     ]
    },
    {
     "name": "stdout",
     "output_type": "stream",
     "text": [
      "---------- Astir Training 5/5 ----------\n"
     ]
    },
    {
     "name": "stderr",
     "output_type": "stream",
     "text": [
      "training astir: 100%|██████████| 100/100 [00:00<00:00, 956.31epochs/s]\n",
      "/Users/kierancampbell/toronto/astir/astir/models/cellstate.py:134: UserWarning: Delta loss batch size is greater than the number of epochs\n",
      "  warnings.warn(\"Delta loss batch size is greater than the number of epochs\")\n",
      "training astir: 0epochs [00:00, ?epochs/s]\n",
      "/Users/kierancampbell/toronto/astir/astir/astir.py:250: UserWarning: Maximum epochs reached. More iteration may be needed to complete the training.\n",
      "  warnings.warn(msg)\n"
     ]
    }
   ],
   "source": [
    "ast.fit_state()"
   ]
  },
  {
   "cell_type": "markdown",
   "metadata": {},
   "source": [
    "and cell state assignments can be inferred via"
   ]
  },
  {
   "cell_type": "code",
   "execution_count": 33,
   "metadata": {},
   "outputs": [
    {
     "data": {
      "text/html": [
       "<div>\n",
       "<style scoped>\n",
       "    .dataframe tbody tr th:only-of-type {\n",
       "        vertical-align: middle;\n",
       "    }\n",
       "\n",
       "    .dataframe tbody tr th {\n",
       "        vertical-align: top;\n",
       "    }\n",
       "\n",
       "    .dataframe thead th {\n",
       "        text-align: right;\n",
       "    }\n",
       "</style>\n",
       "<table border=\"1\" class=\"dataframe\">\n",
       "  <thead>\n",
       "    <tr style=\"text-align: right;\">\n",
       "      <th></th>\n",
       "      <th>RTK_signalling</th>\n",
       "      <th>proliferation</th>\n",
       "      <th>mTOR_signalling</th>\n",
       "      <th>apoptosis</th>\n",
       "    </tr>\n",
       "  </thead>\n",
       "  <tbody>\n",
       "    <tr>\n",
       "      <th>BaselTMA_SP41_186_X5Y4_3679</th>\n",
       "      <td>-0.055859</td>\n",
       "      <td>-0.248295</td>\n",
       "      <td>0.081537</td>\n",
       "      <td>-0.440844</td>\n",
       "    </tr>\n",
       "    <tr>\n",
       "      <th>BaselTMA_SP41_153_X7Y5_246</th>\n",
       "      <td>0.026950</td>\n",
       "      <td>0.334187</td>\n",
       "      <td>-0.029829</td>\n",
       "      <td>-0.233749</td>\n",
       "    </tr>\n",
       "    <tr>\n",
       "      <th>BaselTMA_SP41_20_X12Y5_197</th>\n",
       "      <td>-0.107626</td>\n",
       "      <td>0.441981</td>\n",
       "      <td>-0.379208</td>\n",
       "      <td>-0.184434</td>\n",
       "    </tr>\n",
       "    <tr>\n",
       "      <th>BaselTMA_SP41_14_X1Y8_84</th>\n",
       "      <td>-0.171197</td>\n",
       "      <td>-0.700986</td>\n",
       "      <td>0.160324</td>\n",
       "      <td>-0.510929</td>\n",
       "    </tr>\n",
       "    <tr>\n",
       "      <th>BaselTMA_SP41_166_X15Y4_266</th>\n",
       "      <td>0.399416</td>\n",
       "      <td>-0.046144</td>\n",
       "      <td>-0.352460</td>\n",
       "      <td>-0.801181</td>\n",
       "    </tr>\n",
       "    <tr>\n",
       "      <th>...</th>\n",
       "      <td>...</td>\n",
       "      <td>...</td>\n",
       "      <td>...</td>\n",
       "      <td>...</td>\n",
       "    </tr>\n",
       "    <tr>\n",
       "      <th>BaselTMA_SP41_114_X13Y4_1057</th>\n",
       "      <td>0.602089</td>\n",
       "      <td>-0.176759</td>\n",
       "      <td>0.170743</td>\n",
       "      <td>0.660372</td>\n",
       "    </tr>\n",
       "    <tr>\n",
       "      <th>BaselTMA_SP41_141_X11Y2_2596</th>\n",
       "      <td>-0.267246</td>\n",
       "      <td>1.100570</td>\n",
       "      <td>-0.607341</td>\n",
       "      <td>-0.432088</td>\n",
       "    </tr>\n",
       "    <tr>\n",
       "      <th>BaselTMA_SP41_100_X15Y5_170</th>\n",
       "      <td>-0.506588</td>\n",
       "      <td>-0.183379</td>\n",
       "      <td>0.653195</td>\n",
       "      <td>-1.094012</td>\n",
       "    </tr>\n",
       "    <tr>\n",
       "      <th>BaselTMA_SP41_14_X1Y8_2604</th>\n",
       "      <td>-1.027609</td>\n",
       "      <td>0.369216</td>\n",
       "      <td>0.472711</td>\n",
       "      <td>-0.676119</td>\n",
       "    </tr>\n",
       "    <tr>\n",
       "      <th>BaselTMA_SP41_186_X5Y4_81</th>\n",
       "      <td>0.331450</td>\n",
       "      <td>0.271783</td>\n",
       "      <td>0.266387</td>\n",
       "      <td>-0.364559</td>\n",
       "    </tr>\n",
       "  </tbody>\n",
       "</table>\n",
       "<p>100 rows × 4 columns</p>\n",
       "</div>"
      ],
      "text/plain": [
       "                              RTK_signalling  proliferation  mTOR_signalling  \\\n",
       "BaselTMA_SP41_186_X5Y4_3679        -0.055859      -0.248295         0.081537   \n",
       "BaselTMA_SP41_153_X7Y5_246          0.026950       0.334187        -0.029829   \n",
       "BaselTMA_SP41_20_X12Y5_197         -0.107626       0.441981        -0.379208   \n",
       "BaselTMA_SP41_14_X1Y8_84           -0.171197      -0.700986         0.160324   \n",
       "BaselTMA_SP41_166_X15Y4_266         0.399416      -0.046144        -0.352460   \n",
       "...                                      ...            ...              ...   \n",
       "BaselTMA_SP41_114_X13Y4_1057        0.602089      -0.176759         0.170743   \n",
       "BaselTMA_SP41_141_X11Y2_2596       -0.267246       1.100570        -0.607341   \n",
       "BaselTMA_SP41_100_X15Y5_170        -0.506588      -0.183379         0.653195   \n",
       "BaselTMA_SP41_14_X1Y8_2604         -1.027609       0.369216         0.472711   \n",
       "BaselTMA_SP41_186_X5Y4_81           0.331450       0.271783         0.266387   \n",
       "\n",
       "                              apoptosis  \n",
       "BaselTMA_SP41_186_X5Y4_3679   -0.440844  \n",
       "BaselTMA_SP41_153_X7Y5_246    -0.233749  \n",
       "BaselTMA_SP41_20_X12Y5_197    -0.184434  \n",
       "BaselTMA_SP41_14_X1Y8_84      -0.510929  \n",
       "BaselTMA_SP41_166_X15Y4_266   -0.801181  \n",
       "...                                 ...  \n",
       "BaselTMA_SP41_114_X13Y4_1057   0.660372  \n",
       "BaselTMA_SP41_141_X11Y2_2596  -0.432088  \n",
       "BaselTMA_SP41_100_X15Y5_170   -1.094012  \n",
       "BaselTMA_SP41_14_X1Y8_2604    -0.676119  \n",
       "BaselTMA_SP41_186_X5Y4_81     -0.364559  \n",
       "\n",
       "[100 rows x 4 columns]"
      ]
     },
     "execution_count": 33,
     "metadata": {},
     "output_type": "execute_result"
    }
   ],
   "source": [
    "states = ast.get_cellstates()\n",
    "states"
   ]
  },
  {
   "cell_type": "markdown",
   "metadata": {},
   "source": [
    "## 4. Saving results"
   ]
  },
  {
   "cell_type": "markdown",
   "metadata": {},
   "source": [
    "Both cell type and cell state information can easily be saved to disk via"
   ]
  },
  {
   "cell_type": "code",
   "execution_count": 34,
   "metadata": {},
   "outputs": [],
   "source": [
    "ast.type_to_csv(\"cell-types.csv\")\n",
    "ast.state_to_csv(\"cell-states.csv\")"
   ]
  },
  {
   "cell_type": "code",
   "execution_count": 35,
   "metadata": {},
   "outputs": [
    {
     "name": "stdout",
     "output_type": "stream",
     "text": [
      ",Stromal,B cells,T cells,Macrophage,Epithelial (basal),Epithelial (luminal),Other\r\n",
      "BaselTMA_SP41_186_X5Y4_3679,0.22124830089944308,0.09865300135667737,0.22992503215403207,0.4126134882648775,0.0032782063344407465,0.0012130607139379573,0.03306891027659129\r\n",
      "BaselTMA_SP41_153_X7Y5_246,0.0006330683152635336,0.002619607819580104,0.002430415112729734,0.0011409748360524533,0.08585110171656299,0.9048598658487834,0.002464966351027731\r\n"
     ]
    }
   ],
   "source": [
    "!head -n 3 cell-types.csv"
   ]
  },
  {
   "cell_type": "code",
   "execution_count": 36,
   "metadata": {},
   "outputs": [
    {
     "name": "stdout",
     "output_type": "stream",
     "text": [
      ",RTK_signalling,proliferation,mTOR_signalling,apoptosis\r\n",
      "BaselTMA_SP41_186_X5Y4_3679,-0.055859283,-0.24829505,0.08153685,-0.44084388\r\n",
      "BaselTMA_SP41_153_X7Y5_246,0.026950097,0.33418685,-0.029828804,-0.23374897\r\n"
     ]
    }
   ],
   "source": [
    "!head -n 3 cell-states.csv"
   ]
  },
  {
   "cell_type": "markdown",
   "metadata": {},
   "source": [
    "where the first (unnamed) column always corresponds to the cell name/ID."
   ]
  },
  {
   "cell_type": "markdown",
   "metadata": {},
   "source": [
    "## 5. Accessing internal functions and data"
   ]
  },
  {
   "cell_type": "markdown",
   "metadata": {},
   "source": [
    "Data stored in `astir` objects is in the form of an `SCDataSet`. These can be retrieved via"
   ]
  },
  {
   "cell_type": "code",
   "execution_count": 37,
   "metadata": {},
   "outputs": [
    {
     "data": {
      "text/plain": [
       "<astir.models.scdataset.SCDataset at 0x1387cba90>"
      ]
     },
     "execution_count": 37,
     "metadata": {},
     "output_type": "execute_result"
    }
   ],
   "source": [
    "celltype_data = ast.get_type_dataset()\n",
    "celltype_data"
   ]
  },
  {
   "cell_type": "markdown",
   "metadata": {},
   "source": [
    "and similarly for cell state via `ast.get_state_dataset()`.\n",
    "\n",
    "These have several helper functions to retrieve relevant information to the dataset:"
   ]
  },
  {
   "cell_type": "code",
   "execution_count": 38,
   "metadata": {},
   "outputs": [
    {
     "data": {
      "text/plain": [
       "['BaselTMA_SP41_186_X5Y4_3679',\n",
       " 'BaselTMA_SP41_153_X7Y5_246',\n",
       " 'BaselTMA_SP41_20_X12Y5_197',\n",
       " 'BaselTMA_SP41_14_X1Y8_84']"
      ]
     },
     "execution_count": 38,
     "metadata": {},
     "output_type": "execute_result"
    }
   ],
   "source": [
    "celltype_data.get_cells()[0:4] # cell names"
   ]
  },
  {
   "cell_type": "code",
   "execution_count": 39,
   "metadata": {},
   "outputs": [
    {
     "data": {
      "text/plain": [
       "['Stromal',\n",
       " 'B cells',\n",
       " 'T cells',\n",
       " 'Macrophage',\n",
       " 'Epithelial (basal)',\n",
       " 'Epithelial (luminal)']"
      ]
     },
     "execution_count": 39,
     "metadata": {},
     "output_type": "execute_result"
    }
   ],
   "source": [
    "celltype_data.get_classes() # cell type names"
   ]
  },
  {
   "cell_type": "code",
   "execution_count": 40,
   "metadata": {},
   "outputs": [
    {
     "name": "stdout",
     "output_type": "stream",
     "text": [
      "6\n",
      "14\n"
     ]
    }
   ],
   "source": [
    "print(celltype_data.get_n_classes()) # number of cell types\n",
    "print(celltype_data.get_n_features()) # number of features / proteins"
   ]
  },
  {
   "cell_type": "code",
   "execution_count": 41,
   "metadata": {},
   "outputs": [
    {
     "data": {
      "text/plain": [
       "tensor([[0.0953, 0.7714, 0.4610,  ..., 0.2277, 0.0571, 2.2151],\n",
       "        [0.1240, 3.9632, 0.3828,  ..., 0.0685, 0.4853, 0.5026],\n",
       "        [0.0527, 0.0481, 0.0203,  ..., 0.3012, 0.0359, 0.8102],\n",
       "        ...,\n",
       "        [0.0965, 1.4923, 0.6964,  ..., 0.0869, 0.0000, 0.7593],\n",
       "        [0.0557, 0.4174, 0.1284,  ..., 0.2395, 0.0823, 2.2464],\n",
       "        [0.0803, 0.2552, 0.2085,  ..., 0.2476, 0.0000, 3.1238]],\n",
       "       dtype=torch.float64)"
      ]
     },
     "execution_count": 41,
     "metadata": {},
     "output_type": "execute_result"
    }
   ],
   "source": [
    "celltype_data.get_exprs() # Return a torch tensor corresponding to the expression data used"
   ]
  },
  {
   "cell_type": "code",
   "execution_count": null,
   "metadata": {},
   "outputs": [],
   "source": []
  },
  {
   "cell_type": "code",
   "execution_count": null,
   "metadata": {},
   "outputs": [],
   "source": []
  }
 ],
 "metadata": {
  "kernelspec": {
   "display_name": "Python 3",
   "language": "python",
   "name": "python3"
  },
  "language_info": {
   "codemirror_mode": {
    "name": "ipython",
    "version": 3
   },
   "file_extension": ".py",
   "mimetype": "text/x-python",
   "name": "python",
   "nbconvert_exporter": "python",
   "pygments_lexer": "ipython3",
   "version": "3.8.2"
  }
 },
 "nbformat": 4,
 "nbformat_minor": 4
}

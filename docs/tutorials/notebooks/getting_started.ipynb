{
 "cells": [
  {
   "cell_type": "markdown",
   "metadata": {},
   "source": [
    "# Getting started with astir"
   ]
  },
  {
   "cell_type": "markdown",
   "metadata": {},
   "source": [
    "## Table of Contents:\n",
    "* [0 Loading necessary libraries](#0.-Load-necessary-libraries)\n",
    "* [1 Load data](#1.-Load-data)\n",
    "* [2 Fitting cell type](#2.-Fitting-cell-types)\n",
    "* [3 Fitting cell state](#3.-Fitting-cell-state)\n",
    "* [4 Saving results](#4.-Saving-results)\n",
    "* [5 Accessing internal functions and data](#5.-Accessing-internal-functions-and-data)\n",
    "* [6 Saving models](#6.-Saving-models)\n",
    "* [7 Plot clustermap of expression data](#7.-Plot-clustermap-of-expression-data)\n",
    "* [8 Hierarchical model specification](#8.-Hierarchical-model-specification)\n",
    "* [9 Using astir as command line tool](#9.-Using-astir-as-command-line-tool)"
   ]
  },
  {
   "cell_type": "markdown",
   "metadata": {},
   "source": [
    "## 0. Load necessary libraries <a class=\"anchor\" id=\"0.-Load-necessary-libraries\"></a>"
   ]
  },
  {
   "cell_type": "code",
   "execution_count": 1,
   "metadata": {
    "pycharm": {
     "name": "#%%\n"
    }
   },
   "outputs": [],
   "source": [
    "# !pip install -e ../../..\n",
    "import os\n",
    "import sys\n",
    "module_path = os.path.abspath(os.path.join('../../..'))\n",
    "if module_path not in sys.path:\n",
    "    sys.path.append(module_path)"
   ]
  },
  {
   "cell_type": "code",
   "execution_count": 2,
   "metadata": {
    "pycharm": {
     "name": "#%%\n"
    }
   },
   "outputs": [],
   "source": [
    "from astir.data import from_csv_yaml\n",
    "\n",
    "import pandas as pd\n",
    "import numpy as np\n",
    "import matplotlib.pyplot as plt\n",
    "import seaborn as sns\n",
    "\n",
    "%load_ext autoreload\n",
    "%autoreload 2\n",
    "%matplotlib inline"
   ]
  },
  {
   "cell_type": "markdown",
   "metadata": {},
   "source": [
    "## 1. Load data <a class=\"anchor\" id=\"1.-Load-data\"></a>"
   ]
  },
  {
   "cell_type": "markdown",
   "metadata": {},
   "source": [
    "We start by reading expression data in the form of a csv file and marker gene information in the form of a yaml file:"
   ]
  },
  {
   "cell_type": "code",
   "execution_count": 3,
   "metadata": {
    "pycharm": {
     "name": "#%%\n"
    }
   },
   "outputs": [],
   "source": [
    "expression_mat_path = \"../../../astir/tests/test-data/sce.csv\"\n",
    "# expression_mat_path = \"data/sample_data.csv\"\n",
    "yaml_marker_path = \"../../../astir/tests/test-data/jackson-2020-markers.yml\""
   ]
  },
  {
   "cell_type": "markdown",
   "metadata": {},
   "source": [
    ".. note:: \n",
    "    Expression data should already be cleaned and normalized. In our workflow, we perform this by a log-transformation of the data with a pseudocount of 1 (i.e. `log(x+1)`), followed by winsorization at the (1%,99%) percentiles."
   ]
  },
  {
   "cell_type": "markdown",
   "metadata": {},
   "source": [
    "We can view both the expression data and marker data:"
   ]
  },
  {
   "cell_type": "code",
   "execution_count": 4,
   "metadata": {
    "pycharm": {
     "name": "#%%\n"
    }
   },
   "outputs": [
    {
     "name": "stdout",
     "output_type": "stream",
     "text": [
      "\r\n",
      "cell_states:\r\n",
      "  RTK_signalling:\r\n",
      "    - Her2\r\n",
      "    - EGFR\r\n",
      "  proliferation:\r\n",
      "    - Ki-67\r\n",
      "    - phospho Histone\r\n",
      "  mTOR_signalling:\r\n",
      "    - phospho mTOR\r\n",
      "    - phospho S6\r\n",
      "  apoptosis:\r\n",
      "    - cleaved PARP\r\n",
      "    - Cleaved Caspase3\r\n",
      "\r\n",
      "cell_types:\r\n",
      "  stromal:\r\n",
      "    - Vimentin\r\n",
      "    - Fibronectin\r\n",
      "  B cells:\r\n"
     ]
    }
   ],
   "source": [
    "!head -n 20 ../../../astir/tests/test-data/jackson-2020-markers.yml"
   ]
  },
  {
   "cell_type": "code",
   "execution_count": 5,
   "metadata": {
    "pycharm": {
     "name": "#%%\n"
    }
   },
   "outputs": [
    {
     "data": {
      "text/plain": "                                 EGFR  E-Cadherin      CD45  Cytokeratin 5\nBaselTMA_SP41_186_X5Y4_3679  0.346787    0.938354  0.227730       0.095283\nBaselTMA_SP41_153_X7Y5_246   0.833752    1.364884  0.068526       0.124031\nBaselTMA_SP41_20_X12Y5_197   0.110006    0.177361  0.301222       0.052750\nBaselTMA_SP41_14_X1Y8_84     0.282666    1.122174  0.606941       0.093352\nBaselTMA_SP41_166_X15Y4_266  0.209066    0.402554  0.588273       0.064545",
      "text/html": "<div>\n<style scoped>\n    .dataframe tbody tr th:only-of-type {\n        vertical-align: middle;\n    }\n\n    .dataframe tbody tr th {\n        vertical-align: top;\n    }\n\n    .dataframe thead th {\n        text-align: right;\n    }\n</style>\n<table border=\"1\" class=\"dataframe\">\n  <thead>\n    <tr style=\"text-align: right;\">\n      <th></th>\n      <th>EGFR</th>\n      <th>E-Cadherin</th>\n      <th>CD45</th>\n      <th>Cytokeratin 5</th>\n    </tr>\n  </thead>\n  <tbody>\n    <tr>\n      <th>BaselTMA_SP41_186_X5Y4_3679</th>\n      <td>0.346787</td>\n      <td>0.938354</td>\n      <td>0.227730</td>\n      <td>0.095283</td>\n    </tr>\n    <tr>\n      <th>BaselTMA_SP41_153_X7Y5_246</th>\n      <td>0.833752</td>\n      <td>1.364884</td>\n      <td>0.068526</td>\n      <td>0.124031</td>\n    </tr>\n    <tr>\n      <th>BaselTMA_SP41_20_X12Y5_197</th>\n      <td>0.110006</td>\n      <td>0.177361</td>\n      <td>0.301222</td>\n      <td>0.052750</td>\n    </tr>\n    <tr>\n      <th>BaselTMA_SP41_14_X1Y8_84</th>\n      <td>0.282666</td>\n      <td>1.122174</td>\n      <td>0.606941</td>\n      <td>0.093352</td>\n    </tr>\n    <tr>\n      <th>BaselTMA_SP41_166_X15Y4_266</th>\n      <td>0.209066</td>\n      <td>0.402554</td>\n      <td>0.588273</td>\n      <td>0.064545</td>\n    </tr>\n  </tbody>\n</table>\n</div>"
     },
     "execution_count": 5,
     "metadata": {},
     "output_type": "execute_result"
    }
   ],
   "source": [
    "pd.read_csv(expression_mat_path, index_col=0)[['EGFR','E-Cadherin', 'CD45', 'Cytokeratin 5']].head()"
   ]
  },
  {
   "cell_type": "markdown",
   "metadata": {},
   "source": [
    "Then we can create an astir object using the `from_csv_yaml` function. For more data loading options, see the data loading tutorial."
   ]
  },
  {
   "cell_type": "code",
   "execution_count": 6,
   "metadata": {
    "pycharm": {
     "name": "#%%\n"
    }
   },
   "outputs": [
    {
     "name": "stdout",
     "output_type": "stream",
     "text": [
      "Astir object, 6 cell types, 4 cell states, 100 cells\n"
     ]
    }
   ],
   "source": [
    "ast = from_csv_yaml(expression_mat_path, marker_yaml=yaml_marker_path)\n",
    "print(ast)"
   ]
  },
  {
   "cell_type": "markdown",
   "metadata": {},
   "source": [
    "## 2. Fitting cell types <a class=\"anchor\" id=\"2.-Fitting-cell-types\"></a>"
   ]
  },
  {
   "cell_type": "markdown",
   "metadata": {},
   "source": [
    "To fit cell types, simply call"
   ]
  },
  {
   "cell_type": "code",
   "execution_count": 7,
   "metadata": {
    "pycharm": {
     "name": "#%%\n"
    }
   },
   "outputs": [
    {
     "name": "stderr",
     "output_type": "stream",
     "text": [
      "training restart 1/3: 100%|██████████| 2/2 [ 9.69epochs/s, current loss: 745.5]\n",
      "training restart 2/3: 100%|██████████| 2/2 [108.46epochs/s, current loss: 776.6]\n",
      "training restart 3/3: 100%|██████████| 2/2 [64.25epochs/s, current loss: 774.7]\n",
      "training restart (final): 100%|██████████| 10/10 [87.87epochs/s, current loss: 709.0]\n",
      "/Users/sunyunlee/Desktop/astir/astir/astir.py:192: UserWarning: Maximum epochs reached. More iteration may be needed to complete the training.\n",
      "  warnings.warn(msg)\n"
     ]
    }
   ],
   "source": [
    "ast.fit_type(max_epochs=10, n_init=3, n_init_epochs=2)"
   ]
  },
  {
   "cell_type": "markdown",
   "metadata": {},
   "source": [
    ".. note:: \n",
    "    **Controlling inference**\n",
    "    There are many different options for controlling inference in the `fit_type` function, including\n",
    "    `max_epochs` (maximum number of epochs to train),\n",
    "    `learning_rate` (ADAM optimizer learning rate),\n",
    "    `batch_size` (minibatch size),\n",
    "    `delta_loss` (stops iteration once the change in loss falls below this value),\n",
    "    `n_inits` (number of restarts using random initializations).\n",
    "    For full details, see the function documentation."
   ]
  },
  {
   "cell_type": "markdown",
   "metadata": {},
   "source": [
    "We should always plot the losses to assess convergence:"
   ]
  },
  {
   "cell_type": "code",
   "execution_count": 8,
   "metadata": {
    "pycharm": {
     "name": "#%%\n"
    }
   },
   "outputs": [
    {
     "data": {
      "text/plain": "Text(0.5, 0, 'Epoch')"
     },
     "execution_count": 8,
     "metadata": {},
     "output_type": "execute_result"
    },
    {
     "data": {
      "text/plain": "<Figure size 360x288 with 1 Axes>",
      "image/png": "[encoded data removed]"
     },
     "metadata": {
      "needs_background": "light"
     },
     "output_type": "display_data"
    }
   ],
   "source": [
    "plt.figure(figsize=(5,4))\n",
    "plt.plot(np.arange(len(ast.get_type_losses())), ast.get_type_losses())\n",
    "plt.ylabel(\"Loss\")\n",
    "plt.xlabel(\"Epoch\")"
   ]
  },
  {
   "cell_type": "markdown",
   "metadata": {},
   "source": [
    "We can then get cell type assignment probabilities by calling"
   ]
  },
  {
   "cell_type": "code",
   "execution_count": 9,
   "metadata": {
    "pycharm": {
     "name": "#%%\n"
    }
   },
   "outputs": [
    {
     "data": {
      "text/plain": "                               stromal   B cells   T cells  macrophage  \\\nBaselTMA_SP41_186_X5Y4_3679   0.088444  0.084654  0.198811    0.105010   \nBaselTMA_SP41_153_X7Y5_246    0.110921  0.156938  0.193806    0.122539   \nBaselTMA_SP41_20_X12Y5_197    0.099029  0.107530  0.210399    0.135788   \nBaselTMA_SP41_14_X1Y8_84      0.117755  0.119934  0.221191    0.103741   \nBaselTMA_SP41_166_X15Y4_266   0.102338  0.106135  0.221755    0.135476   \n...                                ...       ...       ...         ...   \nBaselTMA_SP41_114_X13Y4_1057  0.100268  0.128181  0.204113    0.140633   \nBaselTMA_SP41_141_X11Y2_2596  0.112603  0.143363  0.201669    0.148209   \nBaselTMA_SP41_100_X15Y5_170   0.111955  0.130958  0.203715    0.144000   \nBaselTMA_SP41_14_X1Y8_2604    0.076987  0.084889  0.218953    0.114034   \nBaselTMA_SP41_186_X5Y4_81     0.131032  0.128943  0.206584    0.123474   \n\n                              epithelial(basal)  epithelial(luminal)     Other  \nBaselTMA_SP41_186_X5Y4_3679            0.199379             0.119610  0.204091  \nBaselTMA_SP41_153_X7Y5_246             0.200939             0.114491  0.100367  \nBaselTMA_SP41_20_X12Y5_197             0.174190             0.126138  0.146926  \nBaselTMA_SP41_14_X1Y8_84               0.150916             0.140125  0.146337  \nBaselTMA_SP41_166_X15Y4_266            0.157753             0.125728  0.150815  \n...                                         ...                  ...       ...  \nBaselTMA_SP41_114_X13Y4_1057           0.170518             0.111839  0.144448  \nBaselTMA_SP41_141_X11Y2_2596           0.161044             0.116404  0.116708  \nBaselTMA_SP41_100_X15Y5_170            0.163306             0.119814  0.126253  \nBaselTMA_SP41_14_X1Y8_2604             0.200917             0.130515  0.173706  \nBaselTMA_SP41_186_X5Y4_81              0.145218             0.125953  0.138796  \n\n[100 rows x 7 columns]",
      "text/html": "<div>\n<style scoped>\n    .dataframe tbody tr th:only-of-type {\n        vertical-align: middle;\n    }\n\n    .dataframe tbody tr th {\n        vertical-align: top;\n    }\n\n    .dataframe thead th {\n        text-align: right;\n    }\n</style>\n<table border=\"1\" class=\"dataframe\">\n  <thead>\n    <tr style=\"text-align: right;\">\n      <th></th>\n      <th>stromal</th>\n      <th>B cells</th>\n      <th>T cells</th>\n      <th>macrophage</th>\n      <th>epithelial(basal)</th>\n      <th>epithelial(luminal)</th>\n      <th>Other</th>\n    </tr>\n  </thead>\n  <tbody>\n    <tr>\n      <th>BaselTMA_SP41_186_X5Y4_3679</th>\n      <td>0.088444</td>\n      <td>0.084654</td>\n      <td>0.198811</td>\n      <td>0.105010</td>\n      <td>0.199379</td>\n      <td>0.119610</td>\n      <td>0.204091</td>\n    </tr>\n    <tr>\n      <th>BaselTMA_SP41_153_X7Y5_246</th>\n      <td>0.110921</td>\n      <td>0.156938</td>\n      <td>0.193806</td>\n      <td>0.122539</td>\n      <td>0.200939</td>\n      <td>0.114491</td>\n      <td>0.100367</td>\n    </tr>\n    <tr>\n      <th>BaselTMA_SP41_20_X12Y5_197</th>\n      <td>0.099029</td>\n      <td>0.107530</td>\n      <td>0.210399</td>\n      <td>0.135788</td>\n      <td>0.174190</td>\n      <td>0.126138</td>\n      <td>0.146926</td>\n    </tr>\n    <tr>\n      <th>BaselTMA_SP41_14_X1Y8_84</th>\n      <td>0.117755</td>\n      <td>0.119934</td>\n      <td>0.221191</td>\n      <td>0.103741</td>\n      <td>0.150916</td>\n      <td>0.140125</td>\n      <td>0.146337</td>\n    </tr>\n    <tr>\n      <th>BaselTMA_SP41_166_X15Y4_266</th>\n      <td>0.102338</td>\n      <td>0.106135</td>\n      <td>0.221755</td>\n      <td>0.135476</td>\n      <td>0.157753</td>\n      <td>0.125728</td>\n      <td>0.150815</td>\n    </tr>\n    <tr>\n      <th>...</th>\n      <td>...</td>\n      <td>...</td>\n      <td>...</td>\n      <td>...</td>\n      <td>...</td>\n      <td>...</td>\n      <td>...</td>\n    </tr>\n    <tr>\n      <th>BaselTMA_SP41_114_X13Y4_1057</th>\n      <td>0.100268</td>\n      <td>0.128181</td>\n      <td>0.204113</td>\n      <td>0.140633</td>\n      <td>0.170518</td>\n      <td>0.111839</td>\n      <td>0.144448</td>\n    </tr>\n    <tr>\n      <th>BaselTMA_SP41_141_X11Y2_2596</th>\n      <td>0.112603</td>\n      <td>0.143363</td>\n      <td>0.201669</td>\n      <td>0.148209</td>\n      <td>0.161044</td>\n      <td>0.116404</td>\n      <td>0.116708</td>\n    </tr>\n    <tr>\n      <th>BaselTMA_SP41_100_X15Y5_170</th>\n      <td>0.111955</td>\n      <td>0.130958</td>\n      <td>0.203715</td>\n      <td>0.144000</td>\n      <td>0.163306</td>\n      <td>0.119814</td>\n      <td>0.126253</td>\n    </tr>\n    <tr>\n      <th>BaselTMA_SP41_14_X1Y8_2604</th>\n      <td>0.076987</td>\n      <td>0.084889</td>\n      <td>0.218953</td>\n      <td>0.114034</td>\n      <td>0.200917</td>\n      <td>0.130515</td>\n      <td>0.173706</td>\n    </tr>\n    <tr>\n      <th>BaselTMA_SP41_186_X5Y4_81</th>\n      <td>0.131032</td>\n      <td>0.128943</td>\n      <td>0.206584</td>\n      <td>0.123474</td>\n      <td>0.145218</td>\n      <td>0.125953</td>\n      <td>0.138796</td>\n    </tr>\n  </tbody>\n</table>\n<p>100 rows × 7 columns</p>\n</div>"
     },
     "execution_count": 9,
     "metadata": {},
     "output_type": "execute_result"
    }
   ],
   "source": [
    "assignments = ast.get_celltype_probabilities()\n",
    "assignments"
   ]
  },
  {
   "cell_type": "markdown",
   "metadata": {},
   "source": [
    "We can also visualize the assignment probabilities using a heatmap:"
   ]
  },
  {
   "cell_type": "code",
   "execution_count": 10,
   "metadata": {
    "pycharm": {
     "name": "#%%\n"
    }
   },
   "outputs": [
    {
     "data": {
      "text/plain": "<matplotlib.axes._subplots.AxesSubplot at 0x1316442e0>"
     },
     "execution_count": 10,
     "metadata": {},
     "output_type": "execute_result"
    },
    {
     "data": {
      "text/plain": "<Figure size 432x288 with 2 Axes>",
      "image/png": "[encoded data removed]"
     },
     "metadata": {
      "needs_background": "light"
     },
     "output_type": "display_data"
    }
   ],
   "source": [
    "sns.heatmap(assignments)"
   ]
  },
  {
   "cell_type": "markdown",
   "metadata": {},
   "source": [
    "where each row corresponds to a cell, and each column to a cell type, with the entry being the probability of that cell belonging to a particular cell type.\n",
    "\n",
    "To fetch an array corresponding to the most likely cell type assignments, call"
   ]
  },
  {
   "cell_type": "code",
   "execution_count": 11,
   "metadata": {
    "pycharm": {
     "name": "#%%\n"
    }
   },
   "outputs": [
    {
     "data": {
      "text/plain": "                             cell_type\nBaselTMA_SP41_186_X5Y4_3679    Unknown\nBaselTMA_SP41_153_X7Y5_246     Unknown\nBaselTMA_SP41_20_X12Y5_197     Unknown\nBaselTMA_SP41_14_X1Y8_84       Unknown\nBaselTMA_SP41_166_X15Y4_266    Unknown\n...                                ...\nBaselTMA_SP41_114_X13Y4_1057   Unknown\nBaselTMA_SP41_141_X11Y2_2596   Unknown\nBaselTMA_SP41_100_X15Y5_170    Unknown\nBaselTMA_SP41_14_X1Y8_2604     Unknown\nBaselTMA_SP41_186_X5Y4_81      Unknown\n\n[100 rows x 1 columns]",
      "text/html": "<div>\n<style scoped>\n    .dataframe tbody tr th:only-of-type {\n        vertical-align: middle;\n    }\n\n    .dataframe tbody tr th {\n        vertical-align: top;\n    }\n\n    .dataframe thead th {\n        text-align: right;\n    }\n</style>\n<table border=\"1\" class=\"dataframe\">\n  <thead>\n    <tr style=\"text-align: right;\">\n      <th></th>\n      <th>cell_type</th>\n    </tr>\n  </thead>\n  <tbody>\n    <tr>\n      <th>BaselTMA_SP41_186_X5Y4_3679</th>\n      <td>Unknown</td>\n    </tr>\n    <tr>\n      <th>BaselTMA_SP41_153_X7Y5_246</th>\n      <td>Unknown</td>\n    </tr>\n    <tr>\n      <th>BaselTMA_SP41_20_X12Y5_197</th>\n      <td>Unknown</td>\n    </tr>\n    <tr>\n      <th>BaselTMA_SP41_14_X1Y8_84</th>\n      <td>Unknown</td>\n    </tr>\n    <tr>\n      <th>BaselTMA_SP41_166_X15Y4_266</th>\n      <td>Unknown</td>\n    </tr>\n    <tr>\n      <th>...</th>\n      <td>...</td>\n    </tr>\n    <tr>\n      <th>BaselTMA_SP41_114_X13Y4_1057</th>\n      <td>Unknown</td>\n    </tr>\n    <tr>\n      <th>BaselTMA_SP41_141_X11Y2_2596</th>\n      <td>Unknown</td>\n    </tr>\n    <tr>\n      <th>BaselTMA_SP41_100_X15Y5_170</th>\n      <td>Unknown</td>\n    </tr>\n    <tr>\n      <th>BaselTMA_SP41_14_X1Y8_2604</th>\n      <td>Unknown</td>\n    </tr>\n    <tr>\n      <th>BaselTMA_SP41_186_X5Y4_81</th>\n      <td>Unknown</td>\n    </tr>\n  </tbody>\n</table>\n<p>100 rows × 1 columns</p>\n</div>"
     },
     "execution_count": 11,
     "metadata": {},
     "output_type": "execute_result"
    }
   ],
   "source": [
    "ast.get_celltypes()"
   ]
  },
  {
   "cell_type": "markdown",
   "metadata": {},
   "source": [
    "### Cell type diagnostics"
   ]
  },
  {
   "cell_type": "markdown",
   "metadata": {},
   "source": [
    "It is important to run diagnostics to ensure that cell types express their markers at higher levels than other cell types. To do this, run the `diagnostics_celltype()` function, which will alert to any issues if a cell type doesn't express its marker signficantly higher than an alternative cell type (for which that protein isn't a marker):"
   ]
  },
  {
   "cell_type": "code",
   "execution_count": 12,
   "metadata": {
    "pycharm": {
     "name": "#%%\n"
    }
   },
   "outputs": [
    {
     "data": {
      "text/plain": "Empty DataFrame\nColumns: [feature, should be expressed higher in, than, mean cell type 1, mean cell type 2, p-value, note]\nIndex: []",
      "text/html": "<div>\n<style scoped>\n    .dataframe tbody tr th:only-of-type {\n        vertical-align: middle;\n    }\n\n    .dataframe tbody tr th {\n        vertical-align: top;\n    }\n\n    .dataframe thead th {\n        text-align: right;\n    }\n</style>\n<table border=\"1\" class=\"dataframe\">\n  <thead>\n    <tr style=\"text-align: right;\">\n      <th></th>\n      <th>feature</th>\n      <th>should be expressed higher in</th>\n      <th>than</th>\n      <th>mean cell type 1</th>\n      <th>mean cell type 2</th>\n      <th>p-value</th>\n      <th>note</th>\n    </tr>\n  </thead>\n  <tbody>\n  </tbody>\n</table>\n</div>"
     },
     "execution_count": 12,
     "metadata": {},
     "output_type": "execute_result"
    }
   ],
   "source": [
    "ast.diagnostics_celltype().head(n=10)"
   ]
  },
  {
   "cell_type": "markdown",
   "metadata": {},
   "source": [
    ".. note:: \n",
    "    In this tutorial, we end up with many \"Only 1 cell in a type: comparison not possible\" notes - this is simply because the small dataset size results in only a single cell assigned to many types, making statistical testing infeasible."
   ]
  },
  {
   "cell_type": "markdown",
   "metadata": {},
   "source": [
    "Calling `ast.diagnostics_celltype()` returns a `pd.DataFrame`, where each column corresponds to a particular protein and two cell types, with a warning if the protein is not expressed at higher levels in the cell type for which it is a marker than the cell type for which it is not."
   ]
  },
  {
   "cell_type": "markdown",
   "metadata": {},
   "source": [
    "The diagnostics:\n",
    "\n",
    "1. Iterates through every cell type and every marker for that cell type\n",
    "\n",
    "2. Given a cell type *c* and marker *g*, find the set of cell types *D* that don't have *g* as a marker\n",
    "\n",
    "3. For each cell type *d* in *D*, perform a t-test between the expression of marker *g* in *c* vs *d*\n",
    "\n",
    "4. If *g* is not expressed significantly higher (at significance *alpha*), output a diagnostic explaining this for further investigation."
   ]
  },
  {
   "cell_type": "markdown",
   "metadata": {},
   "source": [
    "If multiple issues are found, the markers and cell types may need refined."
   ]
  },
  {
   "cell_type": "markdown",
   "metadata": {},
   "source": [
    "## 3. Fitting cell state <a class=\"anchor\" id=\"3.-Fitting-cell-state\"></a>"
   ]
  },
  {
   "cell_type": "markdown",
   "metadata": {},
   "source": [
    "Similarly as before, to fit cell state, call"
   ]
  },
  {
   "cell_type": "code",
   "execution_count": 13,
   "metadata": {
    "pycharm": {
     "name": "#%%\n"
    }
   },
   "outputs": [
    {
     "name": "stderr",
     "output_type": "stream",
     "text": [
      "/Users/sunyunlee/Desktop/astir/astir/astir.py:265: UserWarning: Delta loss batch size is greater than the number of epochs\n",
      "  warnings.warn(\n",
      "/Users/sunyunlee/Desktop/astir/astir/models/cellstate.py:257: UserWarning: Delta loss batch size is greater than the number of epochs\n",
      "  warnings.warn(\"Delta loss batch size is greater than the number of epochs\")\n",
      "training restart 1/5: 100%|██████████| 5/5 [88.84epochs/s, current loss: 87.6]\n",
      "training restart 2/5: 100%|██████████| 5/5 [97.56epochs/s, current loss: 104.1]\n",
      "training restart 3/5: 100%|██████████| 5/5 [88.47epochs/s, current loss: 91.5]\n",
      "training restart 4/5: 100%|██████████| 5/5 [112.72epochs/s, current loss: 135.4]\n",
      "training restart 5/5: 100%|██████████| 5/5 [105.45epochs/s, current loss: 99.6]\n",
      "training restart (final): 100%|██████████| 10/10 [98.00epochs/s, current loss: 81.7]\n",
      "/Users/sunyunlee/Desktop/astir/astir/astir.py:327: UserWarning: Maximum epochs reached. More iteration may be needed to complete the training.\n",
      "  warnings.warn(msg)\n"
     ]
    }
   ],
   "source": [
    "ast.fit_state(batch_size = 1024, learning_rate=1e-3, max_epochs=10)"
   ]
  },
  {
   "cell_type": "markdown",
   "metadata": {},
   "source": [
    "and similary plot the losses via"
   ]
  },
  {
   "cell_type": "code",
   "execution_count": 14,
   "metadata": {
    "pycharm": {
     "name": "#%%\n"
    }
   },
   "outputs": [
    {
     "data": {
      "text/plain": "Text(0.5, 0, 'Epoch')"
     },
     "execution_count": 14,
     "metadata": {},
     "output_type": "execute_result"
    },
    {
     "data": {
      "text/plain": "<Figure size 360x288 with 1 Axes>",
      "image/png": "[encoded data removed]"
     },
     "metadata": {
      "needs_background": "light"
     },
     "output_type": "display_data"
    }
   ],
   "source": [
    "plt.figure(figsize=(5,4))\n",
    "plt.plot(np.arange(len(ast.get_state_losses())), ast.get_state_losses())\n",
    "plt.ylabel(\"Loss\")\n",
    "plt.xlabel(\"Epoch\")"
   ]
  },
  {
   "cell_type": "markdown",
   "metadata": {},
   "source": [
    "and cell state assignments can be inferred via"
   ]
  },
  {
   "cell_type": "code",
   "execution_count": 15,
   "metadata": {
    "pycharm": {
     "name": "#%%\n"
    }
   },
   "outputs": [
    {
     "data": {
      "text/plain": "                              RTK_signalling  proliferation  mTOR_signalling  \\\nBaselTMA_SP41_186_X5Y4_3679         0.568386       0.900861         0.656078   \nBaselTMA_SP41_153_X7Y5_246          0.421357       0.000000         0.524859   \nBaselTMA_SP41_20_X12Y5_197          0.944829       0.561159         0.979277   \nBaselTMA_SP41_14_X1Y8_84            0.858426       0.705787         0.938068   \nBaselTMA_SP41_166_X15Y4_266         0.933672       0.574031         0.980568   \n...                                      ...            ...              ...   \nBaselTMA_SP41_114_X13Y4_1057        0.881551       0.447002         0.899008   \nBaselTMA_SP41_141_X11Y2_2596        0.767853       0.684847         0.856773   \nBaselTMA_SP41_100_X15Y5_170         0.952977       0.548220         0.977899   \nBaselTMA_SP41_14_X1Y8_2604          0.836241       0.692617         0.908256   \nBaselTMA_SP41_186_X5Y4_81           0.691698       0.719179         0.705012   \n\n                              apoptosis  \nBaselTMA_SP41_186_X5Y4_3679    0.548110  \nBaselTMA_SP41_153_X7Y5_246     0.820946  \nBaselTMA_SP41_20_X12Y5_197     0.778787  \nBaselTMA_SP41_14_X1Y8_84       0.697319  \nBaselTMA_SP41_166_X15Y4_266    0.764967  \n...                                 ...  \nBaselTMA_SP41_114_X13Y4_1057   1.000000  \nBaselTMA_SP41_141_X11Y2_2596   0.722046  \nBaselTMA_SP41_100_X15Y5_170    0.786169  \nBaselTMA_SP41_14_X1Y8_2604     0.700867  \nBaselTMA_SP41_186_X5Y4_81      0.660071  \n\n[100 rows x 4 columns]",
      "text/html": "<div>\n<style scoped>\n    .dataframe tbody tr th:only-of-type {\n        vertical-align: middle;\n    }\n\n    .dataframe tbody tr th {\n        vertical-align: top;\n    }\n\n    .dataframe thead th {\n        text-align: right;\n    }\n</style>\n<table border=\"1\" class=\"dataframe\">\n  <thead>\n    <tr style=\"text-align: right;\">\n      <th></th>\n      <th>RTK_signalling</th>\n      <th>proliferation</th>\n      <th>mTOR_signalling</th>\n      <th>apoptosis</th>\n    </tr>\n  </thead>\n  <tbody>\n    <tr>\n      <th>BaselTMA_SP41_186_X5Y4_3679</th>\n      <td>0.568386</td>\n      <td>0.900861</td>\n      <td>0.656078</td>\n      <td>0.548110</td>\n    </tr>\n    <tr>\n      <th>BaselTMA_SP41_153_X7Y5_246</th>\n      <td>0.421357</td>\n      <td>0.000000</td>\n      <td>0.524859</td>\n      <td>0.820946</td>\n    </tr>\n    <tr>\n      <th>BaselTMA_SP41_20_X12Y5_197</th>\n      <td>0.944829</td>\n      <td>0.561159</td>\n      <td>0.979277</td>\n      <td>0.778787</td>\n    </tr>\n    <tr>\n      <th>BaselTMA_SP41_14_X1Y8_84</th>\n      <td>0.858426</td>\n      <td>0.705787</td>\n      <td>0.938068</td>\n      <td>0.697319</td>\n    </tr>\n    <tr>\n      <th>BaselTMA_SP41_166_X15Y4_266</th>\n      <td>0.933672</td>\n      <td>0.574031</td>\n      <td>0.980568</td>\n      <td>0.764967</td>\n    </tr>\n    <tr>\n      <th>...</th>\n      <td>...</td>\n      <td>...</td>\n      <td>...</td>\n      <td>...</td>\n    </tr>\n    <tr>\n      <th>BaselTMA_SP41_114_X13Y4_1057</th>\n      <td>0.881551</td>\n      <td>0.447002</td>\n      <td>0.899008</td>\n      <td>1.000000</td>\n    </tr>\n    <tr>\n      <th>BaselTMA_SP41_141_X11Y2_2596</th>\n      <td>0.767853</td>\n      <td>0.684847</td>\n      <td>0.856773</td>\n      <td>0.722046</td>\n    </tr>\n    <tr>\n      <th>BaselTMA_SP41_100_X15Y5_170</th>\n      <td>0.952977</td>\n      <td>0.548220</td>\n      <td>0.977899</td>\n      <td>0.786169</td>\n    </tr>\n    <tr>\n      <th>BaselTMA_SP41_14_X1Y8_2604</th>\n      <td>0.836241</td>\n      <td>0.692617</td>\n      <td>0.908256</td>\n      <td>0.700867</td>\n    </tr>\n    <tr>\n      <th>BaselTMA_SP41_186_X5Y4_81</th>\n      <td>0.691698</td>\n      <td>0.719179</td>\n      <td>0.705012</td>\n      <td>0.660071</td>\n    </tr>\n  </tbody>\n</table>\n<p>100 rows × 4 columns</p>\n</div>"
     },
     "execution_count": 15,
     "metadata": {},
     "output_type": "execute_result"
    }
   ],
   "source": [
    "states = ast.get_cellstates()\n",
    "states"
   ]
  },
  {
   "cell_type": "code",
   "execution_count": 16,
   "metadata": {
    "pycharm": {
     "name": "#%%\n"
    }
   },
   "outputs": [
    {
     "data": {
      "text/plain": "<matplotlib.collections.PathCollection at 0x1319cf340>"
     },
     "execution_count": 16,
     "metadata": {},
     "output_type": "execute_result"
    },
    {
     "data": {
      "text/plain": "<Figure size 432x288 with 1 Axes>",
      "image/png": "[encoded data removed]"
     },
     "metadata": {
      "needs_background": "light"
     },
     "output_type": "display_data"
    }
   ],
   "source": [
    "plt.scatter(\n",
    "    states['RTK_signalling'],\n",
    "    ast.get_state_dataset().get_exprs_df()['Her2']\n",
    ")"
   ]
  },
  {
   "cell_type": "markdown",
   "metadata": {},
   "source": [
    "### Cell state diagnostics"
   ]
  },
  {
   "cell_type": "markdown",
   "metadata": {},
   "source": [
    "It is important to run diagnostics on cell states model for the same reasons\n",
    "stated for the cell type model. `Astir.diagnostics_cellstate()` spots any non\n",
    " marker protein and pathway pairs whose expressions are higher than those of\n",
    " the marker proteins of the pathway."
   ]
  },
  {
   "cell_type": "code",
   "execution_count": 17,
   "metadata": {
    "pycharm": {
     "name": "#%%\n"
    }
   },
   "outputs": [
    {
     "data": {
      "text/plain": "           pathway     protein A  correlation of protein A         protein B  \\\n0   RTK_signalling          Her2                 -0.542371             Ki-67   \n1   RTK_signalling          Her2                 -0.542371        phospho S6   \n2    proliferation         Ki-67                  0.241679              Her2   \n3    proliferation         Ki-67                  0.241679        phospho S6   \n4    proliferation         Ki-67                  0.241679      phospho mTOR   \n5  mTOR_signalling  phospho mTOR                 -0.776636  Cleaved Caspase3   \n6  mTOR_signalling  phospho mTOR                 -0.776636              EGFR   \n7  mTOR_signalling  phospho mTOR                 -0.776636              Her2   \n8  mTOR_signalling  phospho mTOR                 -0.776636             Ki-67   \n9  mTOR_signalling  phospho mTOR                 -0.776636      cleaved PARP   \n\n   correlation of protein B                                               note  \n0                 -0.062491  Her2 is marker for RTK_signalling but Ki-67 isn't  \n1                 -0.519752  Her2 is marker for RTK_signalling but phospho ...  \n2                  0.344042   Ki-67 is marker for proliferation but Her2 isn't  \n3                  0.411222  Ki-67 is marker for proliferation but phospho ...  \n4                  0.316836  Ki-67 is marker for proliferation but phospho ...  \n5                 -0.557334  phospho mTOR is marker for mTOR_signalling but...  \n6                 -0.412919  phospho mTOR is marker for mTOR_signalling but...  \n7                 -0.405998  phospho mTOR is marker for mTOR_signalling but...  \n8                 -0.012072  phospho mTOR is marker for mTOR_signalling but...  \n9                 -0.557334  phospho mTOR is marker for mTOR_signalling but...  ",
      "text/html": "<div>\n<style scoped>\n    .dataframe tbody tr th:only-of-type {\n        vertical-align: middle;\n    }\n\n    .dataframe tbody tr th {\n        vertical-align: top;\n    }\n\n    .dataframe thead th {\n        text-align: right;\n    }\n</style>\n<table border=\"1\" class=\"dataframe\">\n  <thead>\n    <tr style=\"text-align: right;\">\n      <th></th>\n      <th>pathway</th>\n      <th>protein A</th>\n      <th>correlation of protein A</th>\n      <th>protein B</th>\n      <th>correlation of protein B</th>\n      <th>note</th>\n    </tr>\n  </thead>\n  <tbody>\n    <tr>\n      <th>0</th>\n      <td>RTK_signalling</td>\n      <td>Her2</td>\n      <td>-0.542371</td>\n      <td>Ki-67</td>\n      <td>-0.062491</td>\n      <td>Her2 is marker for RTK_signalling but Ki-67 isn't</td>\n    </tr>\n    <tr>\n      <th>1</th>\n      <td>RTK_signalling</td>\n      <td>Her2</td>\n      <td>-0.542371</td>\n      <td>phospho S6</td>\n      <td>-0.519752</td>\n      <td>Her2 is marker for RTK_signalling but phospho ...</td>\n    </tr>\n    <tr>\n      <th>2</th>\n      <td>proliferation</td>\n      <td>Ki-67</td>\n      <td>0.241679</td>\n      <td>Her2</td>\n      <td>0.344042</td>\n      <td>Ki-67 is marker for proliferation but Her2 isn't</td>\n    </tr>\n    <tr>\n      <th>3</th>\n      <td>proliferation</td>\n      <td>Ki-67</td>\n      <td>0.241679</td>\n      <td>phospho S6</td>\n      <td>0.411222</td>\n      <td>Ki-67 is marker for proliferation but phospho ...</td>\n    </tr>\n    <tr>\n      <th>4</th>\n      <td>proliferation</td>\n      <td>Ki-67</td>\n      <td>0.241679</td>\n      <td>phospho mTOR</td>\n      <td>0.316836</td>\n      <td>Ki-67 is marker for proliferation but phospho ...</td>\n    </tr>\n    <tr>\n      <th>5</th>\n      <td>mTOR_signalling</td>\n      <td>phospho mTOR</td>\n      <td>-0.776636</td>\n      <td>Cleaved Caspase3</td>\n      <td>-0.557334</td>\n      <td>phospho mTOR is marker for mTOR_signalling but...</td>\n    </tr>\n    <tr>\n      <th>6</th>\n      <td>mTOR_signalling</td>\n      <td>phospho mTOR</td>\n      <td>-0.776636</td>\n      <td>EGFR</td>\n      <td>-0.412919</td>\n      <td>phospho mTOR is marker for mTOR_signalling but...</td>\n    </tr>\n    <tr>\n      <th>7</th>\n      <td>mTOR_signalling</td>\n      <td>phospho mTOR</td>\n      <td>-0.776636</td>\n      <td>Her2</td>\n      <td>-0.405998</td>\n      <td>phospho mTOR is marker for mTOR_signalling but...</td>\n    </tr>\n    <tr>\n      <th>8</th>\n      <td>mTOR_signalling</td>\n      <td>phospho mTOR</td>\n      <td>-0.776636</td>\n      <td>Ki-67</td>\n      <td>-0.012072</td>\n      <td>phospho mTOR is marker for mTOR_signalling but...</td>\n    </tr>\n    <tr>\n      <th>9</th>\n      <td>mTOR_signalling</td>\n      <td>phospho mTOR</td>\n      <td>-0.776636</td>\n      <td>cleaved PARP</td>\n      <td>-0.557334</td>\n      <td>phospho mTOR is marker for mTOR_signalling but...</td>\n    </tr>\n  </tbody>\n</table>\n</div>"
     },
     "execution_count": 17,
     "metadata": {},
     "output_type": "execute_result"
    }
   ],
   "source": [
    "ast.diagnostics_cellstate().head(n=10)"
   ]
  },
  {
   "cell_type": "markdown",
   "metadata": {},
   "source": [
    "Calling `ast.diagnostics_cellstate()` returns a `pd.DataFrame`, where each\n",
    "column corresponds to a particular protein and two cell types, with a warning\n",
    " if the protein is not expressed at higher levels in the cell state for which\n",
    " it is a marker than the cell state for which it is not."
   ]
  },
  {
   "cell_type": "markdown",
   "metadata": {},
   "source": [
    "The diagnostics:\n",
    "\n",
    "1. Get correlations between all cell states and proteins\n",
    "\n",
    "2. For each cell state *c*, get the smallest correlation with marker *g*\n",
    "\n",
    "3. For each cell state *c* and its non marker *g*, find any correlation that is\n",
    "bigger than those smallest correlation for *c*.\n",
    "\n",
    "4. Any *c* and *g* pairs found in step 3 will be included in the output of\n",
    "`Astir.diagnostics_cellstate()`, including an explanation."
   ]
  },
  {
   "cell_type": "markdown",
   "metadata": {},
   "source": [
    "If multiple issues are found, the markers and cell states may need refined.\n"
   ]
  },
  {
   "cell_type": "markdown",
   "metadata": {},
   "source": [
    "## 4. Saving results <a class=\"anchor\" id=\"4.-Saving-results\"></a>"
   ]
  },
  {
   "cell_type": "markdown",
   "metadata": {},
   "source": [
    "Both cell type and cell state information can easily be saved to disk via"
   ]
  },
  {
   "cell_type": "code",
   "execution_count": 18,
   "metadata": {
    "pycharm": {
     "name": "#%%\n"
    }
   },
   "outputs": [],
   "source": [
    "ast.type_to_csv(\"data/cell-types.csv\")\n",
    "ast.state_to_csv(\"data/cell-states.csv\")"
   ]
  },
  {
   "cell_type": "code",
   "execution_count": 19,
   "metadata": {
    "pycharm": {
     "name": "#%%\n"
    }
   },
   "outputs": [
    {
     "name": "stdout",
     "output_type": "stream",
     "text": [
      ",cell_type\r\n",
      "BaselTMA_SP41_186_X5Y4_3679,Unknown\r\n",
      "BaselTMA_SP41_153_X7Y5_246,Unknown\r\n"
     ]
    }
   ],
   "source": [
    "!head -n 3 data/cell-types.csv"
   ]
  },
  {
   "cell_type": "code",
   "execution_count": 20,
   "metadata": {
    "pycharm": {
     "name": "#%%\n"
    }
   },
   "outputs": [
    {
     "name": "stdout",
     "output_type": "stream",
     "text": [
      ",RTK_signalling,proliferation,mTOR_signalling,apoptosis\r\n",
      "BaselTMA_SP41_186_X5Y4_3679,0.5683861877028941,0.9008611646823064,0.656078413193121,0.5481102160359178\r\n",
      "BaselTMA_SP41_153_X7Y5_246,0.42135746208636826,0.0,0.5248592191573492,0.8209456743672588\r\n"
     ]
    }
   ],
   "source": [
    "!head -n 3 data/cell-states.csv"
   ]
  },
  {
   "cell_type": "markdown",
   "metadata": {},
   "source": [
    "where the first (unnamed) column always corresponds to the cell name/ID."
   ]
  },
  {
   "cell_type": "markdown",
   "metadata": {},
   "source": [
    "## 5. Accessing internal functions and data <a class=\"anchor\" id=\"5.-Accessing-internal-functions-and-data\"></a>"
   ]
  },
  {
   "cell_type": "markdown",
   "metadata": {},
   "source": [
    "Data stored in `astir` objects is in the form of an `SCDataSet`. These can be retrieved via"
   ]
  },
  {
   "cell_type": "code",
   "execution_count": 21,
   "metadata": {
    "pycharm": {
     "name": "#%%\n"
    }
   },
   "outputs": [
    {
     "data": {
      "text/plain": "<astir.data.scdataset.SCDataset at 0x10fbec730>"
     },
     "execution_count": 21,
     "metadata": {},
     "output_type": "execute_result"
    }
   ],
   "source": [
    "celltype_data = ast.get_type_dataset()\n",
    "celltype_data"
   ]
  },
  {
   "cell_type": "markdown",
   "metadata": {},
   "source": [
    "and similarly for cell state via `ast.get_state_dataset()`.\n",
    "\n",
    "These have several helper functions to retrieve relevant information to the dataset:"
   ]
  },
  {
   "cell_type": "code",
   "execution_count": 22,
   "metadata": {
    "pycharm": {
     "name": "#%%\n"
    }
   },
   "outputs": [
    {
     "data": {
      "text/plain": "['BaselTMA_SP41_186_X5Y4_3679',\n 'BaselTMA_SP41_153_X7Y5_246',\n 'BaselTMA_SP41_20_X12Y5_197',\n 'BaselTMA_SP41_14_X1Y8_84']"
     },
     "execution_count": 22,
     "metadata": {},
     "output_type": "execute_result"
    }
   ],
   "source": [
    "celltype_data.get_cell_names()[0:4] # cell names"
   ]
  },
  {
   "cell_type": "code",
   "execution_count": 23,
   "metadata": {
    "pycharm": {
     "name": "#%%\n"
    }
   },
   "outputs": [
    {
     "data": {
      "text/plain": "['stromal',\n 'B cells',\n 'T cells',\n 'macrophage',\n 'epithelial(basal)',\n 'epithelial(luminal)']"
     },
     "execution_count": 23,
     "metadata": {},
     "output_type": "execute_result"
    }
   ],
   "source": [
    "celltype_data.get_classes() # cell type names"
   ]
  },
  {
   "cell_type": "code",
   "execution_count": 24,
   "metadata": {
    "pycharm": {
     "name": "#%%\n"
    }
   },
   "outputs": [
    {
     "name": "stdout",
     "output_type": "stream",
     "text": [
      "6\n",
      "14\n"
     ]
    }
   ],
   "source": [
    "print(celltype_data.get_n_classes()) # number of cell types\n",
    "print(celltype_data.get_n_features()) # number of features / proteins"
   ]
  },
  {
   "cell_type": "code",
   "execution_count": 25,
   "metadata": {
    "pycharm": {
     "name": "#%%\n"
    }
   },
   "outputs": [
    {
     "data": {
      "text/plain": "tensor([[0.1026, 0.1004, 0.2277,  ..., 0.6097, 2.2151, 0.7714],\n        [0.1081, 0.0176, 0.0685,  ..., 1.0622, 0.5026, 3.9632],\n        [0.0498, 0.0943, 0.3012,  ..., 0.1601, 0.8102, 0.0481],\n        ...,\n        [0.0695, 0.0119, 0.0869,  ..., 0.4487, 0.7593, 1.4923],\n        [0.0929, 0.1266, 0.2395,  ..., 0.4405, 2.2464, 0.4174],\n        [0.0618, 0.1439, 0.2476,  ..., 0.7055, 3.1238, 0.2552]],\n       dtype=torch.float64)"
     },
     "execution_count": 25,
     "metadata": {},
     "output_type": "execute_result"
    }
   ],
   "source": [
    "celltype_data.get_exprs() # Return a torch tensor corresponding to the expression data used"
   ]
  },
  {
   "cell_type": "code",
   "execution_count": 26,
   "metadata": {
    "pycharm": {
     "name": "#%%\n"
    }
   },
   "outputs": [
    {
     "data": {
      "text/plain": "                                  CD20       CD3      CD45      CD68  \\\nBaselTMA_SP41_186_X5Y4_3679   0.102576  0.100401  0.227730  2.227252   \nBaselTMA_SP41_153_X7Y5_246    0.108137  0.017637  0.068526  0.208297   \nBaselTMA_SP41_20_X12Y5_197    0.049809  0.094316  0.301222  0.581624   \nBaselTMA_SP41_14_X1Y8_84      0.024256  0.140441  0.606941  0.490982   \nBaselTMA_SP41_166_X15Y4_266   0.138571  0.111722  0.588273  1.039967   \n...                                ...       ...       ...       ...   \nBaselTMA_SP41_114_X13Y4_1057  0.185995  0.049244  0.151869  0.296231   \nBaselTMA_SP41_141_X11Y2_2596  0.100324  0.024006  0.025612  0.091424   \nBaselTMA_SP41_100_X15Y5_170   0.069503  0.011859  0.086852  0.538247   \nBaselTMA_SP41_14_X1Y8_2604    0.092944  0.126645  0.239459  1.967150   \nBaselTMA_SP41_186_X5Y4_81     0.061784  0.143930  0.247627  0.316248   \n\n                              Cytokeratin 14  Cytokeratin 19  Cytokeratin 5  \\\nBaselTMA_SP41_186_X5Y4_3679         0.195163        0.190923       0.095283   \nBaselTMA_SP41_153_X7Y5_246          0.234853        0.685858       0.124031   \nBaselTMA_SP41_20_X12Y5_197          0.072666        0.115979       0.052750   \nBaselTMA_SP41_14_X1Y8_84            0.165863        0.652143       0.093352   \nBaselTMA_SP41_166_X15Y4_266         0.162696        0.086235       0.064545   \n...                                      ...             ...            ...   \nBaselTMA_SP41_114_X13Y4_1057        0.151970        0.175114       0.108374   \nBaselTMA_SP41_141_X11Y2_2596        0.049996        0.324138       0.083866   \nBaselTMA_SP41_100_X15Y5_170         0.037131        0.321179       0.096496   \nBaselTMA_SP41_14_X1Y8_2604          0.171216        0.132563       0.055748   \nBaselTMA_SP41_186_X5Y4_81           0.232111        0.145036       0.080324   \n\n                              Cytokeratin 7  Cytokeratin 8/18  E-Cadherin  \\\nBaselTMA_SP41_186_X5Y4_3679        0.057050          0.461040    0.938354   \nBaselTMA_SP41_153_X7Y5_246         0.485330          0.382767    1.364884   \nBaselTMA_SP41_20_X12Y5_197         0.035875          0.020290    0.177361   \nBaselTMA_SP41_14_X1Y8_84           0.351700          0.904383    1.122174   \nBaselTMA_SP41_166_X15Y4_266        0.009627          0.046967    0.402554   \n...                                     ...               ...         ...   \nBaselTMA_SP41_114_X13Y4_1057       0.021539          0.207346    2.120132   \nBaselTMA_SP41_141_X11Y2_2596       0.069627          0.614213    1.637392   \nBaselTMA_SP41_100_X15Y5_170        0.000000          0.696445    0.861641   \nBaselTMA_SP41_14_X1Y8_2604         0.082334          0.128377    0.532135   \nBaselTMA_SP41_186_X5Y4_81          0.000000          0.208533    0.899182   \n\n                              Fibronectin      Her2  Vimentin  pan Cytokeratin  \nBaselTMA_SP41_186_X5Y4_3679      1.829905  0.609694  2.215089         0.771352  \nBaselTMA_SP41_153_X7Y5_246       1.226994  1.062229  0.502627         3.963248  \nBaselTMA_SP41_20_X12Y5_197       2.222520  0.160135  0.810243         0.048100  \nBaselTMA_SP41_14_X1Y8_84         1.402750  1.133448  1.742495         1.917118  \nBaselTMA_SP41_166_X15Y4_266      2.669947  0.558439  1.659587         0.687005  \n...                                   ...       ...       ...              ...  \nBaselTMA_SP41_114_X13Y4_1057     0.743909  1.460545  0.069651         1.666665  \nBaselTMA_SP41_141_X11Y2_2596     0.860960  0.789372  0.000000         2.584532  \nBaselTMA_SP41_100_X15Y5_170      1.724828  0.448688  0.759268         1.492342  \nBaselTMA_SP41_14_X1Y8_2604       1.899111  0.440527  2.246434         0.417445  \nBaselTMA_SP41_186_X5Y4_81        2.475906  0.705456  3.123784         0.255158  \n\n[100 rows x 14 columns]",
      "text/html": "<div>\n<style scoped>\n    .dataframe tbody tr th:only-of-type {\n        vertical-align: middle;\n    }\n\n    .dataframe tbody tr th {\n        vertical-align: top;\n    }\n\n    .dataframe thead th {\n        text-align: right;\n    }\n</style>\n<table border=\"1\" class=\"dataframe\">\n  <thead>\n    <tr style=\"text-align: right;\">\n      <th></th>\n      <th>CD20</th>\n      <th>CD3</th>\n      <th>CD45</th>\n      <th>CD68</th>\n      <th>Cytokeratin 14</th>\n      <th>Cytokeratin 19</th>\n      <th>Cytokeratin 5</th>\n      <th>Cytokeratin 7</th>\n      <th>Cytokeratin 8/18</th>\n      <th>E-Cadherin</th>\n      <th>Fibronectin</th>\n      <th>Her2</th>\n      <th>Vimentin</th>\n      <th>pan Cytokeratin</th>\n    </tr>\n  </thead>\n  <tbody>\n    <tr>\n      <th>BaselTMA_SP41_186_X5Y4_3679</th>\n      <td>0.102576</td>\n      <td>0.100401</td>\n      <td>0.227730</td>\n      <td>2.227252</td>\n      <td>0.195163</td>\n      <td>0.190923</td>\n      <td>0.095283</td>\n      <td>0.057050</td>\n      <td>0.461040</td>\n      <td>0.938354</td>\n      <td>1.829905</td>\n      <td>0.609694</td>\n      <td>2.215089</td>\n      <td>0.771352</td>\n    </tr>\n    <tr>\n      <th>BaselTMA_SP41_153_X7Y5_246</th>\n      <td>0.108137</td>\n      <td>0.017637</td>\n      <td>0.068526</td>\n      <td>0.208297</td>\n      <td>0.234853</td>\n      <td>0.685858</td>\n      <td>0.124031</td>\n      <td>0.485330</td>\n      <td>0.382767</td>\n      <td>1.364884</td>\n      <td>1.226994</td>\n      <td>1.062229</td>\n      <td>0.502627</td>\n      <td>3.963248</td>\n    </tr>\n    <tr>\n      <th>BaselTMA_SP41_20_X12Y5_197</th>\n      <td>0.049809</td>\n      <td>0.094316</td>\n      <td>0.301222</td>\n      <td>0.581624</td>\n      <td>0.072666</td>\n      <td>0.115979</td>\n      <td>0.052750</td>\n      <td>0.035875</td>\n      <td>0.020290</td>\n      <td>0.177361</td>\n      <td>2.222520</td>\n      <td>0.160135</td>\n      <td>0.810243</td>\n      <td>0.048100</td>\n    </tr>\n    <tr>\n      <th>BaselTMA_SP41_14_X1Y8_84</th>\n      <td>0.024256</td>\n      <td>0.140441</td>\n      <td>0.606941</td>\n      <td>0.490982</td>\n      <td>0.165863</td>\n      <td>0.652143</td>\n      <td>0.093352</td>\n      <td>0.351700</td>\n      <td>0.904383</td>\n      <td>1.122174</td>\n      <td>1.402750</td>\n      <td>1.133448</td>\n      <td>1.742495</td>\n      <td>1.917118</td>\n    </tr>\n    <tr>\n      <th>BaselTMA_SP41_166_X15Y4_266</th>\n      <td>0.138571</td>\n      <td>0.111722</td>\n      <td>0.588273</td>\n      <td>1.039967</td>\n      <td>0.162696</td>\n      <td>0.086235</td>\n      <td>0.064545</td>\n      <td>0.009627</td>\n      <td>0.046967</td>\n      <td>0.402554</td>\n      <td>2.669947</td>\n      <td>0.558439</td>\n      <td>1.659587</td>\n      <td>0.687005</td>\n    </tr>\n    <tr>\n      <th>...</th>\n      <td>...</td>\n      <td>...</td>\n      <td>...</td>\n      <td>...</td>\n      <td>...</td>\n      <td>...</td>\n      <td>...</td>\n      <td>...</td>\n      <td>...</td>\n      <td>...</td>\n      <td>...</td>\n      <td>...</td>\n      <td>...</td>\n      <td>...</td>\n    </tr>\n    <tr>\n      <th>BaselTMA_SP41_114_X13Y4_1057</th>\n      <td>0.185995</td>\n      <td>0.049244</td>\n      <td>0.151869</td>\n      <td>0.296231</td>\n      <td>0.151970</td>\n      <td>0.175114</td>\n      <td>0.108374</td>\n      <td>0.021539</td>\n      <td>0.207346</td>\n      <td>2.120132</td>\n      <td>0.743909</td>\n      <td>1.460545</td>\n      <td>0.069651</td>\n      <td>1.666665</td>\n    </tr>\n    <tr>\n      <th>BaselTMA_SP41_141_X11Y2_2596</th>\n      <td>0.100324</td>\n      <td>0.024006</td>\n      <td>0.025612</td>\n      <td>0.091424</td>\n      <td>0.049996</td>\n      <td>0.324138</td>\n      <td>0.083866</td>\n      <td>0.069627</td>\n      <td>0.614213</td>\n      <td>1.637392</td>\n      <td>0.860960</td>\n      <td>0.789372</td>\n      <td>0.000000</td>\n      <td>2.584532</td>\n    </tr>\n    <tr>\n      <th>BaselTMA_SP41_100_X15Y5_170</th>\n      <td>0.069503</td>\n      <td>0.011859</td>\n      <td>0.086852</td>\n      <td>0.538247</td>\n      <td>0.037131</td>\n      <td>0.321179</td>\n      <td>0.096496</td>\n      <td>0.000000</td>\n      <td>0.696445</td>\n      <td>0.861641</td>\n      <td>1.724828</td>\n      <td>0.448688</td>\n      <td>0.759268</td>\n      <td>1.492342</td>\n    </tr>\n    <tr>\n      <th>BaselTMA_SP41_14_X1Y8_2604</th>\n      <td>0.092944</td>\n      <td>0.126645</td>\n      <td>0.239459</td>\n      <td>1.967150</td>\n      <td>0.171216</td>\n      <td>0.132563</td>\n      <td>0.055748</td>\n      <td>0.082334</td>\n      <td>0.128377</td>\n      <td>0.532135</td>\n      <td>1.899111</td>\n      <td>0.440527</td>\n      <td>2.246434</td>\n      <td>0.417445</td>\n    </tr>\n    <tr>\n      <th>BaselTMA_SP41_186_X5Y4_81</th>\n      <td>0.061784</td>\n      <td>0.143930</td>\n      <td>0.247627</td>\n      <td>0.316248</td>\n      <td>0.232111</td>\n      <td>0.145036</td>\n      <td>0.080324</td>\n      <td>0.000000</td>\n      <td>0.208533</td>\n      <td>0.899182</td>\n      <td>2.475906</td>\n      <td>0.705456</td>\n      <td>3.123784</td>\n      <td>0.255158</td>\n    </tr>\n  </tbody>\n</table>\n<p>100 rows × 14 columns</p>\n</div>"
     },
     "execution_count": 26,
     "metadata": {},
     "output_type": "execute_result"
    }
   ],
   "source": [
    "celltype_data.get_exprs_df() # Return a pandas DataFrame corresponding to the expression data used"
   ]
  },
  {
   "cell_type": "code",
   "execution_count": 27,
   "metadata": {
    "pycharm": {
     "name": "#%%\n"
    }
   },
   "outputs": [],
   "source": [
    "ast.normalize()"
   ]
  },
  {
   "cell_type": "code",
   "execution_count": 28,
   "metadata": {
    "pycharm": {
     "name": "#%%\n"
    }
   },
   "outputs": [
    {
     "data": {
      "text/plain": "                                  CD20       CD3      CD45      CD68  \\\nBaselTMA_SP41_186_X5Y4_3679   0.020514  0.020079  0.045530  0.384408   \nBaselTMA_SP41_153_X7Y5_246    0.021626  0.003527  0.013705  0.041647   \nBaselTMA_SP41_20_X12Y5_197    0.009962  0.018862  0.060208  0.116064   \nBaselTMA_SP41_14_X1Y8_84      0.004851  0.028085  0.121092  0.098039   \nBaselTMA_SP41_166_X15Y4_266   0.027711  0.022343  0.117385  0.206522   \n...                                ...       ...       ...       ...   \nBaselTMA_SP41_114_X13Y4_1057  0.037190  0.009849  0.030369  0.059212   \nBaselTMA_SP41_141_X11Y2_2596  0.020063  0.004801  0.005122  0.018284   \nBaselTMA_SP41_100_X15Y5_170   0.013900  0.002372  0.017370  0.107443   \nBaselTMA_SP41_14_X1Y8_2604    0.018588  0.025326  0.047873  0.383928   \nBaselTMA_SP41_186_X5Y4_81     0.012356  0.028782  0.049505  0.063207   \n\n                              Cytokeratin 14  Cytokeratin 19  Cytokeratin 5  \\\nBaselTMA_SP41_186_X5Y4_3679         0.039023        0.038175       0.019055   \nBaselTMA_SP41_153_X7Y5_246          0.046953        0.136745       0.024804   \nBaselTMA_SP41_20_X12Y5_197          0.014533        0.023194       0.010550   \nBaselTMA_SP41_14_X1Y8_84            0.033167        0.130062       0.018669   \nBaselTMA_SP41_166_X15Y4_266         0.032533        0.017246       0.012909   \n...                                      ...             ...            ...   \nBaselTMA_SP41_114_X13Y4_1057        0.030389        0.035016       0.021673   \nBaselTMA_SP41_141_X11Y2_2596        0.009999        0.064782       0.016772   \nBaselTMA_SP41_100_X15Y5_170         0.007426        0.064192       0.019298   \nBaselTMA_SP41_14_X1Y8_2604          0.034236        0.026509       0.011149   \nBaselTMA_SP41_186_X5Y4_81           0.046406        0.029003       0.016064   \n\n                              Cytokeratin 7  Cytokeratin 8/18  E-Cadherin  \\\nBaselTMA_SP41_186_X5Y4_3679        0.011410          0.092078    0.186586   \nBaselTMA_SP41_153_X7Y5_246         0.096914          0.076479    0.269695   \nBaselTMA_SP41_20_X12Y5_197         0.007175          0.004058    0.035465   \nBaselTMA_SP41_14_X1Y8_84           0.070282          0.179905    0.222592   \nBaselTMA_SP41_166_X15Y4_266        0.001925          0.009393    0.080424   \n...                                     ...               ...         ...   \nBaselTMA_SP41_114_X13Y4_1057       0.004308          0.041457    0.412250   \nBaselTMA_SP41_141_X11Y2_2596       0.013925          0.122536    0.321891   \nBaselTMA_SP41_100_X15Y5_170        0.000000          0.138843    0.171486   \nBaselTMA_SP41_14_X1Y8_2604         0.016466          0.025673    0.106227   \nBaselTMA_SP41_186_X5Y4_81          0.000000          0.041695    0.178881   \n\n                              Fibronectin      Her2  Vimentin  pan Cytokeratin  \nBaselTMA_SP41_186_X5Y4_3679      0.358267  0.121639  0.429674         0.153665  \nBaselTMA_SP41_153_X7Y5_246       0.243000  0.210879  0.100357         0.726918  \nBaselTMA_SP41_20_X12Y5_197       0.431033  0.032021  0.161348         0.009620  \nBaselTMA_SP41_14_X1Y8_84         0.276994  0.224792  0.341804         0.374601  \nBaselTMA_SP41_166_X15Y4_266      0.511404  0.111457  0.326107         0.136972  \n...                                   ...       ...       ...              ...  \nBaselTMA_SP41_114_X13Y4_1057     0.148238  0.288107  0.013930         0.327450  \nBaselTMA_SP41_141_X11Y2_2596     0.171352  0.157226  0.000000         0.496282  \nBaselTMA_SP41_100_X15Y5_170      0.338466  0.089618  0.151276         0.294206  \nBaselTMA_SP41_14_X1Y8_2604       0.371236  0.087992  0.435399         0.083392  \nBaselTMA_SP41_186_X5Y4_81        0.476898  0.140627  0.589937         0.051009  \n\n[100 rows x 14 columns]",
      "text/html": "<div>\n<style scoped>\n    .dataframe tbody tr th:only-of-type {\n        vertical-align: middle;\n    }\n\n    .dataframe tbody tr th {\n        vertical-align: top;\n    }\n\n    .dataframe thead th {\n        text-align: right;\n    }\n</style>\n<table border=\"1\" class=\"dataframe\">\n  <thead>\n    <tr style=\"text-align: right;\">\n      <th></th>\n      <th>CD20</th>\n      <th>CD3</th>\n      <th>CD45</th>\n      <th>CD68</th>\n      <th>Cytokeratin 14</th>\n      <th>Cytokeratin 19</th>\n      <th>Cytokeratin 5</th>\n      <th>Cytokeratin 7</th>\n      <th>Cytokeratin 8/18</th>\n      <th>E-Cadherin</th>\n      <th>Fibronectin</th>\n      <th>Her2</th>\n      <th>Vimentin</th>\n      <th>pan Cytokeratin</th>\n    </tr>\n  </thead>\n  <tbody>\n    <tr>\n      <th>BaselTMA_SP41_186_X5Y4_3679</th>\n      <td>0.020514</td>\n      <td>0.020079</td>\n      <td>0.045530</td>\n      <td>0.384408</td>\n      <td>0.039023</td>\n      <td>0.038175</td>\n      <td>0.019055</td>\n      <td>0.011410</td>\n      <td>0.092078</td>\n      <td>0.186586</td>\n      <td>0.358267</td>\n      <td>0.121639</td>\n      <td>0.429674</td>\n      <td>0.153665</td>\n    </tr>\n    <tr>\n      <th>BaselTMA_SP41_153_X7Y5_246</th>\n      <td>0.021626</td>\n      <td>0.003527</td>\n      <td>0.013705</td>\n      <td>0.041647</td>\n      <td>0.046953</td>\n      <td>0.136745</td>\n      <td>0.024804</td>\n      <td>0.096914</td>\n      <td>0.076479</td>\n      <td>0.269695</td>\n      <td>0.243000</td>\n      <td>0.210879</td>\n      <td>0.100357</td>\n      <td>0.726918</td>\n    </tr>\n    <tr>\n      <th>BaselTMA_SP41_20_X12Y5_197</th>\n      <td>0.009962</td>\n      <td>0.018862</td>\n      <td>0.060208</td>\n      <td>0.116064</td>\n      <td>0.014533</td>\n      <td>0.023194</td>\n      <td>0.010550</td>\n      <td>0.007175</td>\n      <td>0.004058</td>\n      <td>0.035465</td>\n      <td>0.431033</td>\n      <td>0.032021</td>\n      <td>0.161348</td>\n      <td>0.009620</td>\n    </tr>\n    <tr>\n      <th>BaselTMA_SP41_14_X1Y8_84</th>\n      <td>0.004851</td>\n      <td>0.028085</td>\n      <td>0.121092</td>\n      <td>0.098039</td>\n      <td>0.033167</td>\n      <td>0.130062</td>\n      <td>0.018669</td>\n      <td>0.070282</td>\n      <td>0.179905</td>\n      <td>0.222592</td>\n      <td>0.276994</td>\n      <td>0.224792</td>\n      <td>0.341804</td>\n      <td>0.374601</td>\n    </tr>\n    <tr>\n      <th>BaselTMA_SP41_166_X15Y4_266</th>\n      <td>0.027711</td>\n      <td>0.022343</td>\n      <td>0.117385</td>\n      <td>0.206522</td>\n      <td>0.032533</td>\n      <td>0.017246</td>\n      <td>0.012909</td>\n      <td>0.001925</td>\n      <td>0.009393</td>\n      <td>0.080424</td>\n      <td>0.511404</td>\n      <td>0.111457</td>\n      <td>0.326107</td>\n      <td>0.136972</td>\n    </tr>\n    <tr>\n      <th>...</th>\n      <td>...</td>\n      <td>...</td>\n      <td>...</td>\n      <td>...</td>\n      <td>...</td>\n      <td>...</td>\n      <td>...</td>\n      <td>...</td>\n      <td>...</td>\n      <td>...</td>\n      <td>...</td>\n      <td>...</td>\n      <td>...</td>\n      <td>...</td>\n    </tr>\n    <tr>\n      <th>BaselTMA_SP41_114_X13Y4_1057</th>\n      <td>0.037190</td>\n      <td>0.009849</td>\n      <td>0.030369</td>\n      <td>0.059212</td>\n      <td>0.030389</td>\n      <td>0.035016</td>\n      <td>0.021673</td>\n      <td>0.004308</td>\n      <td>0.041457</td>\n      <td>0.412250</td>\n      <td>0.148238</td>\n      <td>0.288107</td>\n      <td>0.013930</td>\n      <td>0.327450</td>\n    </tr>\n    <tr>\n      <th>BaselTMA_SP41_141_X11Y2_2596</th>\n      <td>0.020063</td>\n      <td>0.004801</td>\n      <td>0.005122</td>\n      <td>0.018284</td>\n      <td>0.009999</td>\n      <td>0.064782</td>\n      <td>0.016772</td>\n      <td>0.013925</td>\n      <td>0.122536</td>\n      <td>0.321891</td>\n      <td>0.171352</td>\n      <td>0.157226</td>\n      <td>0.000000</td>\n      <td>0.496282</td>\n    </tr>\n    <tr>\n      <th>BaselTMA_SP41_100_X15Y5_170</th>\n      <td>0.013900</td>\n      <td>0.002372</td>\n      <td>0.017370</td>\n      <td>0.107443</td>\n      <td>0.007426</td>\n      <td>0.064192</td>\n      <td>0.019298</td>\n      <td>0.000000</td>\n      <td>0.138843</td>\n      <td>0.171486</td>\n      <td>0.338466</td>\n      <td>0.089618</td>\n      <td>0.151276</td>\n      <td>0.294206</td>\n    </tr>\n    <tr>\n      <th>BaselTMA_SP41_14_X1Y8_2604</th>\n      <td>0.018588</td>\n      <td>0.025326</td>\n      <td>0.047873</td>\n      <td>0.383928</td>\n      <td>0.034236</td>\n      <td>0.026509</td>\n      <td>0.011149</td>\n      <td>0.016466</td>\n      <td>0.025673</td>\n      <td>0.106227</td>\n      <td>0.371236</td>\n      <td>0.087992</td>\n      <td>0.435399</td>\n      <td>0.083392</td>\n    </tr>\n    <tr>\n      <th>BaselTMA_SP41_186_X5Y4_81</th>\n      <td>0.012356</td>\n      <td>0.028782</td>\n      <td>0.049505</td>\n      <td>0.063207</td>\n      <td>0.046406</td>\n      <td>0.029003</td>\n      <td>0.016064</td>\n      <td>0.000000</td>\n      <td>0.041695</td>\n      <td>0.178881</td>\n      <td>0.476898</td>\n      <td>0.140627</td>\n      <td>0.589937</td>\n      <td>0.051009</td>\n    </tr>\n  </tbody>\n</table>\n<p>100 rows × 14 columns</p>\n</div>"
     },
     "execution_count": 28,
     "metadata": {},
     "output_type": "execute_result"
    }
   ],
   "source": [
    "ast.get_type_dataset().get_exprs_df()"
   ]
  },
  {
   "cell_type": "markdown",
   "metadata": {
    "pycharm": {
     "name": "#%%\n"
    }
   },
   "source": [
    "## 6. Saving models <a class=\"anchor\" id=\"6.-Saving-models\"></a>"
   ]
  },
  {
   "cell_type": "markdown",
   "metadata": {
    "pycharm": {
     "name": "#%%\n"
    }
   },
   "source": [
    "After fixing the models, we can save the cell type/state assignment, the losses, the parameters (e.g. `mu`, `rho`, `log_sigma`, etc) and the run informations (e.g. `batch_size`, `learning_rate`, `delta_loss`, etc) to an hdf5 file."
   ]
  },
  {
   "cell_type": "code",
   "execution_count": 29,
   "metadata": {
    "pycharm": {
     "name": "#%%\n"
    }
   },
   "outputs": [],
   "source": [
    "ast.save_models(\"data/astir_summary.hdf5\")"
   ]
  },
  {
   "cell_type": "markdown",
   "metadata": {},
   "source": [
    "The hierarchy of the hdf5 file would be:"
   ]
  },
  {
   "cell_type": "markdown",
   "metadata": {},
   "source": [
    "<img src=\"img/hdf5_schematics.png\" style=\"width:900px;height:300px;\">"
   ]
  },
  {
   "cell_type": "markdown",
   "metadata": {},
   "source": [
    "Only the model that is trained will be saved (`CellTypeModel` or `CellStateModel` or both). If the functioned is called before any model is trained, exception will be raised. Data saved in the file is either `int` or `np.array`."
   ]
  },
  {
   "cell_type": "markdown",
   "metadata": {},
   "source": [
    "## 7. Plot clustermap of expression data  <a class=\"anchor\" id=\"7.-Plot-clustermap-of-expression-data\"></a>"
   ]
  },
  {
   "cell_type": "markdown",
   "metadata": {},
   "source": [
    "After fixing the cell type model, we can also plot a heatmap of protein expression of cells clustered by type. The heatmap will be saved at the location `plot_name`, which is default to `\"./celltype_protein_cluster.png\"`"
   ]
  },
  {
   "cell_type": "code",
   "execution_count": 30,
   "metadata": {},
   "outputs": [
    {
     "data": {
      "text/plain": "<Figure size 504x360 with 5 Axes>",
      "image/png": "[encoded data removed]"
     },
     "metadata": {
      "needs_background": "light"
     },
     "output_type": "display_data"
    }
   ],
   "source": [
    "ast.type_clustermap(plot_name=\"./img/celltype_protein_cluster.png\", threshold = 0.7, figsize=(7, 5))"
   ]
  },
  {
   "cell_type": "markdown",
   "metadata": {},
   "source": [
    "Note: `threshold` is the probability threshold above which a cell is assigned to a cell type, default to 0.7. "
   ]
  },
  {
   "cell_type": "markdown",
   "metadata": {},
   "source": [
    "## 8. Hierarchical model specification <a class=\"anchor\" id=\"8.-Hierarchical-model-specification\"></a>"
   ]
  },
  {
   "cell_type": "markdown",
   "metadata": {},
   "source": [
    "In the marker yaml file, the user can also add a section called `hierarchy`, which specifies the hierarchical structure of cell types. Here's an example:\n",
    "```\n",
    "hierarchy:\n",
    "  immune:\n",
    "    - B cells\n",
    "    - T cells\n",
    "    - macrophage\n",
    "  epithelial:\n",
    "    - epithelial(basal)\n",
    "    - epithelial(luminal)\n",
    "```"
   ]
  },
  {
   "cell_type": "markdown",
   "metadata": {},
   "source": [
    "Some notes: \n",
    "1. The section would be accessed by key `hierarchy`.\n",
    "2. In the section, the higher-levelled cell type names should be the keys.\n",
    "3. The values in the section should also exist as the cell type names in the `cell_types` section. (e.g. if we have `\"B cells\"` in `marker[\"hierarchy\"][\"immune\"]`, we should also be able to get `marker[\"cell_types\"][\"B cells\"]`)\n",
    "\n",
    "This section could be used to summarize the cell types assignment at a higher hierarchical level. (e.g. a cell is predicted as \"immune\" instead of \"B cells\" or \"T cells\")"
   ]
  },
  {
   "cell_type": "code",
   "execution_count": 31,
   "metadata": {},
   "outputs": [
    {
     "data": {
      "text/plain": "                               immune  epithelial\nBaselTMA_SP41_186_X5Y4_3679  0.388475    0.318990\nBaselTMA_SP41_153_X7Y5_246   0.473283    0.315430\nBaselTMA_SP41_20_X12Y5_197   0.453717    0.300328\nBaselTMA_SP41_14_X1Y8_84     0.444866    0.291041\nBaselTMA_SP41_166_X15Y4_266  0.463366    0.283482",
      "text/html": "<div>\n<style scoped>\n    .dataframe tbody tr th:only-of-type {\n        vertical-align: middle;\n    }\n\n    .dataframe tbody tr th {\n        vertical-align: top;\n    }\n\n    .dataframe thead th {\n        text-align: right;\n    }\n</style>\n<table border=\"1\" class=\"dataframe\">\n  <thead>\n    <tr style=\"text-align: right;\">\n      <th></th>\n      <th>immune</th>\n      <th>epithelial</th>\n    </tr>\n  </thead>\n  <tbody>\n    <tr>\n      <th>BaselTMA_SP41_186_X5Y4_3679</th>\n      <td>0.388475</td>\n      <td>0.318990</td>\n    </tr>\n    <tr>\n      <th>BaselTMA_SP41_153_X7Y5_246</th>\n      <td>0.473283</td>\n      <td>0.315430</td>\n    </tr>\n    <tr>\n      <th>BaselTMA_SP41_20_X12Y5_197</th>\n      <td>0.453717</td>\n      <td>0.300328</td>\n    </tr>\n    <tr>\n      <th>BaselTMA_SP41_14_X1Y8_84</th>\n      <td>0.444866</td>\n      <td>0.291041</td>\n    </tr>\n    <tr>\n      <th>BaselTMA_SP41_166_X15Y4_266</th>\n      <td>0.463366</td>\n      <td>0.283482</td>\n    </tr>\n  </tbody>\n</table>\n</div>"
     },
     "execution_count": 31,
     "metadata": {},
     "output_type": "execute_result"
    }
   ],
   "source": [
    "hierarchy_probs = ast.assign_celltype_hierarchy()\n",
    "hierarchy_probs.head()"
   ]
  },
  {
   "cell_type": "markdown",
   "metadata": {},
   "source": [
    "To make it more clear, here's a heatmap for the cell assignment in a higher hierarchy:"
   ]
  },
  {
   "cell_type": "markdown",
   "metadata": {},
   "source": [
    "<img src=\"img/hierarchical_celltype_cluster.png\" style=\"width:550px;height:400px;\">"
   ]
  },
  {
   "cell_type": "markdown",
   "metadata": {},
   "source": [
    "The way it is calculated is simply summing up the probabilities of the cell type assignments under the same hierarchy."
   ]
  },
  {
   "cell_type": "markdown",
   "metadata": {},
   "source": [
    "## 9. Using astir as command line tool <a class=\"anchor\" id=\"9.-Using-astir-as-command-line-tool\"></a>"
   ]
  },
  {
   "cell_type": "markdown",
   "metadata": {},
   "source": [
    "`astir` could also be used as a command line tool with `csv` input. Here are some example.\n",
    "\n",
    "To fit cell types on the sample `csv` file and marker with a design matrix, setting `n_init` to 3 and `batch_size` to 128:"
   ]
  },
  {
   "cell_type": "code",
   "execution_count": 32,
   "metadata": {},
   "outputs": [
    {
     "name": "stdout",
     "output_type": "stream",
     "text": [
      "training restart 1/3: 100%|██████████| 5/5 [119.20epochs/s, current loss: -25.6]\r\n",
      "training restart 2/3: 100%|██████████| 5/5 [117.25epochs/s, current loss: -33.4]\r\n",
      "training restart 3/3: 100%|██████████| 5/5 [129.55epochs/s, current loss: -12.5]\r\n",
      "training restart (final): 100%|███| 50/50 [155.15epochs/s, current loss: -591.9]\r\n",
      "/Users/sunyunlee/Desktop/astir/astir/astir.py:192: UserWarning: Maximum epochs reached. More iteration may be needed to complete the training.\r\n",
      "  warnings.warn(msg)\r\n"
     ]
    }
   ],
   "source": [
    "!astir type ../../../astir/tests/test-data/test_data.csv ../../../astir/tests/test-data/jackson-2020-markers.yml data/test_data_type_assignments.csv --design ../../../astir/tests/test-data/design.csv --n_init 3 --batch_size 128  "
   ]
  },
  {
   "cell_type": "markdown",
   "metadata": {},
   "source": [
    "To fit cell states on the sample csv file and marker, setting `learning rate` to `5e-4`, `dropout_rate` to `0.2` and `batch_norm` to `True`:"
   ]
  },
  {
   "cell_type": "code",
   "execution_count": 33,
   "metadata": {},
   "outputs": [
    {
     "name": "stdout",
     "output_type": "stream",
     "text": [
      "/Users/sunyunlee/Desktop/astir/astir/models/cellstate.py:257: UserWarning: Delta loss batch size is greater than the number of epochs\r\n",
      "  warnings.warn(\"Delta loss batch size is greater than the number of epochs\")\r\n",
      "training restart 1/3: 100%|████████| 5/5 [102.84epochs/s, current loss: 32237.3]\r\n",
      "training restart 2/3: 100%|██████████| 5/5 [148.58epochs/s, current loss: 963.2]\r\n",
      "training restart 3/3: 100%|███████| 5/5 [185.67epochs/s, current loss: 147046.4]\r\n",
      "training restart (final):   0%|          | 0/50 [?epochs/s, current loss: 883.6]\r\n"
     ]
    }
   ],
   "source": [
    "!astir state ../../../astir/tests/test-data/test_data.csv ../../../astir/tests/test-data/jackson-2020-markers.yml data/test_data_type_assignments.csv --design ../../../astir/tests/test-data/design.csv --learning_rate 5e-4 --dropout_rate 0.2 --batch_norm True"
   ]
  },
  {
   "cell_type": "markdown",
   "metadata": {},
   "source": [
    "Moreover, astir could also be used as a converter which converts `rds` file with `SingleCellExperiment` to `csv` file. [see more details](./data_loading.ipynb#7.-Converting-rds-file-(with-data-as-SingleCellExperiment)-to-csv-file)"
   ]
  },
  {
   "cell_type": "markdown",
   "metadata": {},
   "source": [
    "Run `astir -h`, `astir type -h`, `astir state -h` and `astir convert -h` in the command line for more details."
   ]
  },
  {
   "cell_type": "code",
   "execution_count": 33,
   "metadata": {},
   "outputs": [],
   "source": []
  }
 ],
 "metadata": {
  "kernelspec": {
   "display_name": "Python 3",
   "language": "python",
   "name": "python3"
  },
  "language_info": {
   "codemirror_mode": {
    "name": "ipython",
    "version": 3
   },
   "file_extension": ".py",
   "mimetype": "text/x-python",
   "name": "python",
   "nbconvert_exporter": "python",
   "pygments_lexer": "ipython3",
   "version": "3.7.6"
  }
 },
 "nbformat": 4,
 "nbformat_minor": 4
}
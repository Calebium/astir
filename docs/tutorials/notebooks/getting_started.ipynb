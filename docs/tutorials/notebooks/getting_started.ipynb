{
 "cells": [
  {
   "cell_type": "markdown",
   "metadata": {},
   "source": [
    "# Getting started with astir"
   ]
  },
  {
   "cell_type": "markdown",
   "metadata": {},
   "source": [
    "## 0. Load necessary libraries"
   ]
  },
  {
   "cell_type": "code",
   "execution_count": 29,
   "metadata": {
    "pycharm": {
     "name": "#%%\n"
    }
   },
   "outputs": [],
   "source": [
    "# !pip install -e ../../..\n",
    "import os\n",
    "import sys\n",
    "module_path = os.path.abspath(os.path.join('../../..'))\n",
    "if module_path not in sys.path:\n",
    "    sys.path.append(module_path)"
   ]
  },
  {
   "cell_type": "code",
   "execution_count": 1,
   "metadata": {
    "pycharm": {
     "name": "#%%\n"
    }
   },
   "outputs": [],
   "source": [
    "from astir.data import from_csv_yaml\n",
    "\n",
    "import pandas as pd\n",
    "import numpy as np\n",
    "import matplotlib.pyplot as plt\n",
    "import seaborn as sns\n",
    "\n",
    "%load_ext autoreload\n",
    "%autoreload 2\n",
    "%matplotlib inline"
   ]
  },
  {
   "cell_type": "markdown",
   "metadata": {},
   "source": [
    "## 1. Load data"
   ]
  },
  {
   "cell_type": "markdown",
   "metadata": {},
   "source": [
    "We start by reading expression data in the form of a csv file and marker gene information in the form of a yaml file:"
   ]
  },
  {
   "cell_type": "code",
   "execution_count": 2,
   "metadata": {
    "pycharm": {
     "name": "#%%\n"
    }
   },
   "outputs": [],
   "source": [
    "expression_mat_path = \"../../../astir/tests/test-data/sce.csv\"\n",
    "yaml_marker_path = \"../../../astir/tests/test-data/jackson-2020-markers.yml\""
   ]
  },
  {
   "cell_type": "markdown",
   "metadata": {},
   "source": [
    ".. note:: \n",
    "    Expression data should already be cleaned and normalized. In our workflow, we perform this by a log-transformation of the data with a pseudocount of 1 (i.e. `log(x+1)`), followed by winsorization at the (1%,99%) percentiles."
   ]
  },
  {
   "cell_type": "markdown",
   "metadata": {},
   "source": [
    "We can view both the expression data and marker data:"
   ]
  },
  {
   "cell_type": "code",
   "execution_count": 3,
   "metadata": {
    "pycharm": {
     "name": "#%%\n"
    }
   },
   "outputs": [
    {
     "name": "stdout",
     "output_type": "stream",
     "text": [
      "\r\n",
      "cell_states:\r\n",
      "  RTK_signalling:\r\n",
      "    - Her2\r\n",
      "    - EGFR\r\n",
      "  proliferation:\r\n",
      "    - Ki-67\r\n",
      "    - phospho Histone\r\n",
      "  mTOR_signalling:\r\n",
      "    - phospho mTOR\r\n",
      "    - phospho S6\r\n",
      "  apoptosis:\r\n",
      "    - cleaved PARP\r\n",
      "    - Cleaved Caspase3\r\n",
      "\r\n",
      "cell_types:\r\n",
      "  Stromal:\r\n",
      "    - Vimentin\r\n",
      "    - Fibronectin\r\n",
      "  B cells:\r\n"
     ]
    }
   ],
   "source": [
    "!head -n 20 ../../../astir/tests/test-data/jackson-2020-markers.yml"
   ]
  },
  {
   "cell_type": "code",
   "execution_count": 4,
   "metadata": {
    "pycharm": {
     "name": "#%%\n"
    }
   },
   "outputs": [
    {
     "data": {
      "text/html": [
       "<div>\n",
       "<style scoped>\n",
       "    .dataframe tbody tr th:only-of-type {\n",
       "        vertical-align: middle;\n",
       "    }\n",
       "\n",
       "    .dataframe tbody tr th {\n",
       "        vertical-align: top;\n",
       "    }\n",
       "\n",
       "    .dataframe thead th {\n",
       "        text-align: right;\n",
       "    }\n",
       "</style>\n",
       "<table border=\"1\" class=\"dataframe\">\n",
       "  <thead>\n",
       "    <tr style=\"text-align: right;\">\n",
       "      <th></th>\n",
       "      <th>EGFR</th>\n",
       "      <th>E-Cadherin</th>\n",
       "      <th>CD45</th>\n",
       "      <th>Cytokeratin 5</th>\n",
       "    </tr>\n",
       "  </thead>\n",
       "  <tbody>\n",
       "    <tr>\n",
       "      <th>BaselTMA_SP41_186_X5Y4_3679</th>\n",
       "      <td>0.346787</td>\n",
       "      <td>0.938354</td>\n",
       "      <td>0.227730</td>\n",
       "      <td>0.095283</td>\n",
       "    </tr>\n",
       "    <tr>\n",
       "      <th>BaselTMA_SP41_153_X7Y5_246</th>\n",
       "      <td>0.833752</td>\n",
       "      <td>1.364884</td>\n",
       "      <td>0.068526</td>\n",
       "      <td>0.124031</td>\n",
       "    </tr>\n",
       "    <tr>\n",
       "      <th>BaselTMA_SP41_20_X12Y5_197</th>\n",
       "      <td>0.110006</td>\n",
       "      <td>0.177361</td>\n",
       "      <td>0.301222</td>\n",
       "      <td>0.052750</td>\n",
       "    </tr>\n",
       "    <tr>\n",
       "      <th>BaselTMA_SP41_14_X1Y8_84</th>\n",
       "      <td>0.282666</td>\n",
       "      <td>1.122174</td>\n",
       "      <td>0.606941</td>\n",
       "      <td>0.093352</td>\n",
       "    </tr>\n",
       "    <tr>\n",
       "      <th>BaselTMA_SP41_166_X15Y4_266</th>\n",
       "      <td>0.209066</td>\n",
       "      <td>0.402554</td>\n",
       "      <td>0.588273</td>\n",
       "      <td>0.064545</td>\n",
       "    </tr>\n",
       "  </tbody>\n",
       "</table>\n",
       "</div>"
      ],
      "text/plain": [
       "                                 EGFR  E-Cadherin      CD45  Cytokeratin 5\n",
       "BaselTMA_SP41_186_X5Y4_3679  0.346787    0.938354  0.227730       0.095283\n",
       "BaselTMA_SP41_153_X7Y5_246   0.833752    1.364884  0.068526       0.124031\n",
       "BaselTMA_SP41_20_X12Y5_197   0.110006    0.177361  0.301222       0.052750\n",
       "BaselTMA_SP41_14_X1Y8_84     0.282666    1.122174  0.606941       0.093352\n",
       "BaselTMA_SP41_166_X15Y4_266  0.209066    0.402554  0.588273       0.064545"
      ]
     },
     "execution_count": 4,
     "metadata": {},
     "output_type": "execute_result"
    }
   ],
   "source": [
    "pd.read_csv(expression_mat_path, index_col=0)[['EGFR','E-Cadherin', 'CD45', 'Cytokeratin 5']].head()"
   ]
  },
  {
   "cell_type": "markdown",
   "metadata": {},
   "source": [
    "Then we can create an astir object using the `from_csv_yaml` function. For more data loading options, see the data loading tutorial."
   ]
  },
  {
   "cell_type": "code",
   "execution_count": 34,
   "metadata": {
    "pycharm": {
     "name": "#%%\n"
    }
   },
   "outputs": [
    {
     "name": "stdout",
     "output_type": "stream",
     "text": [
      "Astir object with 6 cell types, 4 cell states, and 100 cells.\n"
     ]
    }
   ],
   "source": [
    "ast = from_csv_yaml(expression_mat_path, marker_yaml=yaml_marker_path)\n",
    "print(ast)"
   ]
  },
  {
   "cell_type": "markdown",
   "metadata": {},
   "source": [
    "## 2. Fitting cell types"
   ]
  },
  {
   "cell_type": "markdown",
   "metadata": {},
   "source": [
    "To fit cell types, simply call"
   ]
  },
  {
   "cell_type": "code",
   "execution_count": 35,
   "metadata": {
    "pycharm": {
     "name": "#%%\n"
    }
   },
   "outputs": [
    {
     "name": "stderr",
     "output_type": "stream",
     "text": [
      "training restart 1/5: 100%|██████████| 5/5 [48.23epochs/s, current loss: 686.5]\n",
      "training restart 2/5: 100%|██████████| 5/5 [53.60epochs/s, current loss: 720.2]\n",
      "training restart 3/5: 100%|██████████| 5/5 [50.28epochs/s, current loss: 710.8]\n",
      "training restart 4/5: 100%|██████████| 5/5 [49.59epochs/s, current loss: 700.6]\n",
      "training restart 5/5: 100%|██████████| 5/5 [46.08epochs/s, current loss: 679.9]\n",
      "training restart (final): 100%|██████████| 50/50 [44.67epochs/s, current loss: 403.9]\n",
      "/Users/sunyunlee/Desktop/astir/astir/astir.py:168: UserWarning: Maximum epochs reached. More iteration may be needed to complete the training.\n",
      "  warnings.warn(msg)\n"
     ]
    }
   ],
   "source": [
    "ast.fit_type()"
   ]
  },
  {
   "cell_type": "markdown",
   "metadata": {},
   "source": [
    ".. note:: \n",
    "    **Controlling inference**\n",
    "    There are many different options for controlling inference in the `fit_type` function, including\n",
    "    `max_epochs` (maximum number of epochs to train),\n",
    "    `learning_rate` (ADAM optimizer learning rate),\n",
    "    `batch_size` (minibatch size),\n",
    "    `delta_loss` (stops iteration once the change in loss falls below this value),\n",
    "    `n_inits` (number of restarts using random initializations).\n",
    "    For full details, see the function documentation."
   ]
  },
  {
   "cell_type": "markdown",
   "metadata": {},
   "source": [
    "We should always plot the losses to assess convergence:"
   ]
  },
  {
   "cell_type": "code",
   "execution_count": 36,
   "metadata": {
    "pycharm": {
     "name": "#%%\n"
    }
   },
   "outputs": [
    {
     "data": {
      "text/plain": [
       "Text(0.5, 0, 'Epoch')"
      ]
     },
     "execution_count": 36,
     "metadata": {},
     "output_type": "execute_result"
    },
    {
     "data": {
      "image/png": "[encoded data removed]",
      "text/plain": [
       "<Figure size 360x288 with 1 Axes>"
      ]
     },
     "metadata": {
      "needs_background": "light"
     },
     "output_type": "display_data"
    }
   ],
   "source": [
    "plt.figure(figsize=(5,4))\n",
    "plt.plot(np.arange(len(ast.get_type_losses())), ast.get_type_losses())\n",
    "plt.ylabel(\"Loss\")\n",
    "plt.xlabel(\"Epoch\")"
   ]
  },
  {
   "cell_type": "markdown",
   "metadata": {},
   "source": [
    "We can then get cell type assignment probabilities by calling"
   ]
  },
  {
   "cell_type": "code",
   "execution_count": 37,
   "metadata": {
    "pycharm": {
     "name": "#%%\n"
    }
   },
   "outputs": [
    {
     "data": {
      "text/html": [
       "<div>\n",
       "<style scoped>\n",
       "    .dataframe tbody tr th:only-of-type {\n",
       "        vertical-align: middle;\n",
       "    }\n",
       "\n",
       "    .dataframe tbody tr th {\n",
       "        vertical-align: top;\n",
       "    }\n",
       "\n",
       "    .dataframe thead th {\n",
       "        text-align: right;\n",
       "    }\n",
       "</style>\n",
       "<table border=\"1\" class=\"dataframe\">\n",
       "  <thead>\n",
       "    <tr style=\"text-align: right;\">\n",
       "      <th></th>\n",
       "      <th>Stromal</th>\n",
       "      <th>B cells</th>\n",
       "      <th>T cells</th>\n",
       "      <th>Macrophage</th>\n",
       "      <th>Epithelial (basal)</th>\n",
       "      <th>Epithelial (luminal)</th>\n",
       "      <th>Other</th>\n",
       "    </tr>\n",
       "  </thead>\n",
       "  <tbody>\n",
       "    <tr>\n",
       "      <th>BaselTMA_SP41_186_X5Y4_3679</th>\n",
       "      <td>0.181205</td>\n",
       "      <td>0.144835</td>\n",
       "      <td>0.219265</td>\n",
       "      <td>0.313026</td>\n",
       "      <td>0.012777</td>\n",
       "      <td>0.029226</td>\n",
       "      <td>0.099666</td>\n",
       "    </tr>\n",
       "    <tr>\n",
       "      <th>BaselTMA_SP41_153_X7Y5_246</th>\n",
       "      <td>0.007342</td>\n",
       "      <td>0.026273</td>\n",
       "      <td>0.014866</td>\n",
       "      <td>0.011549</td>\n",
       "      <td>0.083773</td>\n",
       "      <td>0.842077</td>\n",
       "      <td>0.014120</td>\n",
       "    </tr>\n",
       "    <tr>\n",
       "      <th>BaselTMA_SP41_20_X12Y5_197</th>\n",
       "      <td>0.173507</td>\n",
       "      <td>0.140773</td>\n",
       "      <td>0.213457</td>\n",
       "      <td>0.344018</td>\n",
       "      <td>0.012249</td>\n",
       "      <td>0.014559</td>\n",
       "      <td>0.101437</td>\n",
       "    </tr>\n",
       "    <tr>\n",
       "      <th>BaselTMA_SP41_14_X1Y8_84</th>\n",
       "      <td>0.138707</td>\n",
       "      <td>0.130170</td>\n",
       "      <td>0.143440</td>\n",
       "      <td>0.129034</td>\n",
       "      <td>0.118075</td>\n",
       "      <td>0.240197</td>\n",
       "      <td>0.100376</td>\n",
       "    </tr>\n",
       "    <tr>\n",
       "      <th>BaselTMA_SP41_166_X15Y4_266</th>\n",
       "      <td>0.190571</td>\n",
       "      <td>0.168887</td>\n",
       "      <td>0.200507</td>\n",
       "      <td>0.332891</td>\n",
       "      <td>0.010737</td>\n",
       "      <td>0.017547</td>\n",
       "      <td>0.078860</td>\n",
       "    </tr>\n",
       "    <tr>\n",
       "      <th>...</th>\n",
       "      <td>...</td>\n",
       "      <td>...</td>\n",
       "      <td>...</td>\n",
       "      <td>...</td>\n",
       "      <td>...</td>\n",
       "      <td>...</td>\n",
       "      <td>...</td>\n",
       "    </tr>\n",
       "    <tr>\n",
       "      <th>BaselTMA_SP41_114_X13Y4_1057</th>\n",
       "      <td>0.042229</td>\n",
       "      <td>0.089575</td>\n",
       "      <td>0.118022</td>\n",
       "      <td>0.058389</td>\n",
       "      <td>0.294294</td>\n",
       "      <td>0.337233</td>\n",
       "      <td>0.060258</td>\n",
       "    </tr>\n",
       "    <tr>\n",
       "      <th>BaselTMA_SP41_141_X11Y2_2596</th>\n",
       "      <td>0.025714</td>\n",
       "      <td>0.073001</td>\n",
       "      <td>0.096960</td>\n",
       "      <td>0.067621</td>\n",
       "      <td>0.258707</td>\n",
       "      <td>0.425582</td>\n",
       "      <td>0.052415</td>\n",
       "    </tr>\n",
       "    <tr>\n",
       "      <th>BaselTMA_SP41_100_X15Y5_170</th>\n",
       "      <td>0.173256</td>\n",
       "      <td>0.161135</td>\n",
       "      <td>0.177873</td>\n",
       "      <td>0.247180</td>\n",
       "      <td>0.068577</td>\n",
       "      <td>0.075553</td>\n",
       "      <td>0.096427</td>\n",
       "    </tr>\n",
       "    <tr>\n",
       "      <th>BaselTMA_SP41_14_X1Y8_2604</th>\n",
       "      <td>0.164895</td>\n",
       "      <td>0.131902</td>\n",
       "      <td>0.229073</td>\n",
       "      <td>0.351366</td>\n",
       "      <td>0.007140</td>\n",
       "      <td>0.015819</td>\n",
       "      <td>0.099806</td>\n",
       "    </tr>\n",
       "    <tr>\n",
       "      <th>BaselTMA_SP41_186_X5Y4_81</th>\n",
       "      <td>0.168954</td>\n",
       "      <td>0.171223</td>\n",
       "      <td>0.340280</td>\n",
       "      <td>0.164722</td>\n",
       "      <td>0.023305</td>\n",
       "      <td>0.022167</td>\n",
       "      <td>0.109349</td>\n",
       "    </tr>\n",
       "  </tbody>\n",
       "</table>\n",
       "<p>100 rows × 7 columns</p>\n",
       "</div>"
      ],
      "text/plain": [
       "                               Stromal   B cells   T cells  Macrophage  \\\n",
       "BaselTMA_SP41_186_X5Y4_3679   0.181205  0.144835  0.219265    0.313026   \n",
       "BaselTMA_SP41_153_X7Y5_246    0.007342  0.026273  0.014866    0.011549   \n",
       "BaselTMA_SP41_20_X12Y5_197    0.173507  0.140773  0.213457    0.344018   \n",
       "BaselTMA_SP41_14_X1Y8_84      0.138707  0.130170  0.143440    0.129034   \n",
       "BaselTMA_SP41_166_X15Y4_266   0.190571  0.168887  0.200507    0.332891   \n",
       "...                                ...       ...       ...         ...   \n",
       "BaselTMA_SP41_114_X13Y4_1057  0.042229  0.089575  0.118022    0.058389   \n",
       "BaselTMA_SP41_141_X11Y2_2596  0.025714  0.073001  0.096960    0.067621   \n",
       "BaselTMA_SP41_100_X15Y5_170   0.173256  0.161135  0.177873    0.247180   \n",
       "BaselTMA_SP41_14_X1Y8_2604    0.164895  0.131902  0.229073    0.351366   \n",
       "BaselTMA_SP41_186_X5Y4_81     0.168954  0.171223  0.340280    0.164722   \n",
       "\n",
       "                              Epithelial (basal)  Epithelial (luminal)  \\\n",
       "BaselTMA_SP41_186_X5Y4_3679             0.012777              0.029226   \n",
       "BaselTMA_SP41_153_X7Y5_246              0.083773              0.842077   \n",
       "BaselTMA_SP41_20_X12Y5_197              0.012249              0.014559   \n",
       "BaselTMA_SP41_14_X1Y8_84                0.118075              0.240197   \n",
       "BaselTMA_SP41_166_X15Y4_266             0.010737              0.017547   \n",
       "...                                          ...                   ...   \n",
       "BaselTMA_SP41_114_X13Y4_1057            0.294294              0.337233   \n",
       "BaselTMA_SP41_141_X11Y2_2596            0.258707              0.425582   \n",
       "BaselTMA_SP41_100_X15Y5_170             0.068577              0.075553   \n",
       "BaselTMA_SP41_14_X1Y8_2604              0.007140              0.015819   \n",
       "BaselTMA_SP41_186_X5Y4_81               0.023305              0.022167   \n",
       "\n",
       "                                 Other  \n",
       "BaselTMA_SP41_186_X5Y4_3679   0.099666  \n",
       "BaselTMA_SP41_153_X7Y5_246    0.014120  \n",
       "BaselTMA_SP41_20_X12Y5_197    0.101437  \n",
       "BaselTMA_SP41_14_X1Y8_84      0.100376  \n",
       "BaselTMA_SP41_166_X15Y4_266   0.078860  \n",
       "...                                ...  \n",
       "BaselTMA_SP41_114_X13Y4_1057  0.060258  \n",
       "BaselTMA_SP41_141_X11Y2_2596  0.052415  \n",
       "BaselTMA_SP41_100_X15Y5_170   0.096427  \n",
       "BaselTMA_SP41_14_X1Y8_2604    0.099806  \n",
       "BaselTMA_SP41_186_X5Y4_81     0.109349  \n",
       "\n",
       "[100 rows x 7 columns]"
      ]
     },
     "execution_count": 37,
     "metadata": {},
     "output_type": "execute_result"
    }
   ],
   "source": [
    "assignments = ast.get_celltype_probabilities()\n",
    "assignments"
   ]
  },
  {
   "cell_type": "markdown",
   "metadata": {},
   "source": [
    "We can also visualize the assignment probabilities using a heatmap:"
   ]
  },
  {
   "cell_type": "code",
   "execution_count": 38,
   "metadata": {
    "pycharm": {
     "name": "#%%\n"
    }
   },
   "outputs": [
    {
     "data": {
      "text/plain": [
       "<matplotlib.axes._subplots.AxesSubplot at 0x129dcef40>"
      ]
     },
     "execution_count": 38,
     "metadata": {},
     "output_type": "execute_result"
    },
    {
     "data": {
      "image/png": "[encoded data removed]",
      "text/plain": [
       "<Figure size 432x288 with 2 Axes>"
      ]
     },
     "metadata": {
      "needs_background": "light"
     },
     "output_type": "display_data"
    }
   ],
   "source": [
    "sns.heatmap(assignments)"
   ]
  },
  {
   "cell_type": "markdown",
   "metadata": {},
   "source": [
    "where each row corresponds to a cell, and each column to a cell type, with the entry being the probability of that cell belonging to a particular cell type.\n",
    "\n",
    "To fetch an array corresponding to the most likely cell type assignments, call"
   ]
  },
  {
   "cell_type": "code",
   "execution_count": 39,
   "metadata": {
    "pycharm": {
     "name": "#%%\n"
    }
   },
   "outputs": [
    {
     "data": {
      "text/html": [
       "<div>\n",
       "<style scoped>\n",
       "    .dataframe tbody tr th:only-of-type {\n",
       "        vertical-align: middle;\n",
       "    }\n",
       "\n",
       "    .dataframe tbody tr th {\n",
       "        vertical-align: top;\n",
       "    }\n",
       "\n",
       "    .dataframe thead th {\n",
       "        text-align: right;\n",
       "    }\n",
       "</style>\n",
       "<table border=\"1\" class=\"dataframe\">\n",
       "  <thead>\n",
       "    <tr style=\"text-align: right;\">\n",
       "      <th></th>\n",
       "      <th>cell_type</th>\n",
       "    </tr>\n",
       "  </thead>\n",
       "  <tbody>\n",
       "    <tr>\n",
       "      <th>BaselTMA_SP41_186_X5Y4_3679</th>\n",
       "      <td>Unknown</td>\n",
       "    </tr>\n",
       "    <tr>\n",
       "      <th>BaselTMA_SP41_153_X7Y5_246</th>\n",
       "      <td>Epithelial (luminal)</td>\n",
       "    </tr>\n",
       "    <tr>\n",
       "      <th>BaselTMA_SP41_20_X12Y5_197</th>\n",
       "      <td>Unknown</td>\n",
       "    </tr>\n",
       "    <tr>\n",
       "      <th>BaselTMA_SP41_14_X1Y8_84</th>\n",
       "      <td>Unknown</td>\n",
       "    </tr>\n",
       "    <tr>\n",
       "      <th>BaselTMA_SP41_166_X15Y4_266</th>\n",
       "      <td>Unknown</td>\n",
       "    </tr>\n",
       "    <tr>\n",
       "      <th>...</th>\n",
       "      <td>...</td>\n",
       "    </tr>\n",
       "    <tr>\n",
       "      <th>BaselTMA_SP41_114_X13Y4_1057</th>\n",
       "      <td>Unknown</td>\n",
       "    </tr>\n",
       "    <tr>\n",
       "      <th>BaselTMA_SP41_141_X11Y2_2596</th>\n",
       "      <td>Unknown</td>\n",
       "    </tr>\n",
       "    <tr>\n",
       "      <th>BaselTMA_SP41_100_X15Y5_170</th>\n",
       "      <td>Unknown</td>\n",
       "    </tr>\n",
       "    <tr>\n",
       "      <th>BaselTMA_SP41_14_X1Y8_2604</th>\n",
       "      <td>Unknown</td>\n",
       "    </tr>\n",
       "    <tr>\n",
       "      <th>BaselTMA_SP41_186_X5Y4_81</th>\n",
       "      <td>Unknown</td>\n",
       "    </tr>\n",
       "  </tbody>\n",
       "</table>\n",
       "<p>100 rows × 1 columns</p>\n",
       "</div>"
      ],
      "text/plain": [
       "                                         cell_type\n",
       "BaselTMA_SP41_186_X5Y4_3679                Unknown\n",
       "BaselTMA_SP41_153_X7Y5_246    Epithelial (luminal)\n",
       "BaselTMA_SP41_20_X12Y5_197                 Unknown\n",
       "BaselTMA_SP41_14_X1Y8_84                   Unknown\n",
       "BaselTMA_SP41_166_X15Y4_266                Unknown\n",
       "...                                            ...\n",
       "BaselTMA_SP41_114_X13Y4_1057               Unknown\n",
       "BaselTMA_SP41_141_X11Y2_2596               Unknown\n",
       "BaselTMA_SP41_100_X15Y5_170                Unknown\n",
       "BaselTMA_SP41_14_X1Y8_2604                 Unknown\n",
       "BaselTMA_SP41_186_X5Y4_81                  Unknown\n",
       "\n",
       "[100 rows x 1 columns]"
      ]
     },
     "execution_count": 39,
     "metadata": {},
     "output_type": "execute_result"
    }
   ],
   "source": [
    "ast.get_celltypes()"
   ]
  },
  {
   "cell_type": "markdown",
   "metadata": {},
   "source": [
    "### Cell type diagnostics"
   ]
  },
  {
   "cell_type": "markdown",
   "metadata": {},
   "source": [
    "It is important to run diagnostics to ensure that cell types express their markers at higher levels than other cell types. To do this, run the `diagnostics_celltype()` function, which will alert to any issues if a cell type doesn't express its marker signficantly higher than an alternative cell type (for which that protein isn't a marker):"
   ]
  },
  {
   "cell_type": "code",
   "execution_count": 40,
   "metadata": {
    "pycharm": {
     "name": "#%%\n"
    }
   },
   "outputs": [
    {
     "data": {
      "text/html": [
       "<div>\n",
       "<style scoped>\n",
       "    .dataframe tbody tr th:only-of-type {\n",
       "        vertical-align: middle;\n",
       "    }\n",
       "\n",
       "    .dataframe tbody tr th {\n",
       "        vertical-align: top;\n",
       "    }\n",
       "\n",
       "    .dataframe thead th {\n",
       "        text-align: right;\n",
       "    }\n",
       "</style>\n",
       "<table border=\"1\" class=\"dataframe\">\n",
       "  <thead>\n",
       "    <tr style=\"text-align: right;\">\n",
       "      <th></th>\n",
       "      <th>feature</th>\n",
       "      <th>should be expressed higher in</th>\n",
       "      <th>than</th>\n",
       "      <th>mean cell type 1</th>\n",
       "      <th>mean cell type 2</th>\n",
       "      <th>p-value</th>\n",
       "      <th>note</th>\n",
       "    </tr>\n",
       "  </thead>\n",
       "  <tbody>\n",
       "    <tr>\n",
       "      <th>0</th>\n",
       "      <td>CD3</td>\n",
       "      <td>T cells</td>\n",
       "      <td>Epithelial (basal)</td>\n",
       "      <td>0.503084</td>\n",
       "      <td>0.036015</td>\n",
       "      <td>inf</td>\n",
       "      <td>Only 1 cell in a type: comparison not possible</td>\n",
       "    </tr>\n",
       "    <tr>\n",
       "      <th>1</th>\n",
       "      <td>CD3</td>\n",
       "      <td>T cells</td>\n",
       "      <td>Epithelial (luminal)</td>\n",
       "      <td>0.503084</td>\n",
       "      <td>0.043545</td>\n",
       "      <td>inf</td>\n",
       "      <td>Only 1 cell in a type: comparison not possible</td>\n",
       "    </tr>\n",
       "    <tr>\n",
       "      <th>2</th>\n",
       "      <td>CD45</td>\n",
       "      <td>T cells</td>\n",
       "      <td>Epithelial (basal)</td>\n",
       "      <td>1.149263</td>\n",
       "      <td>0.060033</td>\n",
       "      <td>inf</td>\n",
       "      <td>Only 1 cell in a type: comparison not possible</td>\n",
       "    </tr>\n",
       "    <tr>\n",
       "      <th>3</th>\n",
       "      <td>CD45</td>\n",
       "      <td>T cells</td>\n",
       "      <td>Epithelial (luminal)</td>\n",
       "      <td>1.149263</td>\n",
       "      <td>0.053647</td>\n",
       "      <td>inf</td>\n",
       "      <td>Only 1 cell in a type: comparison not possible</td>\n",
       "    </tr>\n",
       "    <tr>\n",
       "      <th>4</th>\n",
       "      <td>Cytokeratin 14</td>\n",
       "      <td>Epithelial (basal)</td>\n",
       "      <td>T cells</td>\n",
       "      <td>1.379118</td>\n",
       "      <td>0.191823</td>\n",
       "      <td>inf</td>\n",
       "      <td>Only 1 cell in a type: comparison not possible</td>\n",
       "    </tr>\n",
       "    <tr>\n",
       "      <th>5</th>\n",
       "      <td>Cytokeratin 5</td>\n",
       "      <td>Epithelial (basal)</td>\n",
       "      <td>T cells</td>\n",
       "      <td>1.217177</td>\n",
       "      <td>0.043490</td>\n",
       "      <td>inf</td>\n",
       "      <td>Only 1 cell in a type: comparison not possible</td>\n",
       "    </tr>\n",
       "    <tr>\n",
       "      <th>6</th>\n",
       "      <td>E-Cadherin</td>\n",
       "      <td>Epithelial (basal)</td>\n",
       "      <td>T cells</td>\n",
       "      <td>1.367456</td>\n",
       "      <td>0.553804</td>\n",
       "      <td>inf</td>\n",
       "      <td>Only 1 cell in a type: comparison not possible</td>\n",
       "    </tr>\n",
       "    <tr>\n",
       "      <th>7</th>\n",
       "      <td>Her2</td>\n",
       "      <td>Epithelial (basal)</td>\n",
       "      <td>T cells</td>\n",
       "      <td>0.896201</td>\n",
       "      <td>0.522054</td>\n",
       "      <td>inf</td>\n",
       "      <td>Only 1 cell in a type: comparison not possible</td>\n",
       "    </tr>\n",
       "    <tr>\n",
       "      <th>8</th>\n",
       "      <td>pan Cytokeratin</td>\n",
       "      <td>Epithelial (basal)</td>\n",
       "      <td>T cells</td>\n",
       "      <td>1.983426</td>\n",
       "      <td>0.061811</td>\n",
       "      <td>inf</td>\n",
       "      <td>Only 1 cell in a type: comparison not possible</td>\n",
       "    </tr>\n",
       "    <tr>\n",
       "      <th>9</th>\n",
       "      <td>Cytokeratin 19</td>\n",
       "      <td>Epithelial (luminal)</td>\n",
       "      <td>T cells</td>\n",
       "      <td>1.007910</td>\n",
       "      <td>0.194989</td>\n",
       "      <td>inf</td>\n",
       "      <td>Only 1 cell in a type: comparison not possible</td>\n",
       "    </tr>\n",
       "  </tbody>\n",
       "</table>\n",
       "</div>"
      ],
      "text/plain": [
       "           feature should be expressed higher in                  than  \\\n",
       "0              CD3                       T cells    Epithelial (basal)   \n",
       "1              CD3                       T cells  Epithelial (luminal)   \n",
       "2             CD45                       T cells    Epithelial (basal)   \n",
       "3             CD45                       T cells  Epithelial (luminal)   \n",
       "4   Cytokeratin 14            Epithelial (basal)               T cells   \n",
       "5    Cytokeratin 5            Epithelial (basal)               T cells   \n",
       "6       E-Cadherin            Epithelial (basal)               T cells   \n",
       "7             Her2            Epithelial (basal)               T cells   \n",
       "8  pan Cytokeratin            Epithelial (basal)               T cells   \n",
       "9   Cytokeratin 19          Epithelial (luminal)               T cells   \n",
       "\n",
       "   mean cell type 1  mean cell type 2  p-value  \\\n",
       "0          0.503084          0.036015      inf   \n",
       "1          0.503084          0.043545      inf   \n",
       "2          1.149263          0.060033      inf   \n",
       "3          1.149263          0.053647      inf   \n",
       "4          1.379118          0.191823      inf   \n",
       "5          1.217177          0.043490      inf   \n",
       "6          1.367456          0.553804      inf   \n",
       "7          0.896201          0.522054      inf   \n",
       "8          1.983426          0.061811      inf   \n",
       "9          1.007910          0.194989      inf   \n",
       "\n",
       "                                             note  \n",
       "0  Only 1 cell in a type: comparison not possible  \n",
       "1  Only 1 cell in a type: comparison not possible  \n",
       "2  Only 1 cell in a type: comparison not possible  \n",
       "3  Only 1 cell in a type: comparison not possible  \n",
       "4  Only 1 cell in a type: comparison not possible  \n",
       "5  Only 1 cell in a type: comparison not possible  \n",
       "6  Only 1 cell in a type: comparison not possible  \n",
       "7  Only 1 cell in a type: comparison not possible  \n",
       "8  Only 1 cell in a type: comparison not possible  \n",
       "9  Only 1 cell in a type: comparison not possible  "
      ]
     },
     "execution_count": 40,
     "metadata": {},
     "output_type": "execute_result"
    }
   ],
   "source": [
    "ast.diagnostics_celltype().head(n=10)"
   ]
  },
  {
   "cell_type": "markdown",
   "metadata": {},
   "source": [
    ".. note:: \n",
    "    In this tutorial, we end up with many \"Only 1 cell in a type: comparison not possible\" notes - this is simply because the small dataset size results in only a single cell assigned to many types, making statistical testing infeasible."
   ]
  },
  {
   "cell_type": "markdown",
   "metadata": {},
   "source": [
    "Calling `ast.diagnostics_celltype()` returns a `pd.DataFrame`, where each column corresponds to a particular protein and two cell types, with a warning if the protein is not expressed at higher levels in the cell type for which it is a marker than the cell type for which it is not."
   ]
  },
  {
   "cell_type": "markdown",
   "metadata": {},
   "source": [
    "The diagnostics:\n",
    "\n",
    "1. Iterates through every cell type and every marker for that cell type\n",
    "\n",
    "2. Given a cell type *c* and marker *g*, find the set of cell types *D* that don't have *g* as a marker\n",
    "\n",
    "3. For each cell type *d* in *D*, perform a t-test between the expression of marker *g* in *c* vs *d*\n",
    "\n",
    "4. If *g* is not expressed significantly higher (at significance *alpha*), output a diagnostic explaining this for further investigation."
   ]
  },
  {
   "cell_type": "markdown",
   "metadata": {},
   "source": [
    "If multiple issues are found, the markers and cell types may need refined."
   ]
  },
  {
   "cell_type": "markdown",
   "metadata": {},
   "source": [
    "## 3. Fitting cell state"
   ]
  },
  {
   "cell_type": "markdown",
   "metadata": {},
   "source": [
    "Similarly as before, to fit cell state, call"
   ]
  },
  {
   "cell_type": "code",
   "execution_count": 41,
   "metadata": {
    "pycharm": {
     "name": "#%%\n"
    }
   },
   "outputs": [
    {
     "name": "stderr",
     "output_type": "stream",
     "text": [
      "/Users/sunyunlee/Desktop/astir/astir/models/cellstate.py:179: UserWarning: Delta loss batch size is greater than the number of epochs\n",
      "  warnings.warn(\"Delta loss batch size is greater than the number of epochs\")\n",
      "training restart 1/5: 100%|██████████| 5/5 [147.50epochs/s, current loss: 87.6]\n",
      "training restart 2/5: 100%|██████████| 5/5 [118.54epochs/s, current loss: 104.1]\n",
      "training restart 3/5: 100%|██████████| 5/5 [179.58epochs/s, current loss: 91.5]\n",
      "training restart 4/5: 100%|██████████| 5/5 [61.66epochs/s, current loss: 135.4]\n",
      "training restart 5/5: 100%|██████████| 5/5 [110.48epochs/s, current loss: 99.6]\n",
      "training restart (final):  32%|███▏      | 16/50 [79.81epochs/s, current loss: 86.7] \n"
     ]
    }
   ],
   "source": [
    "ast.fit_state(batch_size = 1024, learning_rate=1e-3, max_epochs=50)"
   ]
  },
  {
   "cell_type": "markdown",
   "metadata": {},
   "source": [
    "and similary plot the losses via"
   ]
  },
  {
   "cell_type": "code",
   "execution_count": 42,
   "metadata": {
    "pycharm": {
     "name": "#%%\n"
    }
   },
   "outputs": [
    {
     "data": {
      "text/plain": [
       "Text(0.5, 0, 'Epoch')"
      ]
     },
     "execution_count": 42,
     "metadata": {},
     "output_type": "execute_result"
    },
    {
     "data": {
      "image/png": "[encoded data removed]",
      "text/plain": [
       "<Figure size 360x288 with 1 Axes>"
      ]
     },
     "metadata": {
      "needs_background": "light"
     },
     "output_type": "display_data"
    }
   ],
   "source": [
    "plt.figure(figsize=(5,4))\n",
    "plt.plot(np.arange(len(ast.get_state_losses())), ast.get_state_losses())\n",
    "plt.ylabel(\"Loss\")\n",
    "plt.xlabel(\"Epoch\")"
   ]
  },
  {
   "cell_type": "markdown",
   "metadata": {},
   "source": [
    "and cell state assignments can be inferred via"
   ]
  },
  {
   "cell_type": "code",
   "execution_count": 43,
   "metadata": {
    "pycharm": {
     "name": "#%%\n"
    }
   },
   "outputs": [
    {
     "data": {
      "text/html": [
       "<div>\n",
       "<style scoped>\n",
       "    .dataframe tbody tr th:only-of-type {\n",
       "        vertical-align: middle;\n",
       "    }\n",
       "\n",
       "    .dataframe tbody tr th {\n",
       "        vertical-align: top;\n",
       "    }\n",
       "\n",
       "    .dataframe thead th {\n",
       "        text-align: right;\n",
       "    }\n",
       "</style>\n",
       "<table border=\"1\" class=\"dataframe\">\n",
       "  <thead>\n",
       "    <tr style=\"text-align: right;\">\n",
       "      <th></th>\n",
       "      <th>RTK_signalling</th>\n",
       "      <th>proliferation</th>\n",
       "      <th>mTOR_signalling</th>\n",
       "      <th>apoptosis</th>\n",
       "    </tr>\n",
       "  </thead>\n",
       "  <tbody>\n",
       "    <tr>\n",
       "      <th>BaselTMA_SP41_186_X5Y4_3679</th>\n",
       "      <td>-0.368113</td>\n",
       "      <td>0.514141</td>\n",
       "      <td>0.098024</td>\n",
       "      <td>-0.103672</td>\n",
       "    </tr>\n",
       "    <tr>\n",
       "      <th>BaselTMA_SP41_153_X7Y5_246</th>\n",
       "      <td>-0.351472</td>\n",
       "      <td>0.073310</td>\n",
       "      <td>0.059058</td>\n",
       "      <td>0.242761</td>\n",
       "    </tr>\n",
       "    <tr>\n",
       "      <th>BaselTMA_SP41_20_X12Y5_197</th>\n",
       "      <td>-0.182627</td>\n",
       "      <td>0.339505</td>\n",
       "      <td>0.282707</td>\n",
       "      <td>-0.003016</td>\n",
       "    </tr>\n",
       "    <tr>\n",
       "      <th>BaselTMA_SP41_14_X1Y8_84</th>\n",
       "      <td>-0.235495</td>\n",
       "      <td>0.409069</td>\n",
       "      <td>0.258528</td>\n",
       "      <td>-0.043412</td>\n",
       "    </tr>\n",
       "    <tr>\n",
       "      <th>BaselTMA_SP41_166_X15Y4_266</th>\n",
       "      <td>-0.188587</td>\n",
       "      <td>0.343978</td>\n",
       "      <td>0.281649</td>\n",
       "      <td>-0.011169</td>\n",
       "    </tr>\n",
       "    <tr>\n",
       "      <th>...</th>\n",
       "      <td>...</td>\n",
       "      <td>...</td>\n",
       "      <td>...</td>\n",
       "      <td>...</td>\n",
       "    </tr>\n",
       "    <tr>\n",
       "      <th>BaselTMA_SP41_114_X13Y4_1057</th>\n",
       "      <td>-0.171371</td>\n",
       "      <td>0.286135</td>\n",
       "      <td>0.256788</td>\n",
       "      <td>0.200971</td>\n",
       "    </tr>\n",
       "    <tr>\n",
       "      <th>BaselTMA_SP41_141_X11Y2_2596</th>\n",
       "      <td>-0.265984</td>\n",
       "      <td>0.379806</td>\n",
       "      <td>0.205499</td>\n",
       "      <td>-0.006201</td>\n",
       "    </tr>\n",
       "    <tr>\n",
       "      <th>BaselTMA_SP41_100_X15Y5_170</th>\n",
       "      <td>-0.183103</td>\n",
       "      <td>0.339862</td>\n",
       "      <td>0.282623</td>\n",
       "      <td>-0.003668</td>\n",
       "    </tr>\n",
       "    <tr>\n",
       "      <th>BaselTMA_SP41_14_X1Y8_2604</th>\n",
       "      <td>-0.235202</td>\n",
       "      <td>0.383918</td>\n",
       "      <td>0.236332</td>\n",
       "      <td>-0.029804</td>\n",
       "    </tr>\n",
       "    <tr>\n",
       "      <th>BaselTMA_SP41_186_X5Y4_81</th>\n",
       "      <td>-0.286155</td>\n",
       "      <td>0.436008</td>\n",
       "      <td>0.136548</td>\n",
       "      <td>-0.014966</td>\n",
       "    </tr>\n",
       "  </tbody>\n",
       "</table>\n",
       "<p>100 rows × 4 columns</p>\n",
       "</div>"
      ],
      "text/plain": [
       "                              RTK_signalling  proliferation  mTOR_signalling  \\\n",
       "BaselTMA_SP41_186_X5Y4_3679        -0.368113       0.514141         0.098024   \n",
       "BaselTMA_SP41_153_X7Y5_246         -0.351472       0.073310         0.059058   \n",
       "BaselTMA_SP41_20_X12Y5_197         -0.182627       0.339505         0.282707   \n",
       "BaselTMA_SP41_14_X1Y8_84           -0.235495       0.409069         0.258528   \n",
       "BaselTMA_SP41_166_X15Y4_266        -0.188587       0.343978         0.281649   \n",
       "...                                      ...            ...              ...   \n",
       "BaselTMA_SP41_114_X13Y4_1057       -0.171371       0.286135         0.256788   \n",
       "BaselTMA_SP41_141_X11Y2_2596       -0.265984       0.379806         0.205499   \n",
       "BaselTMA_SP41_100_X15Y5_170        -0.183103       0.339862         0.282623   \n",
       "BaselTMA_SP41_14_X1Y8_2604         -0.235202       0.383918         0.236332   \n",
       "BaselTMA_SP41_186_X5Y4_81          -0.286155       0.436008         0.136548   \n",
       "\n",
       "                              apoptosis  \n",
       "BaselTMA_SP41_186_X5Y4_3679   -0.103672  \n",
       "BaselTMA_SP41_153_X7Y5_246     0.242761  \n",
       "BaselTMA_SP41_20_X12Y5_197    -0.003016  \n",
       "BaselTMA_SP41_14_X1Y8_84      -0.043412  \n",
       "BaselTMA_SP41_166_X15Y4_266   -0.011169  \n",
       "...                                 ...  \n",
       "BaselTMA_SP41_114_X13Y4_1057   0.200971  \n",
       "BaselTMA_SP41_141_X11Y2_2596  -0.006201  \n",
       "BaselTMA_SP41_100_X15Y5_170   -0.003668  \n",
       "BaselTMA_SP41_14_X1Y8_2604    -0.029804  \n",
       "BaselTMA_SP41_186_X5Y4_81     -0.014966  \n",
       "\n",
       "[100 rows x 4 columns]"
      ]
     },
     "execution_count": 43,
     "metadata": {},
     "output_type": "execute_result"
    }
   ],
   "source": [
    "states = ast.get_cellstates()\n",
    "states"
   ]
  },
  {
   "cell_type": "code",
   "execution_count": 44,
   "metadata": {
    "pycharm": {
     "name": "#%%\n"
    }
   },
   "outputs": [
    {
     "data": {
      "text/plain": [
       "<matplotlib.collections.PathCollection at 0x129f39e80>"
      ]
     },
     "execution_count": 44,
     "metadata": {},
     "output_type": "execute_result"
    },
    {
     "data": {
      "image/png": "[encoded data removed]",
      "text/plain": [
       "<Figure size 432x288 with 1 Axes>"
      ]
     },
     "metadata": {
      "needs_background": "light"
     },
     "output_type": "display_data"
    }
   ],
   "source": [
    "plt.scatter(\n",
    "    states['RTK_signalling'],\n",
    "    ast.get_state_dataset().get_exprs_df()['Her2']\n",
    ")"
   ]
  },
  {
   "cell_type": "markdown",
   "metadata": {},
   "source": [
    "### Cell state diagnostics"
   ]
  },
  {
   "cell_type": "markdown",
   "metadata": {},
   "source": [
    "It is important to run diagnostics on cell states model for the same reasons\n",
    "stated for the cell type model. `Astir.diagnostics_cellstate()` spots any non\n",
    " marker protein and pathway pairs whose expressions are higher than those of\n",
    " the marker proteins of the pathway."
   ]
  },
  {
   "cell_type": "code",
   "execution_count": 45,
   "metadata": {
    "pycharm": {
     "name": "#%%\n"
    }
   },
   "outputs": [
    {
     "data": {
      "text/html": [
       "<div>\n",
       "<style scoped>\n",
       "    .dataframe tbody tr th:only-of-type {\n",
       "        vertical-align: middle;\n",
       "    }\n",
       "\n",
       "    .dataframe tbody tr th {\n",
       "        vertical-align: top;\n",
       "    }\n",
       "\n",
       "    .dataframe thead th {\n",
       "        text-align: right;\n",
       "    }\n",
       "</style>\n",
       "<table border=\"1\" class=\"dataframe\">\n",
       "  <thead>\n",
       "    <tr style=\"text-align: right;\">\n",
       "      <th></th>\n",
       "      <th>pathway</th>\n",
       "      <th>protein A</th>\n",
       "      <th>correlation of protein A</th>\n",
       "      <th>protein B</th>\n",
       "      <th>correlation of protein B</th>\n",
       "      <th>note</th>\n",
       "    </tr>\n",
       "  </thead>\n",
       "  <tbody>\n",
       "    <tr>\n",
       "      <th>0</th>\n",
       "      <td>RTK_signalling</td>\n",
       "      <td>Her2</td>\n",
       "      <td>-0.557551</td>\n",
       "      <td>Cleaved Caspase3</td>\n",
       "      <td>-0.477719</td>\n",
       "      <td>Her2 is marker for RTK_signalling but Cleaved ...</td>\n",
       "    </tr>\n",
       "    <tr>\n",
       "      <th>1</th>\n",
       "      <td>RTK_signalling</td>\n",
       "      <td>Her2</td>\n",
       "      <td>-0.557551</td>\n",
       "      <td>Ki-67</td>\n",
       "      <td>-0.069831</td>\n",
       "      <td>Her2 is marker for RTK_signalling but Ki-67 isn't</td>\n",
       "    </tr>\n",
       "    <tr>\n",
       "      <th>2</th>\n",
       "      <td>RTK_signalling</td>\n",
       "      <td>Her2</td>\n",
       "      <td>-0.557551</td>\n",
       "      <td>cleaved PARP</td>\n",
       "      <td>-0.477719</td>\n",
       "      <td>Her2 is marker for RTK_signalling but cleaved ...</td>\n",
       "    </tr>\n",
       "    <tr>\n",
       "      <th>3</th>\n",
       "      <td>RTK_signalling</td>\n",
       "      <td>Her2</td>\n",
       "      <td>-0.557551</td>\n",
       "      <td>phospho S6</td>\n",
       "      <td>-0.507912</td>\n",
       "      <td>Her2 is marker for RTK_signalling but phospho ...</td>\n",
       "    </tr>\n",
       "    <tr>\n",
       "      <th>4</th>\n",
       "      <td>proliferation</td>\n",
       "      <td>Ki-67</td>\n",
       "      <td>0.210566</td>\n",
       "      <td>Her2</td>\n",
       "      <td>0.319918</td>\n",
       "      <td>Ki-67 is marker for proliferation but Her2 isn't</td>\n",
       "    </tr>\n",
       "    <tr>\n",
       "      <th>5</th>\n",
       "      <td>proliferation</td>\n",
       "      <td>Ki-67</td>\n",
       "      <td>0.210566</td>\n",
       "      <td>phospho S6</td>\n",
       "      <td>0.508832</td>\n",
       "      <td>Ki-67 is marker for proliferation but phospho ...</td>\n",
       "    </tr>\n",
       "    <tr>\n",
       "      <th>6</th>\n",
       "      <td>proliferation</td>\n",
       "      <td>Ki-67</td>\n",
       "      <td>0.210566</td>\n",
       "      <td>phospho mTOR</td>\n",
       "      <td>0.331018</td>\n",
       "      <td>Ki-67 is marker for proliferation but phospho ...</td>\n",
       "    </tr>\n",
       "    <tr>\n",
       "      <th>7</th>\n",
       "      <td>mTOR_signalling</td>\n",
       "      <td>phospho mTOR</td>\n",
       "      <td>-0.765907</td>\n",
       "      <td>Cleaved Caspase3</td>\n",
       "      <td>-0.531901</td>\n",
       "      <td>phospho mTOR is marker for mTOR_signalling but...</td>\n",
       "    </tr>\n",
       "    <tr>\n",
       "      <th>8</th>\n",
       "      <td>mTOR_signalling</td>\n",
       "      <td>phospho mTOR</td>\n",
       "      <td>-0.765907</td>\n",
       "      <td>EGFR</td>\n",
       "      <td>-0.386706</td>\n",
       "      <td>phospho mTOR is marker for mTOR_signalling but...</td>\n",
       "    </tr>\n",
       "    <tr>\n",
       "      <th>9</th>\n",
       "      <td>mTOR_signalling</td>\n",
       "      <td>phospho mTOR</td>\n",
       "      <td>-0.765907</td>\n",
       "      <td>Her2</td>\n",
       "      <td>-0.413496</td>\n",
       "      <td>phospho mTOR is marker for mTOR_signalling but...</td>\n",
       "    </tr>\n",
       "  </tbody>\n",
       "</table>\n",
       "</div>"
      ],
      "text/plain": [
       "           pathway     protein A  correlation of protein A         protein B  \\\n",
       "0   RTK_signalling          Her2                 -0.557551  Cleaved Caspase3   \n",
       "1   RTK_signalling          Her2                 -0.557551             Ki-67   \n",
       "2   RTK_signalling          Her2                 -0.557551      cleaved PARP   \n",
       "3   RTK_signalling          Her2                 -0.557551        phospho S6   \n",
       "4    proliferation         Ki-67                  0.210566              Her2   \n",
       "5    proliferation         Ki-67                  0.210566        phospho S6   \n",
       "6    proliferation         Ki-67                  0.210566      phospho mTOR   \n",
       "7  mTOR_signalling  phospho mTOR                 -0.765907  Cleaved Caspase3   \n",
       "8  mTOR_signalling  phospho mTOR                 -0.765907              EGFR   \n",
       "9  mTOR_signalling  phospho mTOR                 -0.765907              Her2   \n",
       "\n",
       "   correlation of protein B                                               note  \n",
       "0                 -0.477719  Her2 is marker for RTK_signalling but Cleaved ...  \n",
       "1                 -0.069831  Her2 is marker for RTK_signalling but Ki-67 isn't  \n",
       "2                 -0.477719  Her2 is marker for RTK_signalling but cleaved ...  \n",
       "3                 -0.507912  Her2 is marker for RTK_signalling but phospho ...  \n",
       "4                  0.319918   Ki-67 is marker for proliferation but Her2 isn't  \n",
       "5                  0.508832  Ki-67 is marker for proliferation but phospho ...  \n",
       "6                  0.331018  Ki-67 is marker for proliferation but phospho ...  \n",
       "7                 -0.531901  phospho mTOR is marker for mTOR_signalling but...  \n",
       "8                 -0.386706  phospho mTOR is marker for mTOR_signalling but...  \n",
       "9                 -0.413496  phospho mTOR is marker for mTOR_signalling but...  "
      ]
     },
     "execution_count": 45,
     "metadata": {},
     "output_type": "execute_result"
    }
   ],
   "source": [
    "ast.diagnostics_cellstate().head(n=10)"
   ]
  },
  {
   "cell_type": "markdown",
   "metadata": {},
   "source": [
    "Calling `ast.diagnostics_cellstate()` returns a `pd.DataFrame`, where each\n",
    "column corresponds to a particular protein and two cell types, with a warning\n",
    " if the protein is not expressed at higher levels in the cell state for which\n",
    " it is a marker than the cell state for which it is not."
   ]
  },
  {
   "cell_type": "markdown",
   "metadata": {},
   "source": [
    "The diagnostics:\n",
    "\n",
    "1. Get correlations between all cell states and proteins\n",
    "\n",
    "2. For each cell state *c*, get the smallest correlation with marker *g*\n",
    "\n",
    "3. For each cell state *c* and its non marker *g*, find any correlation that is\n",
    "bigger than those smallest correlation for *c*.\n",
    "\n",
    "4. Any *c* and *g* pairs found in step 3 will be included in the output of\n",
    "`Astir.diagnostics_cellstate()`, including an explanation."
   ]
  },
  {
   "cell_type": "markdown",
   "metadata": {},
   "source": [
    "If multiple issues are found, the markers and cell states may need refined.\n"
   ]
  },
  {
   "cell_type": "markdown",
   "metadata": {},
   "source": [
    "## 4. Saving results"
   ]
  },
  {
   "cell_type": "markdown",
   "metadata": {},
   "source": [
    "Both cell type and cell state information can easily be saved to disk via"
   ]
  },
  {
   "cell_type": "code",
   "execution_count": 46,
   "metadata": {
    "pycharm": {
     "name": "#%%\n"
    }
   },
   "outputs": [],
   "source": [
    "ast.type_to_csv(\"cell-types.csv\")\n",
    "ast.state_to_csv(\"cell-states.csv\")"
   ]
  },
  {
   "cell_type": "code",
   "execution_count": 47,
   "metadata": {
    "pycharm": {
     "name": "#%%\n"
    }
   },
   "outputs": [
    {
     "name": "stdout",
     "output_type": "stream",
     "text": [
      ",Stromal,B cells,T cells,Macrophage,Epithelial (basal),Epithelial (luminal),Other\r\n",
      "BaselTMA_SP41_186_X5Y4_3679,0.18120455343615458,0.1448348512988478,0.21926516167096868,0.3130264838978725,0.012777327190405629,0.029225949289471646,0.09966567321627925\r\n",
      "BaselTMA_SP41_153_X7Y5_246,0.007341818762203506,0.02627340228501737,0.014865528219738326,0.011549474086721575,0.08377292822149467,0.8420765481309488,0.014120300293875692\r\n"
     ]
    }
   ],
   "source": [
    "!head -n 3 cell-types.csv"
   ]
  },
  {
   "cell_type": "code",
   "execution_count": 48,
   "metadata": {
    "pycharm": {
     "name": "#%%\n"
    }
   },
   "outputs": [
    {
     "name": "stdout",
     "output_type": "stream",
     "text": [
      ",RTK_signalling,proliferation,mTOR_signalling,apoptosis\r\n",
      "BaselTMA_SP41_186_X5Y4_3679,-0.3681131942216142,0.5141407593180919,0.09802381766880391,-0.10367242118861601\r\n",
      "BaselTMA_SP41_153_X7Y5_246,-0.3514723984822022,0.07330987372974418,0.05905841914750254,0.24276076283503867\r\n"
     ]
    }
   ],
   "source": [
    "!head -n 3 cell-states.csv"
   ]
  },
  {
   "cell_type": "markdown",
   "metadata": {},
   "source": [
    "where the first (unnamed) column always corresponds to the cell name/ID."
   ]
  },
  {
   "cell_type": "markdown",
   "metadata": {},
   "source": [
    "## 5. Accessing internal functions and data"
   ]
  },
  {
   "cell_type": "markdown",
   "metadata": {},
   "source": [
    "Data stored in `astir` objects is in the form of an `SCDataSet`. These can be retrieved via"
   ]
  },
  {
   "cell_type": "code",
   "execution_count": 49,
   "metadata": {
    "pycharm": {
     "name": "#%%\n"
    }
   },
   "outputs": [
    {
     "data": {
      "text/plain": [
       "<astir.models.scdataset.SCDataset at 0x129d8d370>"
      ]
     },
     "execution_count": 49,
     "metadata": {},
     "output_type": "execute_result"
    }
   ],
   "source": [
    "celltype_data = ast.get_type_dataset()\n",
    "celltype_data"
   ]
  },
  {
   "cell_type": "markdown",
   "metadata": {},
   "source": [
    "and similarly for cell state via `ast.get_state_dataset()`.\n",
    "\n",
    "These have several helper functions to retrieve relevant information to the dataset:"
   ]
  },
  {
   "cell_type": "code",
   "execution_count": 50,
   "metadata": {
    "pycharm": {
     "name": "#%%\n"
    }
   },
   "outputs": [
    {
     "data": {
      "text/plain": [
       "['BaselTMA_SP41_186_X5Y4_3679',\n",
       " 'BaselTMA_SP41_153_X7Y5_246',\n",
       " 'BaselTMA_SP41_20_X12Y5_197',\n",
       " 'BaselTMA_SP41_14_X1Y8_84']"
      ]
     },
     "execution_count": 50,
     "metadata": {},
     "output_type": "execute_result"
    }
   ],
   "source": [
    "celltype_data.get_cell_names()[0:4] # cell names"
   ]
  },
  {
   "cell_type": "code",
   "execution_count": 51,
   "metadata": {
    "pycharm": {
     "name": "#%%\n"
    }
   },
   "outputs": [
    {
     "data": {
      "text/plain": [
       "['Stromal',\n",
       " 'B cells',\n",
       " 'T cells',\n",
       " 'Macrophage',\n",
       " 'Epithelial (basal)',\n",
       " 'Epithelial (luminal)']"
      ]
     },
     "execution_count": 51,
     "metadata": {},
     "output_type": "execute_result"
    }
   ],
   "source": [
    "celltype_data.get_classes() # cell type names"
   ]
  },
  {
   "cell_type": "code",
   "execution_count": 52,
   "metadata": {
    "pycharm": {
     "name": "#%%\n"
    }
   },
   "outputs": [
    {
     "name": "stdout",
     "output_type": "stream",
     "text": [
      "6\n",
      "14\n"
     ]
    }
   ],
   "source": [
    "print(celltype_data.get_n_classes()) # number of cell types\n",
    "print(celltype_data.get_n_features()) # number of features / proteins"
   ]
  },
  {
   "cell_type": "code",
   "execution_count": 53,
   "metadata": {
    "pycharm": {
     "name": "#%%\n"
    }
   },
   "outputs": [
    {
     "data": {
      "text/plain": [
       "tensor([[0.1026, 0.1004, 0.2277,  ..., 0.6097, 2.2151, 0.7714],\n",
       "        [0.1081, 0.0176, 0.0685,  ..., 1.0622, 0.5026, 3.9632],\n",
       "        [0.0498, 0.0943, 0.3012,  ..., 0.1601, 0.8102, 0.0481],\n",
       "        ...,\n",
       "        [0.0695, 0.0119, 0.0869,  ..., 0.4487, 0.7593, 1.4923],\n",
       "        [0.0929, 0.1266, 0.2395,  ..., 0.4405, 2.2464, 0.4174],\n",
       "        [0.0618, 0.1439, 0.2476,  ..., 0.7055, 3.1238, 0.2552]],\n",
       "       dtype=torch.float64)"
      ]
     },
     "execution_count": 53,
     "metadata": {},
     "output_type": "execute_result"
    }
   ],
   "source": [
    "celltype_data.get_exprs() # Return a torch tensor corresponding to the expression data used"
   ]
  },
  {
   "cell_type": "code",
   "execution_count": 54,
   "metadata": {
    "pycharm": {
     "name": "#%%\n"
    }
   },
   "outputs": [
    {
     "data": {
      "text/html": [
       "<div>\n",
       "<style scoped>\n",
       "    .dataframe tbody tr th:only-of-type {\n",
       "        vertical-align: middle;\n",
       "    }\n",
       "\n",
       "    .dataframe tbody tr th {\n",
       "        vertical-align: top;\n",
       "    }\n",
       "\n",
       "    .dataframe thead th {\n",
       "        text-align: right;\n",
       "    }\n",
       "</style>\n",
       "<table border=\"1\" class=\"dataframe\">\n",
       "  <thead>\n",
       "    <tr style=\"text-align: right;\">\n",
       "      <th></th>\n",
       "      <th>CD20</th>\n",
       "      <th>CD3</th>\n",
       "      <th>CD45</th>\n",
       "      <th>CD68</th>\n",
       "      <th>Cytokeratin 14</th>\n",
       "      <th>Cytokeratin 19</th>\n",
       "      <th>Cytokeratin 5</th>\n",
       "      <th>Cytokeratin 7</th>\n",
       "      <th>Cytokeratin 8/18</th>\n",
       "      <th>E-Cadherin</th>\n",
       "      <th>Fibronectin</th>\n",
       "      <th>Her2</th>\n",
       "      <th>Vimentin</th>\n",
       "      <th>pan Cytokeratin</th>\n",
       "    </tr>\n",
       "  </thead>\n",
       "  <tbody>\n",
       "    <tr>\n",
       "      <th>BaselTMA_SP41_186_X5Y4_3679</th>\n",
       "      <td>0.102576</td>\n",
       "      <td>0.100401</td>\n",
       "      <td>0.227730</td>\n",
       "      <td>2.227252</td>\n",
       "      <td>0.195163</td>\n",
       "      <td>0.190923</td>\n",
       "      <td>0.095283</td>\n",
       "      <td>0.057050</td>\n",
       "      <td>0.461040</td>\n",
       "      <td>0.938354</td>\n",
       "      <td>1.829905</td>\n",
       "      <td>0.609694</td>\n",
       "      <td>2.215089</td>\n",
       "      <td>0.771352</td>\n",
       "    </tr>\n",
       "    <tr>\n",
       "      <th>BaselTMA_SP41_153_X7Y5_246</th>\n",
       "      <td>0.108137</td>\n",
       "      <td>0.017637</td>\n",
       "      <td>0.068526</td>\n",
       "      <td>0.208297</td>\n",
       "      <td>0.234853</td>\n",
       "      <td>0.685858</td>\n",
       "      <td>0.124031</td>\n",
       "      <td>0.485330</td>\n",
       "      <td>0.382767</td>\n",
       "      <td>1.364884</td>\n",
       "      <td>1.226994</td>\n",
       "      <td>1.062229</td>\n",
       "      <td>0.502627</td>\n",
       "      <td>3.963248</td>\n",
       "    </tr>\n",
       "    <tr>\n",
       "      <th>BaselTMA_SP41_20_X12Y5_197</th>\n",
       "      <td>0.049809</td>\n",
       "      <td>0.094316</td>\n",
       "      <td>0.301222</td>\n",
       "      <td>0.581624</td>\n",
       "      <td>0.072666</td>\n",
       "      <td>0.115979</td>\n",
       "      <td>0.052750</td>\n",
       "      <td>0.035875</td>\n",
       "      <td>0.020290</td>\n",
       "      <td>0.177361</td>\n",
       "      <td>2.222520</td>\n",
       "      <td>0.160135</td>\n",
       "      <td>0.810243</td>\n",
       "      <td>0.048100</td>\n",
       "    </tr>\n",
       "    <tr>\n",
       "      <th>BaselTMA_SP41_14_X1Y8_84</th>\n",
       "      <td>0.024256</td>\n",
       "      <td>0.140441</td>\n",
       "      <td>0.606941</td>\n",
       "      <td>0.490982</td>\n",
       "      <td>0.165863</td>\n",
       "      <td>0.652143</td>\n",
       "      <td>0.093352</td>\n",
       "      <td>0.351700</td>\n",
       "      <td>0.904383</td>\n",
       "      <td>1.122174</td>\n",
       "      <td>1.402750</td>\n",
       "      <td>1.133448</td>\n",
       "      <td>1.742495</td>\n",
       "      <td>1.917118</td>\n",
       "    </tr>\n",
       "    <tr>\n",
       "      <th>BaselTMA_SP41_166_X15Y4_266</th>\n",
       "      <td>0.138571</td>\n",
       "      <td>0.111722</td>\n",
       "      <td>0.588273</td>\n",
       "      <td>1.039967</td>\n",
       "      <td>0.162696</td>\n",
       "      <td>0.086235</td>\n",
       "      <td>0.064545</td>\n",
       "      <td>0.009627</td>\n",
       "      <td>0.046967</td>\n",
       "      <td>0.402554</td>\n",
       "      <td>2.669947</td>\n",
       "      <td>0.558439</td>\n",
       "      <td>1.659587</td>\n",
       "      <td>0.687005</td>\n",
       "    </tr>\n",
       "    <tr>\n",
       "      <th>...</th>\n",
       "      <td>...</td>\n",
       "      <td>...</td>\n",
       "      <td>...</td>\n",
       "      <td>...</td>\n",
       "      <td>...</td>\n",
       "      <td>...</td>\n",
       "      <td>...</td>\n",
       "      <td>...</td>\n",
       "      <td>...</td>\n",
       "      <td>...</td>\n",
       "      <td>...</td>\n",
       "      <td>...</td>\n",
       "      <td>...</td>\n",
       "      <td>...</td>\n",
       "    </tr>\n",
       "    <tr>\n",
       "      <th>BaselTMA_SP41_114_X13Y4_1057</th>\n",
       "      <td>0.185995</td>\n",
       "      <td>0.049244</td>\n",
       "      <td>0.151869</td>\n",
       "      <td>0.296231</td>\n",
       "      <td>0.151970</td>\n",
       "      <td>0.175114</td>\n",
       "      <td>0.108374</td>\n",
       "      <td>0.021539</td>\n",
       "      <td>0.207346</td>\n",
       "      <td>2.120132</td>\n",
       "      <td>0.743909</td>\n",
       "      <td>1.460545</td>\n",
       "      <td>0.069651</td>\n",
       "      <td>1.666665</td>\n",
       "    </tr>\n",
       "    <tr>\n",
       "      <th>BaselTMA_SP41_141_X11Y2_2596</th>\n",
       "      <td>0.100324</td>\n",
       "      <td>0.024006</td>\n",
       "      <td>0.025612</td>\n",
       "      <td>0.091424</td>\n",
       "      <td>0.049996</td>\n",
       "      <td>0.324138</td>\n",
       "      <td>0.083866</td>\n",
       "      <td>0.069627</td>\n",
       "      <td>0.614213</td>\n",
       "      <td>1.637392</td>\n",
       "      <td>0.860960</td>\n",
       "      <td>0.789372</td>\n",
       "      <td>0.000000</td>\n",
       "      <td>2.584532</td>\n",
       "    </tr>\n",
       "    <tr>\n",
       "      <th>BaselTMA_SP41_100_X15Y5_170</th>\n",
       "      <td>0.069503</td>\n",
       "      <td>0.011859</td>\n",
       "      <td>0.086852</td>\n",
       "      <td>0.538247</td>\n",
       "      <td>0.037131</td>\n",
       "      <td>0.321179</td>\n",
       "      <td>0.096496</td>\n",
       "      <td>0.000000</td>\n",
       "      <td>0.696445</td>\n",
       "      <td>0.861641</td>\n",
       "      <td>1.724828</td>\n",
       "      <td>0.448688</td>\n",
       "      <td>0.759268</td>\n",
       "      <td>1.492342</td>\n",
       "    </tr>\n",
       "    <tr>\n",
       "      <th>BaselTMA_SP41_14_X1Y8_2604</th>\n",
       "      <td>0.092944</td>\n",
       "      <td>0.126645</td>\n",
       "      <td>0.239459</td>\n",
       "      <td>1.967150</td>\n",
       "      <td>0.171216</td>\n",
       "      <td>0.132563</td>\n",
       "      <td>0.055748</td>\n",
       "      <td>0.082334</td>\n",
       "      <td>0.128377</td>\n",
       "      <td>0.532135</td>\n",
       "      <td>1.899111</td>\n",
       "      <td>0.440527</td>\n",
       "      <td>2.246434</td>\n",
       "      <td>0.417445</td>\n",
       "    </tr>\n",
       "    <tr>\n",
       "      <th>BaselTMA_SP41_186_X5Y4_81</th>\n",
       "      <td>0.061784</td>\n",
       "      <td>0.143930</td>\n",
       "      <td>0.247627</td>\n",
       "      <td>0.316248</td>\n",
       "      <td>0.232111</td>\n",
       "      <td>0.145036</td>\n",
       "      <td>0.080324</td>\n",
       "      <td>0.000000</td>\n",
       "      <td>0.208533</td>\n",
       "      <td>0.899182</td>\n",
       "      <td>2.475906</td>\n",
       "      <td>0.705456</td>\n",
       "      <td>3.123784</td>\n",
       "      <td>0.255158</td>\n",
       "    </tr>\n",
       "  </tbody>\n",
       "</table>\n",
       "<p>100 rows × 14 columns</p>\n",
       "</div>"
      ],
      "text/plain": [
       "                                  CD20       CD3      CD45      CD68  \\\n",
       "BaselTMA_SP41_186_X5Y4_3679   0.102576  0.100401  0.227730  2.227252   \n",
       "BaselTMA_SP41_153_X7Y5_246    0.108137  0.017637  0.068526  0.208297   \n",
       "BaselTMA_SP41_20_X12Y5_197    0.049809  0.094316  0.301222  0.581624   \n",
       "BaselTMA_SP41_14_X1Y8_84      0.024256  0.140441  0.606941  0.490982   \n",
       "BaselTMA_SP41_166_X15Y4_266   0.138571  0.111722  0.588273  1.039967   \n",
       "...                                ...       ...       ...       ...   \n",
       "BaselTMA_SP41_114_X13Y4_1057  0.185995  0.049244  0.151869  0.296231   \n",
       "BaselTMA_SP41_141_X11Y2_2596  0.100324  0.024006  0.025612  0.091424   \n",
       "BaselTMA_SP41_100_X15Y5_170   0.069503  0.011859  0.086852  0.538247   \n",
       "BaselTMA_SP41_14_X1Y8_2604    0.092944  0.126645  0.239459  1.967150   \n",
       "BaselTMA_SP41_186_X5Y4_81     0.061784  0.143930  0.247627  0.316248   \n",
       "\n",
       "                              Cytokeratin 14  Cytokeratin 19  Cytokeratin 5  \\\n",
       "BaselTMA_SP41_186_X5Y4_3679         0.195163        0.190923       0.095283   \n",
       "BaselTMA_SP41_153_X7Y5_246          0.234853        0.685858       0.124031   \n",
       "BaselTMA_SP41_20_X12Y5_197          0.072666        0.115979       0.052750   \n",
       "BaselTMA_SP41_14_X1Y8_84            0.165863        0.652143       0.093352   \n",
       "BaselTMA_SP41_166_X15Y4_266         0.162696        0.086235       0.064545   \n",
       "...                                      ...             ...            ...   \n",
       "BaselTMA_SP41_114_X13Y4_1057        0.151970        0.175114       0.108374   \n",
       "BaselTMA_SP41_141_X11Y2_2596        0.049996        0.324138       0.083866   \n",
       "BaselTMA_SP41_100_X15Y5_170         0.037131        0.321179       0.096496   \n",
       "BaselTMA_SP41_14_X1Y8_2604          0.171216        0.132563       0.055748   \n",
       "BaselTMA_SP41_186_X5Y4_81           0.232111        0.145036       0.080324   \n",
       "\n",
       "                              Cytokeratin 7  Cytokeratin 8/18  E-Cadherin  \\\n",
       "BaselTMA_SP41_186_X5Y4_3679        0.057050          0.461040    0.938354   \n",
       "BaselTMA_SP41_153_X7Y5_246         0.485330          0.382767    1.364884   \n",
       "BaselTMA_SP41_20_X12Y5_197         0.035875          0.020290    0.177361   \n",
       "BaselTMA_SP41_14_X1Y8_84           0.351700          0.904383    1.122174   \n",
       "BaselTMA_SP41_166_X15Y4_266        0.009627          0.046967    0.402554   \n",
       "...                                     ...               ...         ...   \n",
       "BaselTMA_SP41_114_X13Y4_1057       0.021539          0.207346    2.120132   \n",
       "BaselTMA_SP41_141_X11Y2_2596       0.069627          0.614213    1.637392   \n",
       "BaselTMA_SP41_100_X15Y5_170        0.000000          0.696445    0.861641   \n",
       "BaselTMA_SP41_14_X1Y8_2604         0.082334          0.128377    0.532135   \n",
       "BaselTMA_SP41_186_X5Y4_81          0.000000          0.208533    0.899182   \n",
       "\n",
       "                              Fibronectin      Her2  Vimentin  pan Cytokeratin  \n",
       "BaselTMA_SP41_186_X5Y4_3679      1.829905  0.609694  2.215089         0.771352  \n",
       "BaselTMA_SP41_153_X7Y5_246       1.226994  1.062229  0.502627         3.963248  \n",
       "BaselTMA_SP41_20_X12Y5_197       2.222520  0.160135  0.810243         0.048100  \n",
       "BaselTMA_SP41_14_X1Y8_84         1.402750  1.133448  1.742495         1.917118  \n",
       "BaselTMA_SP41_166_X15Y4_266      2.669947  0.558439  1.659587         0.687005  \n",
       "...                                   ...       ...       ...              ...  \n",
       "BaselTMA_SP41_114_X13Y4_1057     0.743909  1.460545  0.069651         1.666665  \n",
       "BaselTMA_SP41_141_X11Y2_2596     0.860960  0.789372  0.000000         2.584532  \n",
       "BaselTMA_SP41_100_X15Y5_170      1.724828  0.448688  0.759268         1.492342  \n",
       "BaselTMA_SP41_14_X1Y8_2604       1.899111  0.440527  2.246434         0.417445  \n",
       "BaselTMA_SP41_186_X5Y4_81        2.475906  0.705456  3.123784         0.255158  \n",
       "\n",
       "[100 rows x 14 columns]"
      ]
     },
     "execution_count": 54,
     "metadata": {},
     "output_type": "execute_result"
    }
   ],
   "source": [
    "celltype_data.get_exprs_df() # Return a pandas DataFrame corresponding to the expression data used"
   ]
  },
  {
   "cell_type": "code",
   "execution_count": 55,
   "metadata": {
    "pycharm": {
     "name": "#%%\n"
    }
   },
   "outputs": [],
   "source": [
    "ast.normalize()"
   ]
  },
  {
   "cell_type": "code",
   "execution_count": 56,
   "metadata": {
    "pycharm": {
     "name": "#%%\n"
    }
   },
   "outputs": [
    {
     "data": {
      "text/html": [
       "<div>\n",
       "<style scoped>\n",
       "    .dataframe tbody tr th:only-of-type {\n",
       "        vertical-align: middle;\n",
       "    }\n",
       "\n",
       "    .dataframe tbody tr th {\n",
       "        vertical-align: top;\n",
       "    }\n",
       "\n",
       "    .dataframe thead th {\n",
       "        text-align: right;\n",
       "    }\n",
       "</style>\n",
       "<table border=\"1\" class=\"dataframe\">\n",
       "  <thead>\n",
       "    <tr style=\"text-align: right;\">\n",
       "      <th></th>\n",
       "      <th>CD20</th>\n",
       "      <th>CD3</th>\n",
       "      <th>CD45</th>\n",
       "      <th>CD68</th>\n",
       "      <th>Cytokeratin 14</th>\n",
       "      <th>Cytokeratin 19</th>\n",
       "      <th>Cytokeratin 5</th>\n",
       "      <th>Cytokeratin 7</th>\n",
       "      <th>Cytokeratin 8/18</th>\n",
       "      <th>E-Cadherin</th>\n",
       "      <th>Fibronectin</th>\n",
       "      <th>Her2</th>\n",
       "      <th>Vimentin</th>\n",
       "      <th>pan Cytokeratin</th>\n",
       "    </tr>\n",
       "  </thead>\n",
       "  <tbody>\n",
       "    <tr>\n",
       "      <th>BaselTMA_SP41_186_X5Y4_3679</th>\n",
       "      <td>0.097649</td>\n",
       "      <td>0.095675</td>\n",
       "      <td>0.205167</td>\n",
       "      <td>1.088442</td>\n",
       "      <td>0.178283</td>\n",
       "      <td>0.174729</td>\n",
       "      <td>0.091013</td>\n",
       "      <td>0.055482</td>\n",
       "      <td>0.379148</td>\n",
       "      <td>0.661839</td>\n",
       "      <td>1.040243</td>\n",
       "      <td>0.476044</td>\n",
       "      <td>1.167855</td>\n",
       "      <td>0.571743</td>\n",
       "    </tr>\n",
       "    <tr>\n",
       "      <th>BaselTMA_SP41_153_X7Y5_246</th>\n",
       "      <td>0.102680</td>\n",
       "      <td>0.017483</td>\n",
       "      <td>0.066280</td>\n",
       "      <td>0.189212</td>\n",
       "      <td>0.210952</td>\n",
       "      <td>0.522274</td>\n",
       "      <td>0.116921</td>\n",
       "      <td>0.395637</td>\n",
       "      <td>0.324087</td>\n",
       "      <td>0.860729</td>\n",
       "      <td>0.800653</td>\n",
       "      <td>0.723787</td>\n",
       "      <td>0.407215</td>\n",
       "      <td>1.602060</td>\n",
       "    </tr>\n",
       "    <tr>\n",
       "      <th>BaselTMA_SP41_20_X12Y5_197</th>\n",
       "      <td>0.048608</td>\n",
       "      <td>0.090130</td>\n",
       "      <td>0.263304</td>\n",
       "      <td>0.458452</td>\n",
       "      <td>0.070148</td>\n",
       "      <td>0.109732</td>\n",
       "      <td>0.051405</td>\n",
       "      <td>0.035246</td>\n",
       "      <td>0.020086</td>\n",
       "      <td>0.163276</td>\n",
       "      <td>1.170164</td>\n",
       "      <td>0.148536</td>\n",
       "      <td>0.593461</td>\n",
       "      <td>0.046979</td>\n",
       "    </tr>\n",
       "    <tr>\n",
       "      <th>BaselTMA_SP41_14_X1Y8_84</th>\n",
       "      <td>0.023967</td>\n",
       "      <td>0.131415</td>\n",
       "      <td>0.474333</td>\n",
       "      <td>0.399435</td>\n",
       "      <td>0.153462</td>\n",
       "      <td>0.502073</td>\n",
       "      <td>0.089248</td>\n",
       "      <td>0.301363</td>\n",
       "      <td>0.644158</td>\n",
       "      <td>0.752441</td>\n",
       "      <td>0.876614</td>\n",
       "      <td>0.757740</td>\n",
       "      <td>1.008868</td>\n",
       "      <td>1.070596</td>\n",
       "    </tr>\n",
       "    <tr>\n",
       "      <th>BaselTMA_SP41_166_X15Y4_266</th>\n",
       "      <td>0.129774</td>\n",
       "      <td>0.105910</td>\n",
       "      <td>0.462647</td>\n",
       "      <td>0.712933</td>\n",
       "      <td>0.150741</td>\n",
       "      <td>0.082718</td>\n",
       "      <td>0.062548</td>\n",
       "      <td>0.009581</td>\n",
       "      <td>0.045898</td>\n",
       "      <td>0.338295</td>\n",
       "      <td>1.300177</td>\n",
       "      <td>0.443684</td>\n",
       "      <td>0.978171</td>\n",
       "      <td>0.522955</td>\n",
       "    </tr>\n",
       "    <tr>\n",
       "      <th>...</th>\n",
       "      <td>...</td>\n",
       "      <td>...</td>\n",
       "      <td>...</td>\n",
       "      <td>...</td>\n",
       "      <td>...</td>\n",
       "      <td>...</td>\n",
       "      <td>...</td>\n",
       "      <td>...</td>\n",
       "      <td>...</td>\n",
       "      <td>...</td>\n",
       "      <td>...</td>\n",
       "      <td>...</td>\n",
       "      <td>...</td>\n",
       "      <td>...</td>\n",
       "    </tr>\n",
       "    <tr>\n",
       "      <th>BaselTMA_SP41_114_X13Y4_1057</th>\n",
       "      <td>0.170582</td>\n",
       "      <td>0.048070</td>\n",
       "      <td>0.141386</td>\n",
       "      <td>0.259461</td>\n",
       "      <td>0.141473</td>\n",
       "      <td>0.161365</td>\n",
       "      <td>0.102894</td>\n",
       "      <td>0.021311</td>\n",
       "      <td>0.188425</td>\n",
       "      <td>1.137875</td>\n",
       "      <td>0.556129</td>\n",
       "      <td>0.900383</td>\n",
       "      <td>0.067333</td>\n",
       "      <td>0.980828</td>\n",
       "    </tr>\n",
       "    <tr>\n",
       "      <th>BaselTMA_SP41_141_X11Y2_2596</th>\n",
       "      <td>0.095605</td>\n",
       "      <td>0.023722</td>\n",
       "      <td>0.025290</td>\n",
       "      <td>0.087484</td>\n",
       "      <td>0.048787</td>\n",
       "      <td>0.280761</td>\n",
       "      <td>0.080535</td>\n",
       "      <td>0.067310</td>\n",
       "      <td>0.478848</td>\n",
       "      <td>0.969791</td>\n",
       "      <td>0.621092</td>\n",
       "      <td>0.581865</td>\n",
       "      <td>0.000000</td>\n",
       "      <td>1.276628</td>\n",
       "    </tr>\n",
       "    <tr>\n",
       "      <th>BaselTMA_SP41_100_X15Y5_170</th>\n",
       "      <td>0.067194</td>\n",
       "      <td>0.011789</td>\n",
       "      <td>0.083286</td>\n",
       "      <td>0.430644</td>\n",
       "      <td>0.036458</td>\n",
       "      <td>0.278524</td>\n",
       "      <td>0.092120</td>\n",
       "      <td>0.000000</td>\n",
       "      <td>0.528535</td>\n",
       "      <td>0.621458</td>\n",
       "      <td>1.002405</td>\n",
       "      <td>0.370658</td>\n",
       "      <td>0.564898</td>\n",
       "      <td>0.913223</td>\n",
       "    </tr>\n",
       "    <tr>\n",
       "      <th>BaselTMA_SP41_14_X1Y8_2604</th>\n",
       "      <td>0.088875</td>\n",
       "      <td>0.119244</td>\n",
       "      <td>0.214675</td>\n",
       "      <td>1.087602</td>\n",
       "      <td>0.158042</td>\n",
       "      <td>0.124483</td>\n",
       "      <td>0.054250</td>\n",
       "      <td>0.079120</td>\n",
       "      <td>0.120780</td>\n",
       "      <td>0.426662</td>\n",
       "      <td>1.064404</td>\n",
       "      <td>0.365009</td>\n",
       "      <td>1.177557</td>\n",
       "      <td>0.348856</td>\n",
       "    </tr>\n",
       "    <tr>\n",
       "      <th>BaselTMA_SP41_186_X5Y4_81</th>\n",
       "      <td>0.059951</td>\n",
       "      <td>0.134470</td>\n",
       "      <td>0.221244</td>\n",
       "      <td>0.274785</td>\n",
       "      <td>0.208729</td>\n",
       "      <td>0.135436</td>\n",
       "      <td>0.077261</td>\n",
       "      <td>0.000000</td>\n",
       "      <td>0.189407</td>\n",
       "      <td>0.641423</td>\n",
       "      <td>1.245855</td>\n",
       "      <td>0.533833</td>\n",
       "      <td>1.416771</td>\n",
       "      <td>0.227261</td>\n",
       "    </tr>\n",
       "  </tbody>\n",
       "</table>\n",
       "<p>100 rows × 14 columns</p>\n",
       "</div>"
      ],
      "text/plain": [
       "                                  CD20       CD3      CD45      CD68  \\\n",
       "BaselTMA_SP41_186_X5Y4_3679   0.097649  0.095675  0.205167  1.088442   \n",
       "BaselTMA_SP41_153_X7Y5_246    0.102680  0.017483  0.066280  0.189212   \n",
       "BaselTMA_SP41_20_X12Y5_197    0.048608  0.090130  0.263304  0.458452   \n",
       "BaselTMA_SP41_14_X1Y8_84      0.023967  0.131415  0.474333  0.399435   \n",
       "BaselTMA_SP41_166_X15Y4_266   0.129774  0.105910  0.462647  0.712933   \n",
       "...                                ...       ...       ...       ...   \n",
       "BaselTMA_SP41_114_X13Y4_1057  0.170582  0.048070  0.141386  0.259461   \n",
       "BaselTMA_SP41_141_X11Y2_2596  0.095605  0.023722  0.025290  0.087484   \n",
       "BaselTMA_SP41_100_X15Y5_170   0.067194  0.011789  0.083286  0.430644   \n",
       "BaselTMA_SP41_14_X1Y8_2604    0.088875  0.119244  0.214675  1.087602   \n",
       "BaselTMA_SP41_186_X5Y4_81     0.059951  0.134470  0.221244  0.274785   \n",
       "\n",
       "                              Cytokeratin 14  Cytokeratin 19  Cytokeratin 5  \\\n",
       "BaselTMA_SP41_186_X5Y4_3679         0.178283        0.174729       0.091013   \n",
       "BaselTMA_SP41_153_X7Y5_246          0.210952        0.522274       0.116921   \n",
       "BaselTMA_SP41_20_X12Y5_197          0.070148        0.109732       0.051405   \n",
       "BaselTMA_SP41_14_X1Y8_84            0.153462        0.502073       0.089248   \n",
       "BaselTMA_SP41_166_X15Y4_266         0.150741        0.082718       0.062548   \n",
       "...                                      ...             ...            ...   \n",
       "BaselTMA_SP41_114_X13Y4_1057        0.141473        0.161365       0.102894   \n",
       "BaselTMA_SP41_141_X11Y2_2596        0.048787        0.280761       0.080535   \n",
       "BaselTMA_SP41_100_X15Y5_170         0.036458        0.278524       0.092120   \n",
       "BaselTMA_SP41_14_X1Y8_2604          0.158042        0.124483       0.054250   \n",
       "BaselTMA_SP41_186_X5Y4_81           0.208729        0.135436       0.077261   \n",
       "\n",
       "                              Cytokeratin 7  Cytokeratin 8/18  E-Cadherin  \\\n",
       "BaselTMA_SP41_186_X5Y4_3679        0.055482          0.379148    0.661839   \n",
       "BaselTMA_SP41_153_X7Y5_246         0.395637          0.324087    0.860729   \n",
       "BaselTMA_SP41_20_X12Y5_197         0.035246          0.020086    0.163276   \n",
       "BaselTMA_SP41_14_X1Y8_84           0.301363          0.644158    0.752441   \n",
       "BaselTMA_SP41_166_X15Y4_266        0.009581          0.045898    0.338295   \n",
       "...                                     ...               ...         ...   \n",
       "BaselTMA_SP41_114_X13Y4_1057       0.021311          0.188425    1.137875   \n",
       "BaselTMA_SP41_141_X11Y2_2596       0.067310          0.478848    0.969791   \n",
       "BaselTMA_SP41_100_X15Y5_170        0.000000          0.528535    0.621458   \n",
       "BaselTMA_SP41_14_X1Y8_2604         0.079120          0.120780    0.426662   \n",
       "BaselTMA_SP41_186_X5Y4_81          0.000000          0.189407    0.641423   \n",
       "\n",
       "                              Fibronectin      Her2  Vimentin  pan Cytokeratin  \n",
       "BaselTMA_SP41_186_X5Y4_3679      1.040243  0.476044  1.167855         0.571743  \n",
       "BaselTMA_SP41_153_X7Y5_246       0.800653  0.723787  0.407215         1.602060  \n",
       "BaselTMA_SP41_20_X12Y5_197       1.170164  0.148536  0.593461         0.046979  \n",
       "BaselTMA_SP41_14_X1Y8_84         0.876614  0.757740  1.008868         1.070596  \n",
       "BaselTMA_SP41_166_X15Y4_266      1.300177  0.443684  0.978171         0.522955  \n",
       "...                                   ...       ...       ...              ...  \n",
       "BaselTMA_SP41_114_X13Y4_1057     0.556129  0.900383  0.067333         0.980828  \n",
       "BaselTMA_SP41_141_X11Y2_2596     0.621092  0.581865  0.000000         1.276628  \n",
       "BaselTMA_SP41_100_X15Y5_170      1.002405  0.370658  0.564898         0.913223  \n",
       "BaselTMA_SP41_14_X1Y8_2604       1.064404  0.365009  1.177557         0.348856  \n",
       "BaselTMA_SP41_186_X5Y4_81        1.245855  0.533833  1.416771         0.227261  \n",
       "\n",
       "[100 rows x 14 columns]"
      ]
     },
     "execution_count": 56,
     "metadata": {},
     "output_type": "execute_result"
    }
   ],
   "source": [
    "ast.get_type_dataset().get_exprs_df()"
   ]
  },
  {
   "cell_type": "markdown",
   "metadata": {
    "pycharm": {
     "name": "#%%\n"
    }
   },
   "source": [
    "## 6. Saving models"
   ]
  },
  {
   "cell_type": "markdown",
   "metadata": {
    "pycharm": {
     "name": "#%%\n"
    }
   },
   "source": [
    "After fixing the models, we can save the cell type/state assignment, the losses, the parameters (e.g. `mu`, `rho`, `log_sigma`, etc) and the run informations (e.g. `batch_size`, `learning_rate`, `delta_loss`, etc) to an hdf5 file."
   ]
  },
  {
   "cell_type": "code",
   "execution_count": 56,
   "metadata": {
    "pycharm": {
     "name": "#%%\n"
    }
   },
   "outputs": [],
   "source": [
    "ast.save_models(\"astir_summary.hdf5\")"
   ]
  },
  {
   "cell_type": "markdown",
   "metadata": {},
   "source": [
    "The hierarchy of the hdf5 file would be:\n",
    "\n",
    "\n",
    "`/`\n",
    "\n",
    "`/cellstate_model`\n",
    "\n",
    "\n",
    "`/cellstate_model/cellstate_assignments`\n",
    "\n",
    "\n",
    "`/cellstate_model/losses`\n",
    "\n",
    "`/cellstate_model/losses/losses`\n",
    "\n",
    "\n",
    "`/cellstate_model/parameters`\n",
    "\n",
    "`/cellstate_model/parameters/log_sigma`\n",
    "\n",
    "`/cellstate_model/parameters/log_w`\n",
    "\n",
    "`/cellstate_model/parameters/mu`\n",
    "\n",
    "`/cellstate_model/parameters/rho`\n",
    "\n",
    "\n",
    "`/cellstate_model/run_info`\n",
    "\n",
    "`/cellstate_model/run_info/batch_size`\n",
    "\n",
    "`/cellstate_model/run_info/delta_loss`\n",
    "\n",
    "`/cellstate_model/run_info/learning_rate`\n",
    "\n",
    "`/cellstate_model/run_info/max_epochs`\n",
    "\n",
    "`/cellstate_model/run_info/n_init`\n",
    "\n",
    "`/cellstate_model/run_info/n_init_epochs`\n",
    "\n",
    "`/cellstate_model/run_info/delta_loss_batch`\n",
    "\n",
    "\n",
    "\n",
    "`/celltype_model`\n",
    "\n",
    "`/celltype_model/celltype_assignments`\n",
    "\n",
    "\n",
    "`/celltype_model/parameters/log_alpha`\n",
    "\n",
    "`/celltype_model/parameters/log_sigma`\n",
    "\n",
    "`/celltype_model/parameters/mu`\n",
    "\n",
    "`/celltype_model/parameters/p`\n",
    "\n",
    "`/celltype_model/parameters/rho`\n",
    "\n",
    "\n",
    "`/celltype_model/run_info`\n",
    "\n",
    "`/celltype_model/run_info/batch_size`\n",
    "\n",
    "`/celltype_model/run_info/delta_loss`\n",
    "\n",
    "`/celltype_model/run_info/learning_rate`\n",
    "\n",
    "`/celltype_model/run_info/max_epochs`\n",
    "\n",
    "`/celltype_model/run_info/n_init`\n",
    "\n",
    "`/celltype_model/run_info/n_init_epochs`\n"
   ]
  },
  {
   "cell_type": "markdown",
   "metadata": {},
   "source": [
    "Only the model that is trained will be saved (`CellTypeModel` or `CellStateModel` or both). If the functioned is called before any model is trained, exception will be raised. Data saved in the file is either `int` or `np.array`."
   ]
  },
  {
   "cell_type": "code",
   "execution_count": null,
   "metadata": {},
   "outputs": [],
   "source": []
  },
  {
   "cell_type": "code",
   "execution_count": null,
   "metadata": {},
   "outputs": [],
   "source": []
  },
  {
   "cell_type": "code",
   "execution_count": null,
   "metadata": {},
   "outputs": [],
   "source": []
  }
 ],
 "metadata": {
  "kernelspec": {
   "display_name": "Python 3",
   "language": "python",
   "name": "python3"
  },
  "language_info": {
   "codemirror_mode": {
    "name": "ipython",
    "version": 3
   },
   "file_extension": ".py",
   "mimetype": "text/x-python",
   "name": "python",
   "nbconvert_exporter": "python",
   "pygments_lexer": "ipython3",
   "version": "3.7.6"
  }
 },
 "nbformat": 4,
 "nbformat_minor": 4
}

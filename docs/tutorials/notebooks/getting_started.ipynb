{
 "cells": [
  {
   "cell_type": "markdown",
   "metadata": {},
   "source": [
    "# Getting started with astir"
   ]
  },
  {
   "cell_type": "markdown",
   "metadata": {},
   "source": [
    "## 0. Load necessary libraries"
   ]
  },
  {
   "cell_type": "code",
   "execution_count": 28,
   "metadata": {},
   "outputs": [],
   "source": [
    "from astir.data_readers import from_csv_yaml\n",
    "import pandas as pd"
   ]
  },
  {
   "cell_type": "markdown",
   "metadata": {},
   "source": [
    "## 1. Load data"
   ]
  },
  {
   "cell_type": "markdown",
   "metadata": {},
   "source": [
    "We start by reading expression data in the form of a csv file and marker gene information in the form of a yaml file:"
   ]
  },
  {
   "cell_type": "code",
   "execution_count": 29,
   "metadata": {},
   "outputs": [],
   "source": [
    "expression_mat_path = \"../../../astir/tests/test-data/sce.csv\"\n",
    "yaml_marker_path = \"../../../astir/tests/test-data/jackson-2020-markers.yml\""
   ]
  },
  {
   "cell_type": "markdown",
   "metadata": {},
   "source": [
    ".. note:: \n",
    "    Expression data should already be cleaned and normalized, through e.g. a log transformation and winsorization."
   ]
  },
  {
   "cell_type": "markdown",
   "metadata": {},
   "source": [
    "We can view both the expression data and marker data:"
   ]
  },
  {
   "cell_type": "code",
   "execution_count": 30,
   "metadata": {},
   "outputs": [
    {
     "name": "stdout",
     "output_type": "stream",
     "text": [
      "\r\n",
      "cell_states:\r\n",
      "  RTK_signalling:\r\n",
      "    - Her2\r\n",
      "    - EGFR\r\n",
      "  proliferation:\r\n",
      "    - Ki-67\r\n",
      "    - phospho Histone\r\n",
      "  mTOR_signalling:\r\n",
      "    - phospho mTOR\r\n",
      "    - phospho S6\r\n",
      "  apoptosis:\r\n",
      "    - cleaved PARP\r\n",
      "    - Cleaved Caspase3\r\n",
      "\r\n",
      "cell_types:\r\n",
      "  Stromal:\r\n",
      "    - Vimentin\r\n",
      "    - Fibronectin\r\n",
      "  B cells:\r\n"
     ]
    }
   ],
   "source": [
    "!head -n 20 ../../../astir/tests/test-data/jackson-2020-markers.yml"
   ]
  },
  {
   "cell_type": "code",
   "execution_count": 31,
   "metadata": {},
   "outputs": [
    {
     "data": {
      "text/html": [
       "<div>\n",
       "<style scoped>\n",
       "    .dataframe tbody tr th:only-of-type {\n",
       "        vertical-align: middle;\n",
       "    }\n",
       "\n",
       "    .dataframe tbody tr th {\n",
       "        vertical-align: top;\n",
       "    }\n",
       "\n",
       "    .dataframe thead th {\n",
       "        text-align: right;\n",
       "    }\n",
       "</style>\n",
       "<table border=\"1\" class=\"dataframe\">\n",
       "  <thead>\n",
       "    <tr style=\"text-align: right;\">\n",
       "      <th></th>\n",
       "      <th>EGFR</th>\n",
       "      <th>E-Cadherin</th>\n",
       "      <th>CD45</th>\n",
       "      <th>Cytokeratin 5</th>\n",
       "    </tr>\n",
       "  </thead>\n",
       "  <tbody>\n",
       "    <tr>\n",
       "      <th>BaselTMA_SP41_186_X5Y4_3679</th>\n",
       "      <td>0.346787</td>\n",
       "      <td>0.938354</td>\n",
       "      <td>0.227730</td>\n",
       "      <td>0.095283</td>\n",
       "    </tr>\n",
       "    <tr>\n",
       "      <th>BaselTMA_SP41_153_X7Y5_246</th>\n",
       "      <td>0.833752</td>\n",
       "      <td>1.364884</td>\n",
       "      <td>0.068526</td>\n",
       "      <td>0.124031</td>\n",
       "    </tr>\n",
       "    <tr>\n",
       "      <th>BaselTMA_SP41_20_X12Y5_197</th>\n",
       "      <td>0.110006</td>\n",
       "      <td>0.177361</td>\n",
       "      <td>0.301222</td>\n",
       "      <td>0.052750</td>\n",
       "    </tr>\n",
       "    <tr>\n",
       "      <th>BaselTMA_SP41_14_X1Y8_84</th>\n",
       "      <td>0.282666</td>\n",
       "      <td>1.122174</td>\n",
       "      <td>0.606941</td>\n",
       "      <td>0.093352</td>\n",
       "    </tr>\n",
       "    <tr>\n",
       "      <th>BaselTMA_SP41_166_X15Y4_266</th>\n",
       "      <td>0.209066</td>\n",
       "      <td>0.402554</td>\n",
       "      <td>0.588273</td>\n",
       "      <td>0.064545</td>\n",
       "    </tr>\n",
       "  </tbody>\n",
       "</table>\n",
       "</div>"
      ],
      "text/plain": [
       "                                 EGFR  E-Cadherin      CD45  Cytokeratin 5\n",
       "BaselTMA_SP41_186_X5Y4_3679  0.346787    0.938354  0.227730       0.095283\n",
       "BaselTMA_SP41_153_X7Y5_246   0.833752    1.364884  0.068526       0.124031\n",
       "BaselTMA_SP41_20_X12Y5_197   0.110006    0.177361  0.301222       0.052750\n",
       "BaselTMA_SP41_14_X1Y8_84     0.282666    1.122174  0.606941       0.093352\n",
       "BaselTMA_SP41_166_X15Y4_266  0.209066    0.402554  0.588273       0.064545"
      ]
     },
     "execution_count": 31,
     "metadata": {},
     "output_type": "execute_result"
    }
   ],
   "source": [
    "pd.read_csv(expression_mat_path, index_col=0)[['EGFR','E-Cadherin', 'CD45', 'Cytokeratin 5']].head()"
   ]
  },
  {
   "cell_type": "markdown",
   "metadata": {},
   "source": [
    "Then we can create an astir object using the `from_csv_yaml` function. For more data loading options, see the data loading tutorial."
   ]
  },
  {
   "cell_type": "code",
   "execution_count": 32,
   "metadata": {},
   "outputs": [
    {
     "name": "stdout",
     "output_type": "stream",
     "text": [
      "Astir object with 6 columns of cell types, 4 columns of cell states and 100 rows.\n"
     ]
    }
   ],
   "source": [
    "ast = from_csv_yaml(expression_mat_path, marker_yaml=yaml_marker_path)\n",
    "print(ast)"
   ]
  },
  {
   "cell_type": "markdown",
   "metadata": {},
   "source": [
    "## 2. Fitting cell types"
   ]
  },
  {
   "cell_type": "markdown",
   "metadata": {},
   "source": [
    "To fit cell types, simply call"
   ]
  },
  {
   "cell_type": "code",
   "execution_count": 33,
   "metadata": {},
   "outputs": [
    {
     "name": "stderr",
     "output_type": "stream",
     "text": [
      "\r",
      "training astir:   0%|          | 0/10 [00:00<?, ?epochs/s]"
     ]
    },
    {
     "name": "stdout",
     "output_type": "stream",
     "text": [
      "---------- 1/5 Cell Type Classification ----------\n"
     ]
    },
    {
     "name": "stderr",
     "output_type": "stream",
     "text": [
      "training astir: 100%|██████████| 10/10 [00:00<00:00, 49.98epochs/s]\n",
      "training astir: 100%|██████████| 10/10 [00:00<00:00, 61.60epochs/s]\n",
      "training astir:   0%|          | 0/10 [00:00<?, ?epochs/s]"
     ]
    },
    {
     "name": "stdout",
     "output_type": "stream",
     "text": [
      "Done!\n",
      "---------- 2/5 Cell Type Classification ----------\n",
      "Done!\n",
      "---------- 3/5 Cell Type Classification ----------\n"
     ]
    },
    {
     "name": "stderr",
     "output_type": "stream",
     "text": [
      "training astir: 100%|██████████| 10/10 [00:00<00:00, 50.30epochs/s]\n",
      "training astir: 100%|██████████| 10/10 [00:00<00:00, 58.09epochs/s]\n",
      "training astir:   0%|          | 0/10 [00:00<?, ?epochs/s]"
     ]
    },
    {
     "name": "stdout",
     "output_type": "stream",
     "text": [
      "Done!\n",
      "---------- 4/5 Cell Type Classification ----------\n",
      "Done!\n",
      "---------- 5/5 Cell Type Classification ----------\n"
     ]
    },
    {
     "name": "stderr",
     "output_type": "stream",
     "text": [
      "training astir: 100%|██████████| 10/10 [00:00<00:00, 57.31epochs/s]"
     ]
    },
    {
     "name": "stdout",
     "output_type": "stream",
     "text": [
      "Done!\n"
     ]
    },
    {
     "name": "stderr",
     "output_type": "stream",
     "text": [
      "\n",
      "/Users/kierancampbell/toronto/astir/astir/astir.py:164: UserWarning: Maximum epochs reached. More iteration may be needed to complete the training.\n",
      "  warnings.warn(msg)\n"
     ]
    }
   ],
   "source": [
    "ast.fit_type()"
   ]
  },
  {
   "cell_type": "markdown",
   "metadata": {},
   "source": [
    ".. note:: \n",
    "    **Controlling inference**\n",
    "    There are many different options for controlling inference in the `fit_type` function, including\n",
    "    `max_epochs` (maximum number of epochs to train),\n",
    "    `learning_rate` (ADAM optimizer learning rate),\n",
    "    `batch_size` (minibatch size),\n",
    "    `delta_loss` (stops iteration once the change in loss falls below this value),\n",
    "    `n_inits` (number of restarts using random initializations).\n",
    "    For full details, see the function documentation."
   ]
  },
  {
   "cell_type": "markdown",
   "metadata": {},
   "source": [
    "We can then get cell type assignment probabilities by calling"
   ]
  },
  {
   "cell_type": "code",
   "execution_count": 34,
   "metadata": {},
   "outputs": [
    {
     "data": {
      "text/html": [
       "<div>\n",
       "<style scoped>\n",
       "    .dataframe tbody tr th:only-of-type {\n",
       "        vertical-align: middle;\n",
       "    }\n",
       "\n",
       "    .dataframe tbody tr th {\n",
       "        vertical-align: top;\n",
       "    }\n",
       "\n",
       "    .dataframe thead th {\n",
       "        text-align: right;\n",
       "    }\n",
       "</style>\n",
       "<table border=\"1\" class=\"dataframe\">\n",
       "  <thead>\n",
       "    <tr style=\"text-align: right;\">\n",
       "      <th></th>\n",
       "      <th>Stromal</th>\n",
       "      <th>B cells</th>\n",
       "      <th>T cells</th>\n",
       "      <th>Macrophage</th>\n",
       "      <th>Epithelial (basal)</th>\n",
       "      <th>Epithelial (luminal)</th>\n",
       "      <th>Other</th>\n",
       "    </tr>\n",
       "  </thead>\n",
       "  <tbody>\n",
       "    <tr>\n",
       "      <th>BaselTMA_SP41_186_X5Y4_3679</th>\n",
       "      <td>0.218146</td>\n",
       "      <td>0.260286</td>\n",
       "      <td>0.078100</td>\n",
       "      <td>0.300784</td>\n",
       "      <td>0.020030</td>\n",
       "      <td>0.009929</td>\n",
       "      <td>0.112726</td>\n",
       "    </tr>\n",
       "    <tr>\n",
       "      <th>BaselTMA_SP41_153_X7Y5_246</th>\n",
       "      <td>0.007433</td>\n",
       "      <td>0.037888</td>\n",
       "      <td>0.013495</td>\n",
       "      <td>0.019616</td>\n",
       "      <td>0.171420</td>\n",
       "      <td>0.721267</td>\n",
       "      <td>0.028881</td>\n",
       "    </tr>\n",
       "    <tr>\n",
       "      <th>BaselTMA_SP41_20_X12Y5_197</th>\n",
       "      <td>0.323534</td>\n",
       "      <td>0.161405</td>\n",
       "      <td>0.194188</td>\n",
       "      <td>0.204150</td>\n",
       "      <td>0.014537</td>\n",
       "      <td>0.003601</td>\n",
       "      <td>0.098586</td>\n",
       "    </tr>\n",
       "    <tr>\n",
       "      <th>BaselTMA_SP41_14_X1Y8_84</th>\n",
       "      <td>0.114065</td>\n",
       "      <td>0.185562</td>\n",
       "      <td>0.170916</td>\n",
       "      <td>0.125238</td>\n",
       "      <td>0.089930</td>\n",
       "      <td>0.239260</td>\n",
       "      <td>0.075029</td>\n",
       "    </tr>\n",
       "    <tr>\n",
       "      <th>BaselTMA_SP41_166_X15Y4_266</th>\n",
       "      <td>0.307228</td>\n",
       "      <td>0.243561</td>\n",
       "      <td>0.163690</td>\n",
       "      <td>0.217983</td>\n",
       "      <td>0.010894</td>\n",
       "      <td>0.004304</td>\n",
       "      <td>0.052340</td>\n",
       "    </tr>\n",
       "    <tr>\n",
       "      <th>...</th>\n",
       "      <td>...</td>\n",
       "      <td>...</td>\n",
       "      <td>...</td>\n",
       "      <td>...</td>\n",
       "      <td>...</td>\n",
       "      <td>...</td>\n",
       "      <td>...</td>\n",
       "    </tr>\n",
       "    <tr>\n",
       "      <th>BaselTMA_SP41_114_X13Y4_1057</th>\n",
       "      <td>0.019108</td>\n",
       "      <td>0.071844</td>\n",
       "      <td>0.034305</td>\n",
       "      <td>0.040122</td>\n",
       "      <td>0.172589</td>\n",
       "      <td>0.621588</td>\n",
       "      <td>0.040443</td>\n",
       "    </tr>\n",
       "    <tr>\n",
       "      <th>BaselTMA_SP41_141_X11Y2_2596</th>\n",
       "      <td>0.016712</td>\n",
       "      <td>0.061177</td>\n",
       "      <td>0.028747</td>\n",
       "      <td>0.035444</td>\n",
       "      <td>0.171387</td>\n",
       "      <td>0.639128</td>\n",
       "      <td>0.047405</td>\n",
       "    </tr>\n",
       "    <tr>\n",
       "      <th>BaselTMA_SP41_100_X15Y5_170</th>\n",
       "      <td>0.169132</td>\n",
       "      <td>0.199137</td>\n",
       "      <td>0.129711</td>\n",
       "      <td>0.207781</td>\n",
       "      <td>0.061975</td>\n",
       "      <td>0.070236</td>\n",
       "      <td>0.162027</td>\n",
       "    </tr>\n",
       "    <tr>\n",
       "      <th>BaselTMA_SP41_14_X1Y8_2604</th>\n",
       "      <td>0.251748</td>\n",
       "      <td>0.244889</td>\n",
       "      <td>0.077674</td>\n",
       "      <td>0.311692</td>\n",
       "      <td>0.012417</td>\n",
       "      <td>0.003847</td>\n",
       "      <td>0.097733</td>\n",
       "    </tr>\n",
       "    <tr>\n",
       "      <th>BaselTMA_SP41_186_X5Y4_81</th>\n",
       "      <td>0.276910</td>\n",
       "      <td>0.129664</td>\n",
       "      <td>0.359608</td>\n",
       "      <td>0.130367</td>\n",
       "      <td>0.022279</td>\n",
       "      <td>0.010764</td>\n",
       "      <td>0.070409</td>\n",
       "    </tr>\n",
       "  </tbody>\n",
       "</table>\n",
       "<p>100 rows × 7 columns</p>\n",
       "</div>"
      ],
      "text/plain": [
       "                               Stromal   B cells   T cells  Macrophage  \\\n",
       "BaselTMA_SP41_186_X5Y4_3679   0.218146  0.260286  0.078100    0.300784   \n",
       "BaselTMA_SP41_153_X7Y5_246    0.007433  0.037888  0.013495    0.019616   \n",
       "BaselTMA_SP41_20_X12Y5_197    0.323534  0.161405  0.194188    0.204150   \n",
       "BaselTMA_SP41_14_X1Y8_84      0.114065  0.185562  0.170916    0.125238   \n",
       "BaselTMA_SP41_166_X15Y4_266   0.307228  0.243561  0.163690    0.217983   \n",
       "...                                ...       ...       ...         ...   \n",
       "BaselTMA_SP41_114_X13Y4_1057  0.019108  0.071844  0.034305    0.040122   \n",
       "BaselTMA_SP41_141_X11Y2_2596  0.016712  0.061177  0.028747    0.035444   \n",
       "BaselTMA_SP41_100_X15Y5_170   0.169132  0.199137  0.129711    0.207781   \n",
       "BaselTMA_SP41_14_X1Y8_2604    0.251748  0.244889  0.077674    0.311692   \n",
       "BaselTMA_SP41_186_X5Y4_81     0.276910  0.129664  0.359608    0.130367   \n",
       "\n",
       "                              Epithelial (basal)  Epithelial (luminal)  \\\n",
       "BaselTMA_SP41_186_X5Y4_3679             0.020030              0.009929   \n",
       "BaselTMA_SP41_153_X7Y5_246              0.171420              0.721267   \n",
       "BaselTMA_SP41_20_X12Y5_197              0.014537              0.003601   \n",
       "BaselTMA_SP41_14_X1Y8_84                0.089930              0.239260   \n",
       "BaselTMA_SP41_166_X15Y4_266             0.010894              0.004304   \n",
       "...                                          ...                   ...   \n",
       "BaselTMA_SP41_114_X13Y4_1057            0.172589              0.621588   \n",
       "BaselTMA_SP41_141_X11Y2_2596            0.171387              0.639128   \n",
       "BaselTMA_SP41_100_X15Y5_170             0.061975              0.070236   \n",
       "BaselTMA_SP41_14_X1Y8_2604              0.012417              0.003847   \n",
       "BaselTMA_SP41_186_X5Y4_81               0.022279              0.010764   \n",
       "\n",
       "                                 Other  \n",
       "BaselTMA_SP41_186_X5Y4_3679   0.112726  \n",
       "BaselTMA_SP41_153_X7Y5_246    0.028881  \n",
       "BaselTMA_SP41_20_X12Y5_197    0.098586  \n",
       "BaselTMA_SP41_14_X1Y8_84      0.075029  \n",
       "BaselTMA_SP41_166_X15Y4_266   0.052340  \n",
       "...                                ...  \n",
       "BaselTMA_SP41_114_X13Y4_1057  0.040443  \n",
       "BaselTMA_SP41_141_X11Y2_2596  0.047405  \n",
       "BaselTMA_SP41_100_X15Y5_170   0.162027  \n",
       "BaselTMA_SP41_14_X1Y8_2604    0.097733  \n",
       "BaselTMA_SP41_186_X5Y4_81     0.070409  \n",
       "\n",
       "[100 rows x 7 columns]"
      ]
     },
     "execution_count": 34,
     "metadata": {},
     "output_type": "execute_result"
    }
   ],
   "source": [
    "assignments = ast.get_celltype_probabilities()\n",
    "assignments"
   ]
  },
  {
   "cell_type": "markdown",
   "metadata": {},
   "source": [
    "where each row corresponds to a cell, and each column to a cell type, with the entry being the probability of that cell belonging to a particular cell type.\n",
    "\n",
    "To fetch an array corresponding to the most likely cell type assignments, call"
   ]
  },
  {
   "cell_type": "code",
   "execution_count": 35,
   "metadata": {},
   "outputs": [],
   "source": [
    "# TODO"
   ]
  },
  {
   "cell_type": "markdown",
   "metadata": {},
   "source": [
    "## 3. Fitting cell state"
   ]
  },
  {
   "cell_type": "markdown",
   "metadata": {},
   "source": [
    "Similarly as before, to fit cell state, call"
   ]
  },
  {
   "cell_type": "code",
   "execution_count": 36,
   "metadata": {},
   "outputs": [
    {
     "name": "stderr",
     "output_type": "stream",
     "text": [
      "training astir: 100%|██████████| 100/100 [00:00<00:00, 733.79epochs/s]\n",
      "training astir:   0%|          | 0/100 [00:00<?, ?epochs/s]"
     ]
    },
    {
     "name": "stdout",
     "output_type": "stream",
     "text": [
      "---------- 1/5 Cell State Classification ----------\n",
      "---------- 2/5 Cell State Classification ----------\n"
     ]
    },
    {
     "name": "stderr",
     "output_type": "stream",
     "text": [
      "training astir: 100%|██████████| 100/100 [00:00<00:00, 862.17epochs/s]\n",
      "training astir: 100%|██████████| 100/100 [00:00<00:00, 748.04epochs/s]\n",
      "training astir:   0%|          | 0/100 [00:00<?, ?epochs/s]"
     ]
    },
    {
     "name": "stdout",
     "output_type": "stream",
     "text": [
      "---------- 3/5 Cell State Classification ----------\n",
      "---------- 4/5 Cell State Classification ----------\n"
     ]
    },
    {
     "name": "stderr",
     "output_type": "stream",
     "text": [
      "training astir: 100%|██████████| 100/100 [00:00<00:00, 812.77epochs/s]\n",
      "training astir: 100%|██████████| 100/100 [00:00<00:00, 863.41epochs/s]\n",
      "/Users/kierancampbell/toronto/astir/astir/models/cellstate.py:134: UserWarning: Delta loss batch size is greater than the number of epochs\n",
      "  warnings.warn(\"Delta loss batch size is greater than the number of epochs\")\n",
      "training astir: 0epochs [00:00, ?epochs/s]"
     ]
    },
    {
     "name": "stdout",
     "output_type": "stream",
     "text": [
      "---------- 5/5 Cell State Classification ----------\n"
     ]
    },
    {
     "name": "stderr",
     "output_type": "stream",
     "text": [
      "\n",
      "/Users/kierancampbell/toronto/astir/astir/astir.py:250: UserWarning: Maximum epochs reached. More iteration may be needed to complete the training.\n",
      "  warnings.warn(msg)\n"
     ]
    }
   ],
   "source": [
    "ast.fit_state()"
   ]
  },
  {
   "cell_type": "markdown",
   "metadata": {},
   "source": [
    "and cell state assignments can be inferred via"
   ]
  },
  {
   "cell_type": "code",
   "execution_count": 37,
   "metadata": {},
   "outputs": [
    {
     "data": {
      "text/html": [
       "<div>\n",
       "<style scoped>\n",
       "    .dataframe tbody tr th:only-of-type {\n",
       "        vertical-align: middle;\n",
       "    }\n",
       "\n",
       "    .dataframe tbody tr th {\n",
       "        vertical-align: top;\n",
       "    }\n",
       "\n",
       "    .dataframe thead th {\n",
       "        text-align: right;\n",
       "    }\n",
       "</style>\n",
       "<table border=\"1\" class=\"dataframe\">\n",
       "  <thead>\n",
       "    <tr style=\"text-align: right;\">\n",
       "      <th></th>\n",
       "      <th>RTK_signalling</th>\n",
       "      <th>proliferation</th>\n",
       "      <th>mTOR_signalling</th>\n",
       "      <th>apoptosis</th>\n",
       "    </tr>\n",
       "  </thead>\n",
       "  <tbody>\n",
       "    <tr>\n",
       "      <th>BaselTMA_SP41_186_X5Y4_3679</th>\n",
       "      <td>-0.055859</td>\n",
       "      <td>-0.248295</td>\n",
       "      <td>0.081537</td>\n",
       "      <td>-0.440844</td>\n",
       "    </tr>\n",
       "    <tr>\n",
       "      <th>BaselTMA_SP41_153_X7Y5_246</th>\n",
       "      <td>0.026950</td>\n",
       "      <td>0.334187</td>\n",
       "      <td>-0.029829</td>\n",
       "      <td>-0.233749</td>\n",
       "    </tr>\n",
       "    <tr>\n",
       "      <th>BaselTMA_SP41_20_X12Y5_197</th>\n",
       "      <td>-0.107626</td>\n",
       "      <td>0.441981</td>\n",
       "      <td>-0.379208</td>\n",
       "      <td>-0.184434</td>\n",
       "    </tr>\n",
       "    <tr>\n",
       "      <th>BaselTMA_SP41_14_X1Y8_84</th>\n",
       "      <td>-0.171197</td>\n",
       "      <td>-0.700986</td>\n",
       "      <td>0.160324</td>\n",
       "      <td>-0.510929</td>\n",
       "    </tr>\n",
       "    <tr>\n",
       "      <th>BaselTMA_SP41_166_X15Y4_266</th>\n",
       "      <td>0.399416</td>\n",
       "      <td>-0.046144</td>\n",
       "      <td>-0.352460</td>\n",
       "      <td>-0.801181</td>\n",
       "    </tr>\n",
       "    <tr>\n",
       "      <th>...</th>\n",
       "      <td>...</td>\n",
       "      <td>...</td>\n",
       "      <td>...</td>\n",
       "      <td>...</td>\n",
       "    </tr>\n",
       "    <tr>\n",
       "      <th>BaselTMA_SP41_114_X13Y4_1057</th>\n",
       "      <td>0.602089</td>\n",
       "      <td>-0.176759</td>\n",
       "      <td>0.170743</td>\n",
       "      <td>0.660372</td>\n",
       "    </tr>\n",
       "    <tr>\n",
       "      <th>BaselTMA_SP41_141_X11Y2_2596</th>\n",
       "      <td>-0.267246</td>\n",
       "      <td>1.100570</td>\n",
       "      <td>-0.607341</td>\n",
       "      <td>-0.432088</td>\n",
       "    </tr>\n",
       "    <tr>\n",
       "      <th>BaselTMA_SP41_100_X15Y5_170</th>\n",
       "      <td>-0.506588</td>\n",
       "      <td>-0.183379</td>\n",
       "      <td>0.653195</td>\n",
       "      <td>-1.094012</td>\n",
       "    </tr>\n",
       "    <tr>\n",
       "      <th>BaselTMA_SP41_14_X1Y8_2604</th>\n",
       "      <td>-1.027609</td>\n",
       "      <td>0.369216</td>\n",
       "      <td>0.472711</td>\n",
       "      <td>-0.676119</td>\n",
       "    </tr>\n",
       "    <tr>\n",
       "      <th>BaselTMA_SP41_186_X5Y4_81</th>\n",
       "      <td>0.331450</td>\n",
       "      <td>0.271783</td>\n",
       "      <td>0.266387</td>\n",
       "      <td>-0.364559</td>\n",
       "    </tr>\n",
       "  </tbody>\n",
       "</table>\n",
       "<p>100 rows × 4 columns</p>\n",
       "</div>"
      ],
      "text/plain": [
       "                              RTK_signalling  proliferation  mTOR_signalling  \\\n",
       "BaselTMA_SP41_186_X5Y4_3679        -0.055859      -0.248295         0.081537   \n",
       "BaselTMA_SP41_153_X7Y5_246          0.026950       0.334187        -0.029829   \n",
       "BaselTMA_SP41_20_X12Y5_197         -0.107626       0.441981        -0.379208   \n",
       "BaselTMA_SP41_14_X1Y8_84           -0.171197      -0.700986         0.160324   \n",
       "BaselTMA_SP41_166_X15Y4_266         0.399416      -0.046144        -0.352460   \n",
       "...                                      ...            ...              ...   \n",
       "BaselTMA_SP41_114_X13Y4_1057        0.602089      -0.176759         0.170743   \n",
       "BaselTMA_SP41_141_X11Y2_2596       -0.267246       1.100570        -0.607341   \n",
       "BaselTMA_SP41_100_X15Y5_170        -0.506588      -0.183379         0.653195   \n",
       "BaselTMA_SP41_14_X1Y8_2604         -1.027609       0.369216         0.472711   \n",
       "BaselTMA_SP41_186_X5Y4_81           0.331450       0.271783         0.266387   \n",
       "\n",
       "                              apoptosis  \n",
       "BaselTMA_SP41_186_X5Y4_3679   -0.440844  \n",
       "BaselTMA_SP41_153_X7Y5_246    -0.233749  \n",
       "BaselTMA_SP41_20_X12Y5_197    -0.184434  \n",
       "BaselTMA_SP41_14_X1Y8_84      -0.510929  \n",
       "BaselTMA_SP41_166_X15Y4_266   -0.801181  \n",
       "...                                 ...  \n",
       "BaselTMA_SP41_114_X13Y4_1057   0.660372  \n",
       "BaselTMA_SP41_141_X11Y2_2596  -0.432088  \n",
       "BaselTMA_SP41_100_X15Y5_170   -1.094012  \n",
       "BaselTMA_SP41_14_X1Y8_2604    -0.676119  \n",
       "BaselTMA_SP41_186_X5Y4_81     -0.364559  \n",
       "\n",
       "[100 rows x 4 columns]"
      ]
     },
     "execution_count": 37,
     "metadata": {},
     "output_type": "execute_result"
    }
   ],
   "source": [
    "states = ast.get_cellstates()\n",
    "states"
   ]
  },
  {
   "cell_type": "markdown",
   "metadata": {},
   "source": [
    "## 4. Saving results"
   ]
  },
  {
   "cell_type": "markdown",
   "metadata": {},
   "source": [
    "Both cell type and cell state information can easily be saved to disk via"
   ]
  },
  {
   "cell_type": "code",
   "execution_count": 38,
   "metadata": {},
   "outputs": [],
   "source": [
    "ast.type_to_csv(\"cell-types.csv\")\n",
    "ast.state_to_csv(\"cell-states.csv\")"
   ]
  },
  {
   "cell_type": "code",
   "execution_count": 39,
   "metadata": {},
   "outputs": [
    {
     "name": "stdout",
     "output_type": "stream",
     "text": [
      ",Stromal,B cells,T cells,Macrophage,Epithelial (basal),Epithelial (luminal),Other\r\n",
      "BaselTMA_SP41_186_X5Y4_3679,0.2181457999075033,0.26028579493395343,0.0780996469571123,0.3007839852656864,0.02002957230964695,0.009929141071520391,0.11272605955457736\r\n",
      "BaselTMA_SP41_153_X7Y5_246,0.007432725661534547,0.03788808526809271,0.013495344143837877,0.01961641415481618,0.1714198088912464,0.721266630941644,0.028880990938828413\r\n"
     ]
    }
   ],
   "source": [
    "!head -n 3 cell-types.csv"
   ]
  },
  {
   "cell_type": "code",
   "execution_count": 40,
   "metadata": {},
   "outputs": [
    {
     "name": "stdout",
     "output_type": "stream",
     "text": [
      ",RTK_signalling,proliferation,mTOR_signalling,apoptosis\r\n",
      "BaselTMA_SP41_186_X5Y4_3679,-0.055859283,-0.24829505,0.08153685,-0.44084388\r\n",
      "BaselTMA_SP41_153_X7Y5_246,0.026950097,0.33418685,-0.029828804,-0.23374897\r\n"
     ]
    }
   ],
   "source": [
    "!head -n 3 cell-states.csv"
   ]
  },
  {
   "cell_type": "markdown",
   "metadata": {},
   "source": [
    "where the first (unnamed) column always corresponds to the cell name/ID."
   ]
  },
  {
   "cell_type": "markdown",
   "metadata": {},
   "source": [
    "## 5. Accessing internal functions and data"
   ]
  },
  {
   "cell_type": "markdown",
   "metadata": {},
   "source": [
    "Data stored in `astir` objects is in the form of an `SCDataSet`. These can be retrieved via"
   ]
  },
  {
   "cell_type": "code",
   "execution_count": 41,
   "metadata": {},
   "outputs": [
    {
     "data": {
      "text/plain": [
       "<astir.models.scdataset.SCDataset at 0x14461a7c0>"
      ]
     },
     "execution_count": 41,
     "metadata": {},
     "output_type": "execute_result"
    }
   ],
   "source": [
    "celltype_data = ast.get_type_dataset()\n",
    "celltype_data"
   ]
  },
  {
   "cell_type": "markdown",
   "metadata": {},
   "source": [
    "and similarly for cell state via `ast.get_state_dataset()`.\n",
    "\n",
    "These have several helper functions to retrieve relevant information to the dataset:"
   ]
  },
  {
   "cell_type": "code",
   "execution_count": 42,
   "metadata": {},
   "outputs": [
    {
     "data": {
      "text/plain": [
       "['BaselTMA_SP41_186_X5Y4_3679',\n",
       " 'BaselTMA_SP41_153_X7Y5_246',\n",
       " 'BaselTMA_SP41_20_X12Y5_197',\n",
       " 'BaselTMA_SP41_14_X1Y8_84']"
      ]
     },
     "execution_count": 42,
     "metadata": {},
     "output_type": "execute_result"
    }
   ],
   "source": [
    "celltype_data.get_cells()[0:4] # cell names"
   ]
  },
  {
   "cell_type": "code",
   "execution_count": 43,
   "metadata": {},
   "outputs": [
    {
     "data": {
      "text/plain": [
       "['Stromal',\n",
       " 'B cells',\n",
       " 'T cells',\n",
       " 'Macrophage',\n",
       " 'Epithelial (basal)',\n",
       " 'Epithelial (luminal)']"
      ]
     },
     "execution_count": 43,
     "metadata": {},
     "output_type": "execute_result"
    }
   ],
   "source": [
    "celltype_data.get_classes() # cell type names"
   ]
  },
  {
   "cell_type": "code",
   "execution_count": 44,
   "metadata": {},
   "outputs": [
    {
     "name": "stdout",
     "output_type": "stream",
     "text": [
      "6\n",
      "14\n"
     ]
    }
   ],
   "source": [
    "print(celltype_data.get_n_classes()) # number of cell types\n",
    "print(celltype_data.get_n_features()) # number of features / proteins"
   ]
  },
  {
   "cell_type": "code",
   "execution_count": 45,
   "metadata": {},
   "outputs": [
    {
     "data": {
      "text/plain": [
       "tensor([[0.2277, 0.0571, 2.2273,  ..., 2.2151, 0.0953, 0.1909],\n",
       "        [0.0685, 0.4853, 0.2083,  ..., 0.5026, 0.1240, 0.6859],\n",
       "        [0.3012, 0.0359, 0.5816,  ..., 0.8102, 0.0527, 0.1160],\n",
       "        ...,\n",
       "        [0.0869, 0.0000, 0.5382,  ..., 0.7593, 0.0965, 0.3212],\n",
       "        [0.2395, 0.0823, 1.9671,  ..., 2.2464, 0.0557, 0.1326],\n",
       "        [0.2476, 0.0000, 0.3162,  ..., 3.1238, 0.0803, 0.1450]],\n",
       "       dtype=torch.float64)"
      ]
     },
     "execution_count": 45,
     "metadata": {},
     "output_type": "execute_result"
    }
   ],
   "source": [
    "celltype_data.get_exprs() # Return a torch tensor corresponding to the expression data used"
   ]
  },
  {
   "cell_type": "code",
   "execution_count": null,
   "metadata": {},
   "outputs": [],
   "source": []
  },
  {
   "cell_type": "code",
   "execution_count": null,
   "metadata": {},
   "outputs": [],
   "source": []
  }
 ],
 "metadata": {
  "kernelspec": {
   "display_name": "Python 3",
   "language": "python",
   "name": "python3"
  },
  "language_info": {
   "codemirror_mode": {
    "name": "ipython",
    "version": 3
   },
   "file_extension": ".py",
   "mimetype": "text/x-python",
   "name": "python",
   "nbconvert_exporter": "python",
   "pygments_lexer": "ipython3",
   "version": "3.8.2"
  }
 },
 "nbformat": 4,
 "nbformat_minor": 4
}
